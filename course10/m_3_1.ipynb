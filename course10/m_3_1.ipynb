{
 "cells": [
  {
   "cell_type": "markdown",
   "id": "d3d7bb8d",
   "metadata": {},
   "source": [
    "Write a Python code that can perform the following tasks:\n",
    "1. Read the CSV file, located on a given file path, into a pandas data frame, assuming that the first row of the file can be used as the headers for the data.\n",
    "2. Print the first 5 rows of the dataframe to verify correct loading."
   ]
  },
  {
   "cell_type": "code",
   "execution_count": 1,
   "id": "4198eb3c",
   "metadata": {},
   "outputs": [],
   "source": [
    "import pandas as pd\n",
    "import numpy as np\n",
    "import matplotlib.pyplot as plt\n",
    "import seaborn as sns"
   ]
  },
  {
   "cell_type": "code",
   "execution_count": 2,
   "id": "b87b7f3d",
   "metadata": {},
   "outputs": [],
   "source": [
    "URL = \"https://cf-courses-data.s3.us.cloud-object-storage.appdomain.cloud/IBMSkillsNetwork-AI0272EN-SkillsNetwork/labs/dataset/2016.csv\""
   ]
  },
  {
   "cell_type": "code",
   "execution_count": 3,
   "id": "ce9d7f66",
   "metadata": {},
   "outputs": [
    {
     "data": {
      "text/html": [
       "<div>\n",
       "<style scoped>\n",
       "    .dataframe tbody tr th:only-of-type {\n",
       "        vertical-align: middle;\n",
       "    }\n",
       "\n",
       "    .dataframe tbody tr th {\n",
       "        vertical-align: top;\n",
       "    }\n",
       "\n",
       "    .dataframe thead th {\n",
       "        text-align: right;\n",
       "    }\n",
       "</style>\n",
       "<table border=\"1\" class=\"dataframe\">\n",
       "  <thead>\n",
       "    <tr style=\"text-align: right;\">\n",
       "      <th></th>\n",
       "      <th>Country</th>\n",
       "      <th>Region</th>\n",
       "      <th>Happiness Rank</th>\n",
       "      <th>Happiness Score</th>\n",
       "      <th>Lower Confidence Interval</th>\n",
       "      <th>Upper Confidence Interval</th>\n",
       "      <th>Economy (GDP per Capita)</th>\n",
       "      <th>Family</th>\n",
       "      <th>Health (Life Expectancy)</th>\n",
       "      <th>Freedom</th>\n",
       "      <th>Trust (Government Corruption)</th>\n",
       "      <th>Generosity</th>\n",
       "      <th>Dystopia Residual</th>\n",
       "    </tr>\n",
       "  </thead>\n",
       "  <tbody>\n",
       "    <tr>\n",
       "      <th>0</th>\n",
       "      <td>Denmark</td>\n",
       "      <td>Western Europe</td>\n",
       "      <td>1</td>\n",
       "      <td>7.526</td>\n",
       "      <td>7.460</td>\n",
       "      <td>7.592</td>\n",
       "      <td>1.44178</td>\n",
       "      <td>1.16374</td>\n",
       "      <td>0.79504</td>\n",
       "      <td>0.57941</td>\n",
       "      <td>0.44453</td>\n",
       "      <td>0.36171</td>\n",
       "      <td>2.73939</td>\n",
       "    </tr>\n",
       "    <tr>\n",
       "      <th>1</th>\n",
       "      <td>Switzerland</td>\n",
       "      <td>Western Europe</td>\n",
       "      <td>2</td>\n",
       "      <td>7.509</td>\n",
       "      <td>7.428</td>\n",
       "      <td>7.59</td>\n",
       "      <td>1.52733</td>\n",
       "      <td>1.14524</td>\n",
       "      <td>0.86303</td>\n",
       "      <td>0.58557</td>\n",
       "      <td>0.41203</td>\n",
       "      <td>0.28083</td>\n",
       "      <td>2.69463</td>\n",
       "    </tr>\n",
       "    <tr>\n",
       "      <th>2</th>\n",
       "      <td>Iceland</td>\n",
       "      <td>Western Europe</td>\n",
       "      <td>3</td>\n",
       "      <td>7.501</td>\n",
       "      <td>7.333</td>\n",
       "      <td>7.669</td>\n",
       "      <td>1.42666</td>\n",
       "      <td>1.18326</td>\n",
       "      <td>0.86733</td>\n",
       "      <td>0.56624</td>\n",
       "      <td>0.14975</td>\n",
       "      <td>0.47678</td>\n",
       "      <td>2.83137</td>\n",
       "    </tr>\n",
       "    <tr>\n",
       "      <th>3</th>\n",
       "      <td>Norway</td>\n",
       "      <td>Western Europe</td>\n",
       "      <td>4</td>\n",
       "      <td>7.498</td>\n",
       "      <td>7.421</td>\n",
       "      <td>7.575</td>\n",
       "      <td>1.57744</td>\n",
       "      <td>1.12690</td>\n",
       "      <td>0.79579</td>\n",
       "      <td>0.59609</td>\n",
       "      <td>0.35776</td>\n",
       "      <td>0.37895</td>\n",
       "      <td>2.66465</td>\n",
       "    </tr>\n",
       "    <tr>\n",
       "      <th>4</th>\n",
       "      <td>Finland</td>\n",
       "      <td>Western Europe</td>\n",
       "      <td>5</td>\n",
       "      <td>7.413</td>\n",
       "      <td>7.351</td>\n",
       "      <td>7.475</td>\n",
       "      <td>1.40598</td>\n",
       "      <td>1.13464</td>\n",
       "      <td>0.81091</td>\n",
       "      <td>0.57104</td>\n",
       "      <td>0.41004</td>\n",
       "      <td>0.25492</td>\n",
       "      <td>2.82596</td>\n",
       "    </tr>\n",
       "  </tbody>\n",
       "</table>\n",
       "</div>"
      ],
      "text/plain": [
       "       Country          Region  Happiness Rank  Happiness Score  \\\n",
       "0      Denmark  Western Europe               1            7.526   \n",
       "1  Switzerland  Western Europe               2            7.509   \n",
       "2      Iceland  Western Europe               3            7.501   \n",
       "3       Norway  Western Europe               4            7.498   \n",
       "4      Finland  Western Europe               5            7.413   \n",
       "\n",
       "   Lower Confidence Interval Upper Confidence Interval  \\\n",
       "0                      7.460                     7.592   \n",
       "1                      7.428                      7.59   \n",
       "2                      7.333                     7.669   \n",
       "3                      7.421                     7.575   \n",
       "4                      7.351                     7.475   \n",
       "\n",
       "  Economy (GDP per Capita)   Family Health (Life Expectancy)  Freedom  \\\n",
       "0                  1.44178  1.16374                  0.79504  0.57941   \n",
       "1                  1.52733  1.14524                  0.86303  0.58557   \n",
       "2                  1.42666  1.18326                  0.86733  0.56624   \n",
       "3                  1.57744  1.12690                  0.79579  0.59609   \n",
       "4                  1.40598  1.13464                  0.81091  0.57104   \n",
       "\n",
       "   Trust (Government Corruption)  Generosity  Dystopia Residual  \n",
       "0                        0.44453     0.36171            2.73939  \n",
       "1                        0.41203     0.28083            2.69463  \n",
       "2                        0.14975     0.47678            2.83137  \n",
       "3                        0.35776     0.37895            2.66465  \n",
       "4                        0.41004     0.25492            2.82596  "
      ]
     },
     "execution_count": 3,
     "metadata": {},
     "output_type": "execute_result"
    }
   ],
   "source": [
    "df = pd.read_csv(URL)\n",
    "df.head()"
   ]
  },
  {
   "cell_type": "markdown",
   "id": "69e30fa6",
   "metadata": {},
   "source": [
    "Write a python code that performs the following tasks:\n",
    "1. Check the data types of the columns and see if it correct."
   ]
  },
  {
   "cell_type": "code",
   "execution_count": 4,
   "id": "ec71b3a9",
   "metadata": {},
   "outputs": [
    {
     "name": "stdout",
     "output_type": "stream",
     "text": [
      "Data types of columns:\n",
      "Country                           object\n",
      "Region                            object\n",
      "Happiness Rank                     int64\n",
      "Happiness Score                  float64\n",
      "Lower Confidence Interval        float64\n",
      "Upper Confidence Interval         object\n",
      "Economy (GDP per Capita)          object\n",
      "Family                           float64\n",
      "Health (Life Expectancy)          object\n",
      "Freedom                           object\n",
      "Trust (Government Corruption)    float64\n",
      "Generosity                       float64\n",
      "Dystopia Residual                float64\n",
      "dtype: object\n",
      "\n",
      "==================================================\n",
      "\n",
      "Detailed information about the dataframe:\n",
      "<class 'pandas.core.frame.DataFrame'>\n",
      "RangeIndex: 157 entries, 0 to 156\n",
      "Data columns (total 13 columns):\n",
      " #   Column                         Non-Null Count  Dtype  \n",
      "---  ------                         --------------  -----  \n",
      " 0   Country                        157 non-null    object \n",
      " 1   Region                         157 non-null    object \n",
      " 2   Happiness Rank                 157 non-null    int64  \n",
      " 3   Happiness Score                157 non-null    float64\n",
      " 4   Lower Confidence Interval      153 non-null    float64\n",
      " 5   Upper Confidence Interval      155 non-null    object \n",
      " 6   Economy (GDP per Capita)       156 non-null    object \n",
      " 7   Family                         157 non-null    float64\n",
      " 8   Health (Life Expectancy)       155 non-null    object \n",
      " 9   Freedom                        157 non-null    object \n",
      " 10  Trust (Government Corruption)  157 non-null    float64\n",
      " 11  Generosity                     157 non-null    float64\n",
      " 12  Dystopia Residual              157 non-null    float64\n",
      "dtypes: float64(6), int64(1), object(6)\n",
      "memory usage: 16.1+ KB\n",
      "\n",
      "==================================================\n",
      "\n",
      "Sample values for columns that should be numeric but are showing as 'object':\n",
      "\n",
      "Upper Confidence Interval:\n",
      "Sample values: 0    7.592\n",
      "1     7.59\n",
      "2    7.669\n",
      "3    7.575\n",
      "4    7.475\n",
      "Name: Upper Confidence Interval, dtype: object\n",
      "Unique values count: 152\n",
      "Any non-numeric values: True\n",
      "\n",
      "Economy (GDP per Capita):\n",
      "Sample values: 0    1.44178\n",
      "1    1.52733\n",
      "2    1.42666\n",
      "3    1.57744\n",
      "4    1.40598\n",
      "Name: Economy (GDP per Capita), dtype: object\n",
      "Unique values count: 156\n",
      "Any non-numeric values: True\n",
      "\n",
      "Health (Life Expectancy):\n",
      "Sample values: 0    0.79504\n",
      "1    0.86303\n",
      "2    0.86733\n",
      "3    0.79579\n",
      "4    0.81091\n",
      "Name: Health (Life Expectancy), dtype: object\n",
      "Unique values count: 154\n",
      "Any non-numeric values: True\n",
      "\n",
      "Freedom:\n",
      "Sample values: 0    0.57941\n",
      "1    0.58557\n",
      "2    0.56624\n",
      "3    0.59609\n",
      "4    0.57104\n",
      "Name: Freedom, dtype: object\n",
      "Unique values count: 157\n",
      "Any non-numeric values: True\n"
     ]
    }
   ],
   "source": [
    "# Check data types of all columns\n",
    "print(\"Data types of columns:\")\n",
    "print(df.dtypes)\n",
    "print(\"\\n\" + \"=\"*50 + \"\\n\")\n",
    "\n",
    "# Get more detailed information about the dataframe\n",
    "print(\"Detailed information about the dataframe:\")\n",
    "df.info()\n",
    "print(\"\\n\" + \"=\"*50 + \"\\n\")\n",
    "\n",
    "# Check for any potential data type issues by examining sample values\n",
    "print(\"Sample values for columns that should be numeric but are showing as 'object':\")\n",
    "object_columns = df.select_dtypes(include=['object']).columns\n",
    "for col in object_columns:\n",
    "    if col not in ['Country', 'Region']:  # These should legitimately be object/string type\n",
    "        print(f\"\\n{col}:\")\n",
    "        print(f\"Sample values: {df[col].head()}\")\n",
    "        print(f\"Unique values count: {df[col].nunique()}\")\n",
    "        print(f\"Any non-numeric values: {df[col].apply(lambda x: not str(x).replace('.', '').replace('-', '').isdigit() if pd.notna(x) else False).any()}\")"
   ]
  },
  {
   "cell_type": "markdown",
   "id": "308170fb",
   "metadata": {},
   "source": [
    "Write a python code to do the following tasks as per latest pandas:\n",
    "1. Remove leading and trailing whitespaces from the values in a column.\n",
    "2. Clean a column in a DataFrame by replacing empty strings with NaN values.\n",
    "3. Change the data type of the columns to appropriate type as per the latest version of pandas."
   ]
  },
  {
   "cell_type": "code",
   "execution_count": 5,
   "id": "6877e533",
   "metadata": {},
   "outputs": [
    {
     "name": "stdout",
     "output_type": "stream",
     "text": [
      "Updated data types:\n",
      "Country                           object\n",
      "Region                            object\n",
      "Happiness Rank                     int64\n",
      "Happiness Score                  float64\n",
      "Lower Confidence Interval        float64\n",
      "Upper Confidence Interval        float64\n",
      "Economy (GDP per Capita)         float64\n",
      "Family                           float64\n",
      "Health (Life Expectancy)         float64\n",
      "Freedom                          float64\n",
      "Trust (Government Corruption)    float64\n",
      "Generosity                       float64\n",
      "Dystopia Residual                float64\n",
      "dtype: object\n",
      "\n",
      "Info after cleaning:\n",
      "<class 'pandas.core.frame.DataFrame'>\n",
      "RangeIndex: 157 entries, 0 to 156\n",
      "Data columns (total 13 columns):\n",
      " #   Column                         Non-Null Count  Dtype  \n",
      "---  ------                         --------------  -----  \n",
      " 0   Country                        157 non-null    object \n",
      " 1   Region                         157 non-null    object \n",
      " 2   Happiness Rank                 157 non-null    int64  \n",
      " 3   Happiness Score                157 non-null    float64\n",
      " 4   Lower Confidence Interval      153 non-null    float64\n",
      " 5   Upper Confidence Interval      154 non-null    float64\n",
      " 6   Economy (GDP per Capita)       155 non-null    float64\n",
      " 7   Family                         157 non-null    float64\n",
      " 8   Health (Life Expectancy)       154 non-null    float64\n",
      " 9   Freedom                        156 non-null    float64\n",
      " 10  Trust (Government Corruption)  157 non-null    float64\n",
      " 11  Generosity                     157 non-null    float64\n",
      " 12  Dystopia Residual              157 non-null    float64\n",
      "dtypes: float64(10), int64(1), object(2)\n",
      "memory usage: 16.1+ KB\n"
     ]
    }
   ],
   "source": [
    "# Task 1: Remove leading and trailing whitespaces from all object columns\n",
    "for col in object_columns:\n",
    "    if col in ['Country', 'Region']:  # Keep these as strings\n",
    "        df[col] = df[col].astype(str).str.strip()\n",
    "    else:  # For numeric columns that are currently object type\n",
    "        df[col] = df[col].astype(str).str.strip()\n",
    "\n",
    "# Task 2: Replace empty strings with NaN values\n",
    "df = df.replace('', np.nan)\n",
    "\n",
    "# Task 3: Convert columns to appropriate data types\n",
    "# Convert numeric columns that are currently object type to float\n",
    "numeric_columns = ['Upper Confidence Interval', 'Economy (GDP per Capita)', \n",
    "                  'Health (Life Expectancy)', 'Freedom']\n",
    "\n",
    "for col in numeric_columns:\n",
    "    df[col] = pd.to_numeric(df[col], errors='coerce')\n",
    "\n",
    "# Verify the changes\n",
    "print(\"Updated data types:\")\n",
    "print(df.dtypes)\n",
    "print(\"\\nInfo after cleaning:\")\n",
    "df.info()"
   ]
  },
  {
   "cell_type": "markdown",
   "id": "077fcfcb",
   "metadata": {},
   "source": [
    "Write a python code that performs the following tasks as per latest pandas:\n",
    "1. Identify the columns of a data frame with missing values.\n",
    "2. Replace the missing values thus identified with mean values of the column."
   ]
  },
  {
   "cell_type": "code",
   "execution_count": 6,
   "id": "530bbff0",
   "metadata": {},
   "outputs": [
    {
     "name": "stdout",
     "output_type": "stream",
     "text": [
      "Columns with missing values:\n",
      "['Lower Confidence Interval', 'Upper Confidence Interval', 'Economy (GDP per Capita)', 'Health (Life Expectancy)', 'Freedom']\n",
      "\n",
      "Number of missing values in each column:\n",
      "Lower Confidence Interval    4\n",
      "Upper Confidence Interval    3\n",
      "Economy (GDP per Capita)     2\n",
      "Health (Life Expectancy)     3\n",
      "Freedom                      1\n",
      "dtype: int64\n",
      "Replaced missing values in 'Lower Confidence Interval' with mean: 5.26864\n",
      "Replaced missing values in 'Upper Confidence Interval' with mean: 5.47275\n",
      "Replaced missing values in 'Economy (GDP per Capita)' with mean: 0.95177\n",
      "Replaced missing values in 'Health (Life Expectancy)' with mean: 0.55334\n",
      "Replaced missing values in 'Freedom' with mean: 0.37100\n",
      "\n",
      "Missing values after replacement:\n",
      "Series([], dtype: int64)\n"
     ]
    },
    {
     "name": "stderr",
     "output_type": "stream",
     "text": [
      "C:\\Users\\akar\\AppData\\Local\\Temp\\ipykernel_20920\\2642558430.py:13: FutureWarning: A value is trying to be set on a copy of a DataFrame or Series through chained assignment using an inplace method.\n",
      "The behavior will change in pandas 3.0. This inplace method will never work because the intermediate object on which we are setting values always behaves as a copy.\n",
      "\n",
      "For example, when doing 'df[col].method(value, inplace=True)', try using 'df.method({col: value}, inplace=True)' or df[col] = df[col].method(value) instead, to perform the operation inplace on the original object.\n",
      "\n",
      "\n",
      "  df[col].fillna(mean_value, inplace=True)\n"
     ]
    }
   ],
   "source": [
    "# Task 1: Identify columns with missing values\n",
    "columns_with_missing = df.columns[df.isnull().any()].tolist()\n",
    "print(\"Columns with missing values:\")\n",
    "print(columns_with_missing)\n",
    "print(f\"\\nNumber of missing values in each column:\")\n",
    "print(df.isnull().sum()[df.isnull().sum() > 0])\n",
    "\n",
    "# Task 2: Replace missing values with mean values for numeric columns only\n",
    "numeric_cols_with_missing = df.select_dtypes(include=[np.number]).columns[df.select_dtypes(include=[np.number]).isnull().any()]\n",
    "\n",
    "for col in numeric_cols_with_missing:\n",
    "    mean_value = df[col].mean()\n",
    "    df[col].fillna(mean_value, inplace=True)\n",
    "    print(f\"Replaced missing values in '{col}' with mean: {mean_value:.5f}\")\n",
    "\n",
    "# Verify that missing values have been replaced\n",
    "print(f\"\\nMissing values after replacement:\")\n",
    "print(df.isnull().sum()[df.isnull().sum() > 0])"
   ]
  },
  {
   "cell_type": "markdown",
   "id": "8b2e7df3",
   "metadata": {},
   "source": [
    "Write a python code that identifies the GDP per capita and Healthy Life Expectancy of the top 10 countries and create a bar chart named fig1 to show the GDP per capita and Healthy Life Expectancy of these top 10 countries using plotly."
   ]
  },
  {
   "cell_type": "code",
   "execution_count": 9,
   "id": "0d56fca1",
   "metadata": {},
   "outputs": [
    {
     "data": {
      "application/vnd.plotly.v1+json": {
       "config": {
        "plotlyServerURL": "https://plot.ly"
       },
       "data": [
        {
         "marker": {
          "color": "lightblue"
         },
         "name": "GDP per Capita",
         "opacity": 0.7,
         "type": "bar",
         "x": [
          "Denmark",
          "Switzerland",
          "Iceland",
          "Norway",
          "Finland",
          "Canada",
          "Netherlands",
          "New Zealand",
          "Australia",
          "Sweden"
         ],
         "xaxis": "x",
         "y": {
          "bdata": "Gm7A54cR9z/kMQOV8W/4P4guqG+Z0/Y/k2+2uTE9+T8CSG3i5H72P7RZ9bnaCvc/Oq+xS1Rv9z8Tm49rQ8X1P87HtaFiHPc/mBdgH5069z8=",
          "dtype": "f8"
         },
         "yaxis": "y"
        },
        {
         "marker": {
          "color": "lightcoral"
         },
         "name": "Health Life Expectancy",
         "opacity": 0.7,
         "type": "bar",
         "x": [
          "Denmark",
          "Switzerland",
          "Iceland",
          "Norway",
          "Finland",
          "Canada",
          "Netherlands",
          "New Zealand",
          "Australia",
          "Sweden"
         ],
         "xaxis": "x",
         "y": {
          "bdata": "/mDgufdw6T+u8C4X8Z3rP6neGtgqwes/nnsPlxx36T/C+j+H+fLpP11txf6ye+o/H9eGinH+6T/XFwltOZfqP8xdS8gHPes/DHbDtkWZ6j8=",
          "dtype": "f8"
         },
         "yaxis": "y2"
        }
       ],
       "layout": {
        "annotations": [
         {
          "font": {
           "size": 16
          },
          "showarrow": false,
          "text": "GDP per Capita and Health Life Expectancy - Top 10 Countries",
          "x": 0.47,
          "xanchor": "center",
          "xref": "paper",
          "y": 1,
          "yanchor": "bottom",
          "yref": "paper"
         }
        ],
        "barmode": "group",
        "height": 600,
        "template": {
         "data": {
          "bar": [
           {
            "error_x": {
             "color": "#2a3f5f"
            },
            "error_y": {
             "color": "#2a3f5f"
            },
            "marker": {
             "line": {
              "color": "#E5ECF6",
              "width": 0.5
             },
             "pattern": {
              "fillmode": "overlay",
              "size": 10,
              "solidity": 0.2
             }
            },
            "type": "bar"
           }
          ],
          "barpolar": [
           {
            "marker": {
             "line": {
              "color": "#E5ECF6",
              "width": 0.5
             },
             "pattern": {
              "fillmode": "overlay",
              "size": 10,
              "solidity": 0.2
             }
            },
            "type": "barpolar"
           }
          ],
          "carpet": [
           {
            "aaxis": {
             "endlinecolor": "#2a3f5f",
             "gridcolor": "white",
             "linecolor": "white",
             "minorgridcolor": "white",
             "startlinecolor": "#2a3f5f"
            },
            "baxis": {
             "endlinecolor": "#2a3f5f",
             "gridcolor": "white",
             "linecolor": "white",
             "minorgridcolor": "white",
             "startlinecolor": "#2a3f5f"
            },
            "type": "carpet"
           }
          ],
          "choropleth": [
           {
            "colorbar": {
             "outlinewidth": 0,
             "ticks": ""
            },
            "type": "choropleth"
           }
          ],
          "contour": [
           {
            "colorbar": {
             "outlinewidth": 0,
             "ticks": ""
            },
            "colorscale": [
             [
              0,
              "#0d0887"
             ],
             [
              0.1111111111111111,
              "#46039f"
             ],
             [
              0.2222222222222222,
              "#7201a8"
             ],
             [
              0.3333333333333333,
              "#9c179e"
             ],
             [
              0.4444444444444444,
              "#bd3786"
             ],
             [
              0.5555555555555556,
              "#d8576b"
             ],
             [
              0.6666666666666666,
              "#ed7953"
             ],
             [
              0.7777777777777778,
              "#fb9f3a"
             ],
             [
              0.8888888888888888,
              "#fdca26"
             ],
             [
              1,
              "#f0f921"
             ]
            ],
            "type": "contour"
           }
          ],
          "contourcarpet": [
           {
            "colorbar": {
             "outlinewidth": 0,
             "ticks": ""
            },
            "type": "contourcarpet"
           }
          ],
          "heatmap": [
           {
            "colorbar": {
             "outlinewidth": 0,
             "ticks": ""
            },
            "colorscale": [
             [
              0,
              "#0d0887"
             ],
             [
              0.1111111111111111,
              "#46039f"
             ],
             [
              0.2222222222222222,
              "#7201a8"
             ],
             [
              0.3333333333333333,
              "#9c179e"
             ],
             [
              0.4444444444444444,
              "#bd3786"
             ],
             [
              0.5555555555555556,
              "#d8576b"
             ],
             [
              0.6666666666666666,
              "#ed7953"
             ],
             [
              0.7777777777777778,
              "#fb9f3a"
             ],
             [
              0.8888888888888888,
              "#fdca26"
             ],
             [
              1,
              "#f0f921"
             ]
            ],
            "type": "heatmap"
           }
          ],
          "histogram": [
           {
            "marker": {
             "pattern": {
              "fillmode": "overlay",
              "size": 10,
              "solidity": 0.2
             }
            },
            "type": "histogram"
           }
          ],
          "histogram2d": [
           {
            "colorbar": {
             "outlinewidth": 0,
             "ticks": ""
            },
            "colorscale": [
             [
              0,
              "#0d0887"
             ],
             [
              0.1111111111111111,
              "#46039f"
             ],
             [
              0.2222222222222222,
              "#7201a8"
             ],
             [
              0.3333333333333333,
              "#9c179e"
             ],
             [
              0.4444444444444444,
              "#bd3786"
             ],
             [
              0.5555555555555556,
              "#d8576b"
             ],
             [
              0.6666666666666666,
              "#ed7953"
             ],
             [
              0.7777777777777778,
              "#fb9f3a"
             ],
             [
              0.8888888888888888,
              "#fdca26"
             ],
             [
              1,
              "#f0f921"
             ]
            ],
            "type": "histogram2d"
           }
          ],
          "histogram2dcontour": [
           {
            "colorbar": {
             "outlinewidth": 0,
             "ticks": ""
            },
            "colorscale": [
             [
              0,
              "#0d0887"
             ],
             [
              0.1111111111111111,
              "#46039f"
             ],
             [
              0.2222222222222222,
              "#7201a8"
             ],
             [
              0.3333333333333333,
              "#9c179e"
             ],
             [
              0.4444444444444444,
              "#bd3786"
             ],
             [
              0.5555555555555556,
              "#d8576b"
             ],
             [
              0.6666666666666666,
              "#ed7953"
             ],
             [
              0.7777777777777778,
              "#fb9f3a"
             ],
             [
              0.8888888888888888,
              "#fdca26"
             ],
             [
              1,
              "#f0f921"
             ]
            ],
            "type": "histogram2dcontour"
           }
          ],
          "mesh3d": [
           {
            "colorbar": {
             "outlinewidth": 0,
             "ticks": ""
            },
            "type": "mesh3d"
           }
          ],
          "parcoords": [
           {
            "line": {
             "colorbar": {
              "outlinewidth": 0,
              "ticks": ""
             }
            },
            "type": "parcoords"
           }
          ],
          "pie": [
           {
            "automargin": true,
            "type": "pie"
           }
          ],
          "scatter": [
           {
            "fillpattern": {
             "fillmode": "overlay",
             "size": 10,
             "solidity": 0.2
            },
            "type": "scatter"
           }
          ],
          "scatter3d": [
           {
            "line": {
             "colorbar": {
              "outlinewidth": 0,
              "ticks": ""
             }
            },
            "marker": {
             "colorbar": {
              "outlinewidth": 0,
              "ticks": ""
             }
            },
            "type": "scatter3d"
           }
          ],
          "scattercarpet": [
           {
            "marker": {
             "colorbar": {
              "outlinewidth": 0,
              "ticks": ""
             }
            },
            "type": "scattercarpet"
           }
          ],
          "scattergeo": [
           {
            "marker": {
             "colorbar": {
              "outlinewidth": 0,
              "ticks": ""
             }
            },
            "type": "scattergeo"
           }
          ],
          "scattergl": [
           {
            "marker": {
             "colorbar": {
              "outlinewidth": 0,
              "ticks": ""
             }
            },
            "type": "scattergl"
           }
          ],
          "scattermap": [
           {
            "marker": {
             "colorbar": {
              "outlinewidth": 0,
              "ticks": ""
             }
            },
            "type": "scattermap"
           }
          ],
          "scattermapbox": [
           {
            "marker": {
             "colorbar": {
              "outlinewidth": 0,
              "ticks": ""
             }
            },
            "type": "scattermapbox"
           }
          ],
          "scatterpolar": [
           {
            "marker": {
             "colorbar": {
              "outlinewidth": 0,
              "ticks": ""
             }
            },
            "type": "scatterpolar"
           }
          ],
          "scatterpolargl": [
           {
            "marker": {
             "colorbar": {
              "outlinewidth": 0,
              "ticks": ""
             }
            },
            "type": "scatterpolargl"
           }
          ],
          "scatterternary": [
           {
            "marker": {
             "colorbar": {
              "outlinewidth": 0,
              "ticks": ""
             }
            },
            "type": "scatterternary"
           }
          ],
          "surface": [
           {
            "colorbar": {
             "outlinewidth": 0,
             "ticks": ""
            },
            "colorscale": [
             [
              0,
              "#0d0887"
             ],
             [
              0.1111111111111111,
              "#46039f"
             ],
             [
              0.2222222222222222,
              "#7201a8"
             ],
             [
              0.3333333333333333,
              "#9c179e"
             ],
             [
              0.4444444444444444,
              "#bd3786"
             ],
             [
              0.5555555555555556,
              "#d8576b"
             ],
             [
              0.6666666666666666,
              "#ed7953"
             ],
             [
              0.7777777777777778,
              "#fb9f3a"
             ],
             [
              0.8888888888888888,
              "#fdca26"
             ],
             [
              1,
              "#f0f921"
             ]
            ],
            "type": "surface"
           }
          ],
          "table": [
           {
            "cells": {
             "fill": {
              "color": "#EBF0F8"
             },
             "line": {
              "color": "white"
             }
            },
            "header": {
             "fill": {
              "color": "#C8D4E3"
             },
             "line": {
              "color": "white"
             }
            },
            "type": "table"
           }
          ]
         },
         "layout": {
          "annotationdefaults": {
           "arrowcolor": "#2a3f5f",
           "arrowhead": 0,
           "arrowwidth": 1
          },
          "autotypenumbers": "strict",
          "coloraxis": {
           "colorbar": {
            "outlinewidth": 0,
            "ticks": ""
           }
          },
          "colorscale": {
           "diverging": [
            [
             0,
             "#8e0152"
            ],
            [
             0.1,
             "#c51b7d"
            ],
            [
             0.2,
             "#de77ae"
            ],
            [
             0.3,
             "#f1b6da"
            ],
            [
             0.4,
             "#fde0ef"
            ],
            [
             0.5,
             "#f7f7f7"
            ],
            [
             0.6,
             "#e6f5d0"
            ],
            [
             0.7,
             "#b8e186"
            ],
            [
             0.8,
             "#7fbc41"
            ],
            [
             0.9,
             "#4d9221"
            ],
            [
             1,
             "#276419"
            ]
           ],
           "sequential": [
            [
             0,
             "#0d0887"
            ],
            [
             0.1111111111111111,
             "#46039f"
            ],
            [
             0.2222222222222222,
             "#7201a8"
            ],
            [
             0.3333333333333333,
             "#9c179e"
            ],
            [
             0.4444444444444444,
             "#bd3786"
            ],
            [
             0.5555555555555556,
             "#d8576b"
            ],
            [
             0.6666666666666666,
             "#ed7953"
            ],
            [
             0.7777777777777778,
             "#fb9f3a"
            ],
            [
             0.8888888888888888,
             "#fdca26"
            ],
            [
             1,
             "#f0f921"
            ]
           ],
           "sequentialminus": [
            [
             0,
             "#0d0887"
            ],
            [
             0.1111111111111111,
             "#46039f"
            ],
            [
             0.2222222222222222,
             "#7201a8"
            ],
            [
             0.3333333333333333,
             "#9c179e"
            ],
            [
             0.4444444444444444,
             "#bd3786"
            ],
            [
             0.5555555555555556,
             "#d8576b"
            ],
            [
             0.6666666666666666,
             "#ed7953"
            ],
            [
             0.7777777777777778,
             "#fb9f3a"
            ],
            [
             0.8888888888888888,
             "#fdca26"
            ],
            [
             1,
             "#f0f921"
            ]
           ]
          },
          "colorway": [
           "#636efa",
           "#EF553B",
           "#00cc96",
           "#ab63fa",
           "#FFA15A",
           "#19d3f3",
           "#FF6692",
           "#B6E880",
           "#FF97FF",
           "#FECB52"
          ],
          "font": {
           "color": "#2a3f5f"
          },
          "geo": {
           "bgcolor": "white",
           "lakecolor": "white",
           "landcolor": "#E5ECF6",
           "showlakes": true,
           "showland": true,
           "subunitcolor": "white"
          },
          "hoverlabel": {
           "align": "left"
          },
          "hovermode": "closest",
          "mapbox": {
           "style": "light"
          },
          "paper_bgcolor": "white",
          "plot_bgcolor": "#E5ECF6",
          "polar": {
           "angularaxis": {
            "gridcolor": "white",
            "linecolor": "white",
            "ticks": ""
           },
           "bgcolor": "#E5ECF6",
           "radialaxis": {
            "gridcolor": "white",
            "linecolor": "white",
            "ticks": ""
           }
          },
          "scene": {
           "xaxis": {
            "backgroundcolor": "#E5ECF6",
            "gridcolor": "white",
            "gridwidth": 2,
            "linecolor": "white",
            "showbackground": true,
            "ticks": "",
            "zerolinecolor": "white"
           },
           "yaxis": {
            "backgroundcolor": "#E5ECF6",
            "gridcolor": "white",
            "gridwidth": 2,
            "linecolor": "white",
            "showbackground": true,
            "ticks": "",
            "zerolinecolor": "white"
           },
           "zaxis": {
            "backgroundcolor": "#E5ECF6",
            "gridcolor": "white",
            "gridwidth": 2,
            "linecolor": "white",
            "showbackground": true,
            "ticks": "",
            "zerolinecolor": "white"
           }
          },
          "shapedefaults": {
           "line": {
            "color": "#2a3f5f"
           }
          },
          "ternary": {
           "aaxis": {
            "gridcolor": "white",
            "linecolor": "white",
            "ticks": ""
           },
           "baxis": {
            "gridcolor": "white",
            "linecolor": "white",
            "ticks": ""
           },
           "bgcolor": "#E5ECF6",
           "caxis": {
            "gridcolor": "white",
            "linecolor": "white",
            "ticks": ""
           }
          },
          "title": {
           "x": 0.05
          },
          "xaxis": {
           "automargin": true,
           "gridcolor": "white",
           "linecolor": "white",
           "ticks": "",
           "title": {
            "standoff": 15
           },
           "zerolinecolor": "white",
           "zerolinewidth": 2
          },
          "yaxis": {
           "automargin": true,
           "gridcolor": "white",
           "linecolor": "white",
           "ticks": "",
           "title": {
            "standoff": 15
           },
           "zerolinecolor": "white",
           "zerolinewidth": 2
          }
         }
        },
        "title": {
         "text": "GDP per Capita and Health Life Expectancy - Top 10 Happiest Countries"
        },
        "width": 1000,
        "xaxis": {
         "anchor": "y",
         "domain": [
          0,
          0.94
         ],
         "tickangle": 45,
         "title": {
          "text": "Country"
         }
        },
        "yaxis": {
         "anchor": "x",
         "domain": [
          0,
          1
         ],
         "title": {
          "text": "GDP per Capita"
         }
        },
        "yaxis2": {
         "anchor": "x",
         "overlaying": "y",
         "side": "right",
         "title": {
          "text": "Health Life Expectancy"
         }
        }
       }
      }
     },
     "metadata": {},
     "output_type": "display_data"
    },
    {
     "name": "stdout",
     "output_type": "stream",
     "text": [
      "Top 10 Countries with their GDP per Capita and Health Life Expectancy:\n",
      "    Country  Happiness Rank  Economy (GDP per Capita)  Health (Life Expectancy)\n",
      "    Denmark               1                   1.44178                   0.79504\n",
      "Switzerland               2                   1.52733                   0.86303\n",
      "    Iceland               3                   1.42666                   0.86733\n",
      "     Norway               4                   1.57744                   0.79579\n",
      "    Finland               5                   1.40598                   0.81091\n",
      "     Canada               6                   1.44015                   0.82760\n",
      "Netherlands               7                   1.46468                   0.81231\n",
      "New Zealand               8                   1.36066                   0.83096\n",
      "  Australia               9                   1.44443                   0.85120\n",
      "     Sweden              10                   1.45181                   0.83121\n"
     ]
    }
   ],
   "source": [
    "import plotly.graph_objects as go\n",
    "from plotly.subplots import make_subplots\n",
    "\n",
    "# Get top 10 countries based on Happiness Rank (rank 1-10)\n",
    "top_10_countries = df.nsmallest(10, 'Happiness Rank')\n",
    "\n",
    "# Create subplot with secondary y-axis\n",
    "fig1 = make_subplots(\n",
    "    rows=1, cols=1,\n",
    "    specs=[[{\"secondary_y\": True}]],\n",
    "    subplot_titles=(\"GDP per Capita and Health Life Expectancy - Top 10 Countries\",)\n",
    ")\n",
    "\n",
    "# Add GDP per capita bar chart\n",
    "fig1.add_trace(\n",
    "    go.Bar(\n",
    "        x=top_10_countries['Country'],\n",
    "        y=top_10_countries['Economy (GDP per Capita)'],\n",
    "        name='GDP per Capita',\n",
    "        marker_color='lightblue',\n",
    "        opacity=0.7\n",
    "    ),\n",
    "    secondary_y=False\n",
    ")\n",
    "\n",
    "# Add Health Life Expectancy bar chart\n",
    "fig1.add_trace(\n",
    "    go.Bar(\n",
    "        x=top_10_countries['Country'],\n",
    "        y=top_10_countries['Health (Life Expectancy)'],\n",
    "        name='Health Life Expectancy',\n",
    "        marker_color='lightcoral',\n",
    "        opacity=0.7\n",
    "    ),\n",
    "    secondary_y=True\n",
    ")\n",
    "\n",
    "# Update layout\n",
    "fig1.update_layout(\n",
    "    title='GDP per Capita and Health Life Expectancy - Top 10 Happiest Countries',\n",
    "    xaxis_title='Country',\n",
    "    barmode='group',\n",
    "    height=600,\n",
    "    width=1000\n",
    ")\n",
    "\n",
    "# Update y-axes titles\n",
    "fig1.update_yaxes(title_text=\"GDP per Capita\", secondary_y=False)\n",
    "fig1.update_yaxes(title_text=\"Health Life Expectancy\", secondary_y=True)\n",
    "\n",
    "# Rotate x-axis labels for better readability\n",
    "fig1.update_xaxes(tickangle=45)\n",
    "\n",
    "# Show the plot\n",
    "fig1.show()\n",
    "\n",
    "# Display the data for verification\n",
    "print(\"Top 10 Countries with their GDP per Capita and Health Life Expectancy:\")\n",
    "print(top_10_countries[['Country', 'Happiness Rank', 'Economy (GDP per Capita)', 'Health (Life Expectancy)']].to_string(index=False))"
   ]
  },
  {
   "cell_type": "markdown",
   "id": "3ec99e04",
   "metadata": {},
   "source": [
    "Write a python code that performs the following actions:\n",
    "    1. Create a sub-dataset including Economy (GDP per Capita), Family, Health (Life Expectancy), Freedom, Trust (Government Corruption), Generosity, and Happiness Score attributes from the dataframe (df).\n",
    "    2. Find the correlation between the attributes in the subdataset as a heatmap named fig2 using Plotly of width 800 and height 600."
   ]
  },
  {
   "cell_type": "code",
   "execution_count": 10,
   "id": "481ed04f",
   "metadata": {},
   "outputs": [
    {
     "data": {
      "application/vnd.plotly.v1+json": {
       "config": {
        "plotlyServerURL": "https://plot.ly"
       },
       "data": [
        {
         "coloraxis": "coloraxis",
         "hovertemplate": "x: %{x}<br>y: %{y}<br>color: %{z}<extra></extra>",
         "name": "0",
         "texttemplate": "%{z}",
         "type": "heatmap",
         "x": [
          "Economy (GDP per Capita)",
          "Family",
          "Health (Life Expectancy)",
          "Freedom",
          "Trust (Government Corruption)",
          "Generosity",
          "Happiness Score"
         ],
         "xaxis": "x",
         "y": [
          "Economy (GDP per Capita)",
          "Family",
          "Health (Life Expectancy)",
          "Freedom",
          "Trust (Government Corruption)",
          "Generosity",
          "Happiness Score"
         ],
         "yaxis": "y",
         "z": {
          "bdata": "AAAAAAAA8D9vmi/EUWjlP58dzV8fbOo/LUXCrZca1z/GJgzt807SP3LovpMAmpa/hY/n/ppE6T9vmi/EUWjlPwAAAAAAAPA/y2QAddnB4j9tr09p+8/cP2CQSf32Vcs/d2xLoOrxtj/tV4/s8qfnP58dzV8fbOo/y2QAddnB4j8AAAAAAADwP1u3250WRtY/7w/7IW3D0D+OY3y2zNuxP2Vb6qeWTeg/LUXCrZca1z9tr09p+8/cP1u3250WRtY/AAAAAAAA8D9HTrgwohDgP8v5nA+YJ9c/jPRb5Ucj4j/GJgzt807SP2CQSf32Vcs/7w/7IW3D0D9HTrgwohDgPwAAAAAAAPA/E+kr11qU0z+5FTZ05brZP3LovpMAmpa/d2xLoOrxtj+OY3y2zNuxP8v5nA+YJ9c/E+kr11qU0z8AAAAAAADwP5pnAK6WE8Q/hY/n/ppE6T/tV4/s8qfnP2Vb6qeWTeg/jPRb5Ucj4j+5FTZ05brZP5pnAK6WE8Q/AAAAAAAA8D8=",
          "dtype": "f8",
          "shape": "7, 7"
         }
        }
       ],
       "layout": {
        "coloraxis": {
         "colorscale": [
          [
           0,
           "rgb(5,48,97)"
          ],
          [
           0.1,
           "rgb(33,102,172)"
          ],
          [
           0.2,
           "rgb(67,147,195)"
          ],
          [
           0.3,
           "rgb(146,197,222)"
          ],
          [
           0.4,
           "rgb(209,229,240)"
          ],
          [
           0.5,
           "rgb(247,247,247)"
          ],
          [
           0.6,
           "rgb(253,219,199)"
          ],
          [
           0.7,
           "rgb(244,165,130)"
          ],
          [
           0.8,
           "rgb(214,96,77)"
          ],
          [
           0.9,
           "rgb(178,24,43)"
          ],
          [
           1,
           "rgb(103,0,31)"
          ]
         ]
        },
        "height": 600,
        "template": {
         "data": {
          "bar": [
           {
            "error_x": {
             "color": "#2a3f5f"
            },
            "error_y": {
             "color": "#2a3f5f"
            },
            "marker": {
             "line": {
              "color": "#E5ECF6",
              "width": 0.5
             },
             "pattern": {
              "fillmode": "overlay",
              "size": 10,
              "solidity": 0.2
             }
            },
            "type": "bar"
           }
          ],
          "barpolar": [
           {
            "marker": {
             "line": {
              "color": "#E5ECF6",
              "width": 0.5
             },
             "pattern": {
              "fillmode": "overlay",
              "size": 10,
              "solidity": 0.2
             }
            },
            "type": "barpolar"
           }
          ],
          "carpet": [
           {
            "aaxis": {
             "endlinecolor": "#2a3f5f",
             "gridcolor": "white",
             "linecolor": "white",
             "minorgridcolor": "white",
             "startlinecolor": "#2a3f5f"
            },
            "baxis": {
             "endlinecolor": "#2a3f5f",
             "gridcolor": "white",
             "linecolor": "white",
             "minorgridcolor": "white",
             "startlinecolor": "#2a3f5f"
            },
            "type": "carpet"
           }
          ],
          "choropleth": [
           {
            "colorbar": {
             "outlinewidth": 0,
             "ticks": ""
            },
            "type": "choropleth"
           }
          ],
          "contour": [
           {
            "colorbar": {
             "outlinewidth": 0,
             "ticks": ""
            },
            "colorscale": [
             [
              0,
              "#0d0887"
             ],
             [
              0.1111111111111111,
              "#46039f"
             ],
             [
              0.2222222222222222,
              "#7201a8"
             ],
             [
              0.3333333333333333,
              "#9c179e"
             ],
             [
              0.4444444444444444,
              "#bd3786"
             ],
             [
              0.5555555555555556,
              "#d8576b"
             ],
             [
              0.6666666666666666,
              "#ed7953"
             ],
             [
              0.7777777777777778,
              "#fb9f3a"
             ],
             [
              0.8888888888888888,
              "#fdca26"
             ],
             [
              1,
              "#f0f921"
             ]
            ],
            "type": "contour"
           }
          ],
          "contourcarpet": [
           {
            "colorbar": {
             "outlinewidth": 0,
             "ticks": ""
            },
            "type": "contourcarpet"
           }
          ],
          "heatmap": [
           {
            "colorbar": {
             "outlinewidth": 0,
             "ticks": ""
            },
            "colorscale": [
             [
              0,
              "#0d0887"
             ],
             [
              0.1111111111111111,
              "#46039f"
             ],
             [
              0.2222222222222222,
              "#7201a8"
             ],
             [
              0.3333333333333333,
              "#9c179e"
             ],
             [
              0.4444444444444444,
              "#bd3786"
             ],
             [
              0.5555555555555556,
              "#d8576b"
             ],
             [
              0.6666666666666666,
              "#ed7953"
             ],
             [
              0.7777777777777778,
              "#fb9f3a"
             ],
             [
              0.8888888888888888,
              "#fdca26"
             ],
             [
              1,
              "#f0f921"
             ]
            ],
            "type": "heatmap"
           }
          ],
          "histogram": [
           {
            "marker": {
             "pattern": {
              "fillmode": "overlay",
              "size": 10,
              "solidity": 0.2
             }
            },
            "type": "histogram"
           }
          ],
          "histogram2d": [
           {
            "colorbar": {
             "outlinewidth": 0,
             "ticks": ""
            },
            "colorscale": [
             [
              0,
              "#0d0887"
             ],
             [
              0.1111111111111111,
              "#46039f"
             ],
             [
              0.2222222222222222,
              "#7201a8"
             ],
             [
              0.3333333333333333,
              "#9c179e"
             ],
             [
              0.4444444444444444,
              "#bd3786"
             ],
             [
              0.5555555555555556,
              "#d8576b"
             ],
             [
              0.6666666666666666,
              "#ed7953"
             ],
             [
              0.7777777777777778,
              "#fb9f3a"
             ],
             [
              0.8888888888888888,
              "#fdca26"
             ],
             [
              1,
              "#f0f921"
             ]
            ],
            "type": "histogram2d"
           }
          ],
          "histogram2dcontour": [
           {
            "colorbar": {
             "outlinewidth": 0,
             "ticks": ""
            },
            "colorscale": [
             [
              0,
              "#0d0887"
             ],
             [
              0.1111111111111111,
              "#46039f"
             ],
             [
              0.2222222222222222,
              "#7201a8"
             ],
             [
              0.3333333333333333,
              "#9c179e"
             ],
             [
              0.4444444444444444,
              "#bd3786"
             ],
             [
              0.5555555555555556,
              "#d8576b"
             ],
             [
              0.6666666666666666,
              "#ed7953"
             ],
             [
              0.7777777777777778,
              "#fb9f3a"
             ],
             [
              0.8888888888888888,
              "#fdca26"
             ],
             [
              1,
              "#f0f921"
             ]
            ],
            "type": "histogram2dcontour"
           }
          ],
          "mesh3d": [
           {
            "colorbar": {
             "outlinewidth": 0,
             "ticks": ""
            },
            "type": "mesh3d"
           }
          ],
          "parcoords": [
           {
            "line": {
             "colorbar": {
              "outlinewidth": 0,
              "ticks": ""
             }
            },
            "type": "parcoords"
           }
          ],
          "pie": [
           {
            "automargin": true,
            "type": "pie"
           }
          ],
          "scatter": [
           {
            "fillpattern": {
             "fillmode": "overlay",
             "size": 10,
             "solidity": 0.2
            },
            "type": "scatter"
           }
          ],
          "scatter3d": [
           {
            "line": {
             "colorbar": {
              "outlinewidth": 0,
              "ticks": ""
             }
            },
            "marker": {
             "colorbar": {
              "outlinewidth": 0,
              "ticks": ""
             }
            },
            "type": "scatter3d"
           }
          ],
          "scattercarpet": [
           {
            "marker": {
             "colorbar": {
              "outlinewidth": 0,
              "ticks": ""
             }
            },
            "type": "scattercarpet"
           }
          ],
          "scattergeo": [
           {
            "marker": {
             "colorbar": {
              "outlinewidth": 0,
              "ticks": ""
             }
            },
            "type": "scattergeo"
           }
          ],
          "scattergl": [
           {
            "marker": {
             "colorbar": {
              "outlinewidth": 0,
              "ticks": ""
             }
            },
            "type": "scattergl"
           }
          ],
          "scattermap": [
           {
            "marker": {
             "colorbar": {
              "outlinewidth": 0,
              "ticks": ""
             }
            },
            "type": "scattermap"
           }
          ],
          "scattermapbox": [
           {
            "marker": {
             "colorbar": {
              "outlinewidth": 0,
              "ticks": ""
             }
            },
            "type": "scattermapbox"
           }
          ],
          "scatterpolar": [
           {
            "marker": {
             "colorbar": {
              "outlinewidth": 0,
              "ticks": ""
             }
            },
            "type": "scatterpolar"
           }
          ],
          "scatterpolargl": [
           {
            "marker": {
             "colorbar": {
              "outlinewidth": 0,
              "ticks": ""
             }
            },
            "type": "scatterpolargl"
           }
          ],
          "scatterternary": [
           {
            "marker": {
             "colorbar": {
              "outlinewidth": 0,
              "ticks": ""
             }
            },
            "type": "scatterternary"
           }
          ],
          "surface": [
           {
            "colorbar": {
             "outlinewidth": 0,
             "ticks": ""
            },
            "colorscale": [
             [
              0,
              "#0d0887"
             ],
             [
              0.1111111111111111,
              "#46039f"
             ],
             [
              0.2222222222222222,
              "#7201a8"
             ],
             [
              0.3333333333333333,
              "#9c179e"
             ],
             [
              0.4444444444444444,
              "#bd3786"
             ],
             [
              0.5555555555555556,
              "#d8576b"
             ],
             [
              0.6666666666666666,
              "#ed7953"
             ],
             [
              0.7777777777777778,
              "#fb9f3a"
             ],
             [
              0.8888888888888888,
              "#fdca26"
             ],
             [
              1,
              "#f0f921"
             ]
            ],
            "type": "surface"
           }
          ],
          "table": [
           {
            "cells": {
             "fill": {
              "color": "#EBF0F8"
             },
             "line": {
              "color": "white"
             }
            },
            "header": {
             "fill": {
              "color": "#C8D4E3"
             },
             "line": {
              "color": "white"
             }
            },
            "type": "table"
           }
          ]
         },
         "layout": {
          "annotationdefaults": {
           "arrowcolor": "#2a3f5f",
           "arrowhead": 0,
           "arrowwidth": 1
          },
          "autotypenumbers": "strict",
          "coloraxis": {
           "colorbar": {
            "outlinewidth": 0,
            "ticks": ""
           }
          },
          "colorscale": {
           "diverging": [
            [
             0,
             "#8e0152"
            ],
            [
             0.1,
             "#c51b7d"
            ],
            [
             0.2,
             "#de77ae"
            ],
            [
             0.3,
             "#f1b6da"
            ],
            [
             0.4,
             "#fde0ef"
            ],
            [
             0.5,
             "#f7f7f7"
            ],
            [
             0.6,
             "#e6f5d0"
            ],
            [
             0.7,
             "#b8e186"
            ],
            [
             0.8,
             "#7fbc41"
            ],
            [
             0.9,
             "#4d9221"
            ],
            [
             1,
             "#276419"
            ]
           ],
           "sequential": [
            [
             0,
             "#0d0887"
            ],
            [
             0.1111111111111111,
             "#46039f"
            ],
            [
             0.2222222222222222,
             "#7201a8"
            ],
            [
             0.3333333333333333,
             "#9c179e"
            ],
            [
             0.4444444444444444,
             "#bd3786"
            ],
            [
             0.5555555555555556,
             "#d8576b"
            ],
            [
             0.6666666666666666,
             "#ed7953"
            ],
            [
             0.7777777777777778,
             "#fb9f3a"
            ],
            [
             0.8888888888888888,
             "#fdca26"
            ],
            [
             1,
             "#f0f921"
            ]
           ],
           "sequentialminus": [
            [
             0,
             "#0d0887"
            ],
            [
             0.1111111111111111,
             "#46039f"
            ],
            [
             0.2222222222222222,
             "#7201a8"
            ],
            [
             0.3333333333333333,
             "#9c179e"
            ],
            [
             0.4444444444444444,
             "#bd3786"
            ],
            [
             0.5555555555555556,
             "#d8576b"
            ],
            [
             0.6666666666666666,
             "#ed7953"
            ],
            [
             0.7777777777777778,
             "#fb9f3a"
            ],
            [
             0.8888888888888888,
             "#fdca26"
            ],
            [
             1,
             "#f0f921"
            ]
           ]
          },
          "colorway": [
           "#636efa",
           "#EF553B",
           "#00cc96",
           "#ab63fa",
           "#FFA15A",
           "#19d3f3",
           "#FF6692",
           "#B6E880",
           "#FF97FF",
           "#FECB52"
          ],
          "font": {
           "color": "#2a3f5f"
          },
          "geo": {
           "bgcolor": "white",
           "lakecolor": "white",
           "landcolor": "#E5ECF6",
           "showlakes": true,
           "showland": true,
           "subunitcolor": "white"
          },
          "hoverlabel": {
           "align": "left"
          },
          "hovermode": "closest",
          "mapbox": {
           "style": "light"
          },
          "paper_bgcolor": "white",
          "plot_bgcolor": "#E5ECF6",
          "polar": {
           "angularaxis": {
            "gridcolor": "white",
            "linecolor": "white",
            "ticks": ""
           },
           "bgcolor": "#E5ECF6",
           "radialaxis": {
            "gridcolor": "white",
            "linecolor": "white",
            "ticks": ""
           }
          },
          "scene": {
           "xaxis": {
            "backgroundcolor": "#E5ECF6",
            "gridcolor": "white",
            "gridwidth": 2,
            "linecolor": "white",
            "showbackground": true,
            "ticks": "",
            "zerolinecolor": "white"
           },
           "yaxis": {
            "backgroundcolor": "#E5ECF6",
            "gridcolor": "white",
            "gridwidth": 2,
            "linecolor": "white",
            "showbackground": true,
            "ticks": "",
            "zerolinecolor": "white"
           },
           "zaxis": {
            "backgroundcolor": "#E5ECF6",
            "gridcolor": "white",
            "gridwidth": 2,
            "linecolor": "white",
            "showbackground": true,
            "ticks": "",
            "zerolinecolor": "white"
           }
          },
          "shapedefaults": {
           "line": {
            "color": "#2a3f5f"
           }
          },
          "ternary": {
           "aaxis": {
            "gridcolor": "white",
            "linecolor": "white",
            "ticks": ""
           },
           "baxis": {
            "gridcolor": "white",
            "linecolor": "white",
            "ticks": ""
           },
           "bgcolor": "#E5ECF6",
           "caxis": {
            "gridcolor": "white",
            "linecolor": "white",
            "ticks": ""
           }
          },
          "title": {
           "x": 0.05
          },
          "xaxis": {
           "automargin": true,
           "gridcolor": "white",
           "linecolor": "white",
           "ticks": "",
           "title": {
            "standoff": 15
           },
           "zerolinecolor": "white",
           "zerolinewidth": 2
          },
          "yaxis": {
           "automargin": true,
           "gridcolor": "white",
           "linecolor": "white",
           "ticks": "",
           "title": {
            "standoff": 15
           },
           "zerolinecolor": "white",
           "zerolinewidth": 2
          }
         }
        },
        "title": {
         "text": "Correlation Heatmap of Happiness Factors",
         "x": 0.5
        },
        "width": 800,
        "xaxis": {
         "anchor": "y",
         "domain": [
          0,
          1
         ],
         "title": {
          "text": "Attributes"
         }
        },
        "yaxis": {
         "anchor": "x",
         "autorange": "reversed",
         "domain": [
          0,
          1
         ],
         "title": {
          "text": "Attributes"
         }
        }
       }
      }
     },
     "metadata": {},
     "output_type": "display_data"
    },
    {
     "name": "stdout",
     "output_type": "stream",
     "text": [
      "Correlation Matrix:\n",
      "                               Economy (GDP per Capita)  Family  \\\n",
      "Economy (GDP per Capita)                          1.000   0.669   \n",
      "Family                                            0.669   1.000   \n",
      "Health (Life Expectancy)                          0.826   0.586   \n",
      "Freedom                                           0.361   0.450   \n",
      "Trust (Government Corruption)                     0.286   0.214   \n",
      "Generosity                                       -0.022   0.090   \n",
      "Happiness Score                                   0.790   0.739   \n",
      "\n",
      "                               Health (Life Expectancy)  Freedom  \\\n",
      "Economy (GDP per Capita)                          0.826    0.361   \n",
      "Family                                            0.586    0.450   \n",
      "Health (Life Expectancy)                          1.000    0.348   \n",
      "Freedom                                           0.348    1.000   \n",
      "Trust (Government Corruption)                     0.262    0.502   \n",
      "Generosity                                        0.070    0.362   \n",
      "Happiness Score                                   0.759    0.567   \n",
      "\n",
      "                               Trust (Government Corruption)  Generosity  \\\n",
      "Economy (GDP per Capita)                               0.286      -0.022   \n",
      "Family                                                 0.214       0.090   \n",
      "Health (Life Expectancy)                               0.262       0.070   \n",
      "Freedom                                                0.502       0.362   \n",
      "Trust (Government Corruption)                          1.000       0.306   \n",
      "Generosity                                             0.306       1.000   \n",
      "Happiness Score                                        0.402       0.157   \n",
      "\n",
      "                               Happiness Score  \n",
      "Economy (GDP per Capita)                 0.790  \n",
      "Family                                   0.739  \n",
      "Health (Life Expectancy)                 0.759  \n",
      "Freedom                                  0.567  \n",
      "Trust (Government Corruption)            0.402  \n",
      "Generosity                               0.157  \n",
      "Happiness Score                          1.000  \n"
     ]
    }
   ],
   "source": [
    "import plotly.express as px\n",
    "\n",
    "# Task 1: Create a sub-dataset with specified attributes\n",
    "sub_dataset = df[['Economy (GDP per Capita)', 'Family', 'Health (Life Expectancy)', \n",
    "                  'Freedom', 'Trust (Government Corruption)', 'Generosity', 'Happiness Score']]\n",
    "\n",
    "# Task 2: Calculate correlation matrix and create heatmap\n",
    "correlation_matrix = sub_dataset.corr()\n",
    "\n",
    "# Create heatmap using Plotly\n",
    "fig2 = px.imshow(correlation_matrix,\n",
    "                 text_auto=True,\n",
    "                 aspect=\"auto\",\n",
    "                 color_continuous_scale='RdBu_r',\n",
    "                 title='Correlation Heatmap of Happiness Factors',\n",
    "                 width=800,\n",
    "                 height=600)\n",
    "\n",
    "# Update layout for better visualization\n",
    "fig2.update_layout(\n",
    "    title_x=0.5,\n",
    "    xaxis_title=\"Attributes\",\n",
    "    yaxis_title=\"Attributes\"\n",
    ")\n",
    "\n",
    "# Show the plot\n",
    "fig2.show()\n",
    "\n",
    "# Display correlation matrix for verification\n",
    "print(\"Correlation Matrix:\")\n",
    "print(correlation_matrix.round(3))"
   ]
  },
  {
   "cell_type": "markdown",
   "id": "f0f74e3a",
   "metadata": {},
   "source": [
    "Write a code that creates a scatter plot named fig3 between Happiness Score and GDP per Capita attributes of a dataframe using Plotly. Use Region to color the data points on the scatter plot."
   ]
  },
  {
   "cell_type": "code",
   "execution_count": 11,
   "id": "45967042",
   "metadata": {},
   "outputs": [
    {
     "data": {
      "application/vnd.plotly.v1+json": {
       "config": {
        "plotlyServerURL": "https://plot.ly"
       },
       "data": [
        {
         "customdata": [
          [
           "Denmark"
          ],
          [
           "Switzerland"
          ],
          [
           "Iceland"
          ],
          [
           "Norway"
          ],
          [
           "Finland"
          ],
          [
           "Netherlands"
          ],
          [
           "Sweden"
          ],
          [
           "Austria"
          ],
          [
           "Germany"
          ],
          [
           "Belgium"
          ],
          [
           "Ireland"
          ],
          [
           "Luxembourg"
          ],
          [
           "United Kingdom"
          ],
          [
           "Malta"
          ],
          [
           "France"
          ],
          [
           "Spain"
          ],
          [
           "Italy"
          ],
          [
           "North Cyprus"
          ],
          [
           "Cyprus"
          ],
          [
           "Portugal"
          ],
          [
           "Greece"
          ]
         ],
         "hovertemplate": "Region=Western Europe<br>GDP per Capita=%{x}<br>Happiness Score=%{y}<br>Country=%{customdata[0]}<extra></extra>",
         "legendgroup": "Western Europe",
         "marker": {
          "color": "#636efa",
          "symbol": "circle"
         },
         "mode": "markers",
         "name": "Western Europe",
         "orientation": "v",
         "showlegend": true,
         "type": "scatter",
         "x": {
          "bdata": "Gm7A54cR9z/kMQOV8W/4P4guqG+Z0/Y/k2+2uTE9+T8CSG3i5H72PzqvsUtUb/c/mBdgH5069z8UXKyowTT3P5jArbt5Kvc/H7qgvmXO9j8j88gfDLz3PwzlRLsKKfs/GZC93v1x9j8i4BCq1Oz0P/2C3bBtUfY/0GG+vAB79T92cRsN4K31P5ZbWg2J+/Q/m8k329wY9T/tgVZgyGr0P16FlJ9U+/M/",
          "dtype": "f8"
         },
         "xaxis": "x",
         "y": {
          "bdata": "tMh2vp8aHkDwp8ZLNwkeQBsv3SQGAR5Ay6FFtvP9HUD0/dR46aYdQEJg5dAiWx1ARIts5/spHUBg5dAi23kcQGDl0CLb+RtAnu+nxku3G0BU46WbxKAbQJZDi2znextAZmZmZmbmGkDByqFFtvMZQLbz/dR46RlAi2zn+6lxGUCcxCCwcugXQC/dJAaBFRdAyXa+nxovFkDLoUW2830UQG8Sg8DKIRRA",
          "dtype": "f8"
         },
         "yaxis": "y"
        },
        {
         "customdata": [
          [
           "Canada"
          ],
          [
           "United States"
          ]
         ],
         "hovertemplate": "Region=North America<br>GDP per Capita=%{x}<br>Happiness Score=%{y}<br>Country=%{customdata[0]}<extra></extra>",
         "legendgroup": "North America",
         "marker": {
          "color": "#EF553B",
          "symbol": "circle"
         },
         "mode": "markers",
         "name": "North America",
         "orientation": "v",
         "showlegend": true,
         "type": "scatter",
         "x": {
          "bdata": "tFn1udoK9z+N0TqqmiD4Pw==",
          "dtype": "f8"
         },
         "xaxis": "x",
         "y": {
          "bdata": "BFYOLbKdHUDRItv5fmocQA==",
          "dtype": "f8"
         },
         "yaxis": "y"
        },
        {
         "customdata": [
          [
           "New Zealand"
          ],
          [
           "Australia"
          ]
         ],
         "hovertemplate": "Region=Australia and New Zealand<br>GDP per Capita=%{x}<br>Happiness Score=%{y}<br>Country=%{customdata[0]}<extra></extra>",
         "legendgroup": "Australia and New Zealand",
         "marker": {
          "color": "#00cc96",
          "symbol": "circle"
         },
         "mode": "markers",
         "name": "Australia and New Zealand",
         "orientation": "v",
         "showlegend": true,
         "type": "scatter",
         "x": {
          "bdata": "E5uPa0PF9T/Ox7WhYhz3Pw==",
          "dtype": "f8"
         },
         "xaxis": "x",
         "y": {
          "bdata": "vHSTGARWHUCNl24Sg0AdQA==",
          "dtype": "f8"
         },
         "yaxis": "y"
        },
        {
         "customdata": [
          [
           "Israel"
          ],
          [
           "United Arab Emirates"
          ],
          [
           "Saudi Arabia"
          ],
          [
           "Qatar"
          ],
          [
           "Algeria"
          ],
          [
           "Kuwait"
          ],
          [
           "Bahrain"
          ],
          [
           "Libya"
          ],
          [
           "Turkey"
          ],
          [
           "Jordan"
          ],
          [
           "Morocco"
          ],
          [
           "Lebanon"
          ],
          [
           "Tunisia"
          ],
          [
           "Iran"
          ],
          [
           "Palestinian Territories"
          ],
          [
           "Iraq"
          ],
          [
           "Egypt"
          ],
          [
           "Yemen"
          ],
          [
           "Syria"
          ]
         ],
         "hovertemplate": "Region=Middle East and Northern Africa<br>GDP per Capita=%{x}<br>Happiness Score=%{y}<br>Country=%{customdata[0]}<extra></extra>",
         "legendgroup": "Middle East and Northern Africa",
         "marker": {
          "color": "#ab63fa",
          "symbol": "circle"
         },
         "mode": "markers",
         "name": "Middle East and Northern Africa",
         "orientation": "v",
         "showlegend": true,
         "type": "scatter",
         "x": {
          "bdata": "gq0SLA5n9T93oblOIy35P/eSxmgd1fc/xy5RvTUw/T/y6hwDstfwP+TaUDHO3/k/TPtKsOp07j+LGkzD8BHxPxZNZyeDo/I/hSUeUDbl7z9nfjUHCObqP/T4vU1/9vE/L/oK0oxF7z9vnuqQm+HxP8ISDyibcuU/pz/7kSIy8T9JnYAmwobuP18ktOVciuI/Yr68APvo5z8=",
          "dtype": "f8"
         },
         "xaxis": "x",
         "y": {
          "bdata": "xSCwcmgRHUCYbhKDwEoaQGq8dJMYhBlAAAAAAACAGUDsUbgehWsZQNv5fmq89BhArBxaZDvfGED2KFyPwnUWQHWTGARWjhVAg8DKoUU2FUC0yHa+n5oUQGq8dJMYhBRArkfhehQuFECNl24Sg0ATQGq8dJMYBBNAzczMzMxMEkCmm8QgsHIRQJhuEoPAyg1AWmQ730+NCEA=",
          "dtype": "f8"
         },
         "yaxis": "y"
        },
        {
         "customdata": [
          [
           "Costa Rica"
          ],
          [
           "Puerto Rico"
          ],
          [
           "Brazil"
          ],
          [
           "Mexico"
          ],
          [
           "Chile"
          ],
          [
           "Panama"
          ],
          [
           "Argentina"
          ],
          [
           "Uruguay"
          ],
          [
           "Colombia"
          ],
          [
           "Guatemala"
          ],
          [
           "Suriname"
          ],
          [
           "Trinidad and Tobago"
          ],
          [
           "Venezuela"
          ],
          [
           "El Salvador"
          ],
          [
           "Nicaragua"
          ],
          [
           "Ecuador"
          ],
          [
           "Belize"
          ],
          [
           "Bolivia"
          ],
          [
           "Peru"
          ],
          [
           "Paraguay"
          ],
          [
           "Jamaica"
          ],
          [
           "Dominican Republic"
          ],
          [
           "Honduras"
          ],
          [
           "Haiti"
          ]
         ],
         "hovertemplate": "Region=Latin America and Caribbean<br>GDP per Capita=%{x}<br>Happiness Score=%{y}<br>Country=%{customdata[0]}<extra></extra>",
         "legendgroup": "Latin America and Caribbean",
         "marker": {
          "color": "#FFA15A",
          "symbol": "circle"
         },
         "mode": "markers",
         "name": "Latin America and Caribbean",
         "orientation": "v",
         "showlegend": true,
         "type": "scatter",
         "x": {
          "bdata": "YKsEi8MZ8T9xOPOrOcD1Py140VeQZvE/ZcdGIF7X8T/ysFBrmnfzP8tKk1LQ7fI/QIf58gJs8j+d9L7xtefyP7GiBtMwfPA/24XmOo206j8ipkQSvYzxPy5zuiwmNvU/Fk1nJ4Mj8j+FfNCzWfXrPzIDlfHvM+Y/3nahuU4j7z8MB0KygAnsP0z7SrDqdO4/cy7FVWXf7z/Thy6ob5nsP0ok0csoluw/4KEo0Cdy8D8rE36pnzfmPxiyutVz0tU/",
          "dtype": "f8"
         },
         "xaxis": "x",
         "y": {
          "bdata": "DAIrhxZZHEAOLbKd7yccQAIrhxbZzhtA6SYxCKwcG0BSuB6F69EaQOf7qfHSzRpAmpmZmZmZGkCuR+F6FC4aQAaBlUOL7BlAsp3vp8ZLGUD6fmq8dBMZQHnpJjEIrBhAvHSTGARWGEASg8DKoUUYQCuHFtnO9xdAgZVDi2znF0Bt5/up8dIXQH0/NV66SRdARrbz/dT4FkD0/dR46SYWQArXo3A9ChZAH4XrUbieFECWQ4ts53sTQOkmMQisHBBA",
          "dtype": "f8"
         },
         "yaxis": "y"
        },
        {
         "customdata": [
          [
           "Singapore"
          ],
          [
           "Thailand"
          ],
          [
           "Malaysia"
          ],
          [
           "Indonesia"
          ],
          [
           "Philippines"
          ],
          [
           "Vietnam"
          ],
          [
           "Laos"
          ],
          [
           "Myanmar"
          ],
          [
           "Cambodia"
          ]
         ],
         "hovertemplate": "Region=Southeastern Asia<br>GDP per Capita=%{x}<br>Happiness Score=%{y}<br>Country=%{customdata[0]}<extra></extra>",
         "legendgroup": "Southeastern Asia",
         "marker": {
          "color": "#19d3f3",
          "symbol": "circle"
         },
         "mode": "markers",
         "name": "Southeastern Asia",
         "orientation": "v",
         "showlegend": true,
         "type": "scatter",
         "x": {
          "bdata": "wOyePCxU+j9ZhjjWxW3xPxL3WPrQBfQ/yQImcOtu7j+vWpnwS/3pP4wQHm0csec/EmvxKQDG5T++vAD76NTVPyWS6GUUy+E/",
          "dtype": "f8"
         },
         "xaxis": "x",
         "y": {
          "bdata": "2/l+arz0GkBMN4lBYOUZQIXrUbgeBRhAqMZLN4lBFUAEVg4tsh0VQFg5tMh2PhRAGy/dJAaBE0AUrkfhepQRQKjGSzeJQQ9A",
          "dtype": "f8"
         },
         "yaxis": "y"
        },
        {
         "customdata": [
          [
           "Czech Republic"
          ],
          [
           "Slovakia"
          ],
          [
           "Uzbekistan"
          ],
          [
           "Kazakhstan"
          ],
          [
           "Moldova"
          ],
          [
           "Russia"
          ],
          [
           "Poland"
          ],
          [
           "Lithuania"
          ],
          [
           "Belarus"
          ],
          [
           "Slovenia"
          ],
          [
           "Turkmenistan"
          ],
          [
           "Latvia"
          ],
          [
           "Romania"
          ],
          [
           "Estonia"
          ],
          [
           "Croatia"
          ],
          [
           "Kosovo"
          ],
          [
           "Azerbaijan"
          ],
          [
           "Kyrgyzstan"
          ],
          [
           "Serbia"
          ],
          [
           "Bosnia and Herzegovina"
          ],
          [
           "Montenegro"
          ],
          [
           "Hungary"
          ],
          [
           "Macedonia"
          ],
          [
           "Tajikistan"
          ],
          [
           "Albania"
          ],
          [
           "Armenia"
          ],
          [
           "Ukraine"
          ],
          [
           "Georgia"
          ],
          [
           "Bulgaria"
          ]
         ],
         "hovertemplate": "Region=Central and Eastern Europe<br>GDP per Capita=%{x}<br>Happiness Score=%{y}<br>Country=%{customdata[0]}<extra></extra>",
         "legendgroup": "Central and Eastern Europe",
         "marker": {
          "color": "#FF6692",
          "symbol": "circle"
         },
         "mode": "markers",
         "name": "Central and Eastern Europe",
         "orientation": "v",
         "showlegend": true,
         "type": "scatter",
         "x": {
          "bdata": "Ne84RUfy9D99XBsqxnn0P1uU2SCTjOc/XYqryr6r8z9QU8vW+iLmP/M8uDtrt/M/rIvbaADv8z/KVMGopE70P55BQ/8EF/I/QiECDqHK9D/V7IFWYEjxP1w9J71vfPM/ZRniWBe38j9+dOrKZ3n0PyR/MPDc+/I/m1Wfq63Y7D+Xi/hOzPrxPwLZ690f7+E/lGqfjseM8D/9wcBz7+HtP1ORCmMLQfE/6ZrJN9vc8z87AU2EDU/wPzcawFsgQd8/Ns07TtGR7j/q501FKozrP8oa9RCN7us/HEKVmj3Q6j+sxacAGM/xPw==",
          "dtype": "f8"
         },
         "xaxis": "x",
         "y": {
          "bdata": "/Knx0k1iGkAdWmQ7308YQKabxCCw8hdAkxgEVg6tF0BKDAIrh5YXQAaBlUOLbBdA16NwPQpXF0CNl24Sg0AXQGiR7Xw/NRdA30+Nl24SF0BvEoPAyqEWQD0K16NwPRZA6SYxCKwcFkDFILByaBEWQMHKoUW28xVAtMh2vp+aFUBEi2zn+ykVQD0K16NwvRRAaJHtfD+1FED0/dR46aYUQL6fGi/dpBRAFK5H4XqUFECWQ4ts53sUQJZDi2zn+xNAH4XrUbieEkBxPQrXo3ARQLKd76fGSxFANV66SQwCEUCR7Xw/Nd4QQA==",
          "dtype": "f8"
         },
         "yaxis": "y"
        },
        {
         "customdata": [
          [
           "Taiwan"
          ],
          [
           "Japan"
          ],
          [
           "South Korea"
          ],
          [
           "Hong Kong"
          ],
          [
           "China"
          ],
          [
           "Mongolia"
          ]
         ],
         "hovertemplate": "Region=Eastern Asia<br>GDP per Capita=%{x}<br>Happiness Score=%{y}<br>Country=%{customdata[0]}<extra></extra>",
         "legendgroup": "Eastern Asia",
         "marker": {
          "color": "#B6E880",
          "symbol": "circle"
         },
         "mode": "markers",
         "name": "Eastern Asia",
         "orientation": "v",
         "showlegend": true,
         "type": "scatter",
         "x": {
          "bdata": "CHJQwkxb9j8wDcNHxBT2P6oOuRluwPU/QBNhw9Mr+D/EQq1p3nHwPxmto6oJou8/",
          "dtype": "f8"
         },
         "xaxis": "x",
         "y": {
          "bdata": "arx0kxiEGUDJdr6fGq8XQNejcD0KVxdAokW28/3UFUB7FK5H4foUQFTjpZvEoBNA",
          "dtype": "f8"
         },
         "yaxis": "y"
        },
        {
         "customdata": [
          [
           "Mauritius"
          ],
          [
           "Somalia"
          ],
          [
           "Somaliland Region"
          ],
          [
           "Nigeria"
          ],
          [
           "Zambia"
          ],
          [
           "Sierra Leone"
          ],
          [
           "Namibia"
          ],
          [
           "Cameroon"
          ],
          [
           "Ethiopia"
          ],
          [
           "South Africa"
          ],
          [
           "Kenya"
          ],
          [
           "Ghana"
          ],
          [
           "Congo (Kinshasa)"
          ],
          [
           "Congo (Brazzaville)"
          ],
          [
           "Senegal"
          ],
          [
           "Mauritania"
          ],
          [
           "Zimbabwe"
          ],
          [
           "Malawi"
          ],
          [
           "Sudan"
          ],
          [
           "Gabon"
          ],
          [
           "Mali"
          ],
          [
           "Botswana"
          ],
          [
           "Comoros"
          ],
          [
           "Ivory Coast"
          ],
          [
           "Angola"
          ],
          [
           "Niger"
          ],
          [
           "South Sudan"
          ],
          [
           "Chad"
          ],
          [
           "Burkina Faso"
          ],
          [
           "Uganda"
          ],
          [
           "Madagascar"
          ],
          [
           "Tanzania"
          ],
          [
           "Liberia"
          ],
          [
           "Guinea"
          ],
          [
           "Rwanda"
          ],
          [
           "Benin"
          ],
          [
           "Togo"
          ],
          [
           "Burundi"
          ]
         ],
         "hovertemplate": "Region=Sub-Saharan Africa<br>GDP per Capita=%{x}<br>Happiness Score=%{y}<br>Country=%{customdata[0]}<extra></extra>",
         "legendgroup": "Sub-Saharan Africa",
         "marker": {
          "color": "#FF97FF",
          "symbol": "circle"
         },
         "mode": "markers",
         "name": "Sub-Saharan Africa",
         "orientation": "v",
         "showlegend": true,
         "type": "scatter",
         "x": {
          "bdata": "eH+8V61M8j8AAAAAAAAAAF2/YDdsW9A/4X8r2bER6D/27o/3qpXjP7aEfNCzWdc/tWytLxLa7T8jMqzijczgP1lpUgq6vdI/F/GdmPVi8D/SNZNvtrngPzaTb7a5MeQ/ecxAZfz7rD94uYjvxKzoPwYq499nXNw/2v6VlSal4z8+P4wQHm3WPwgDz72HS7Y/dEF9y5wu5D9hbCHIQYnyP57qkJvhBtQ/pyIVxhaC8T+XOV0WE5vRP/qzHykiw+E/Plxy3Ckd6z8H8BZIUPzAP/WEJR5QNtk/FVeVfVcE2z+Zu5aQD3rUPyrj32dcONY/MiB7vfvj0T92cRsN4C3eP9Wytb5IaLs/xf6ye/KwzD+E04IXfQXVP4HPDyOER9k/ctwpHaz/0T/pYP2fw3yxPw==",
          "dtype": "f8"
         },
         "xaxis": "x",
         "y": {
          "bdata": "ZDvfT42XFkDD9Shcj8IVQO58PzVeOhRAAAAAAACAE0CuR+F6FC4TQArXo3A9ihJAsp3vp8ZLEkBaZDvfTw0SQNV46SYxCBJAvHSTGATWEUAGgZVDi2wRQLTIdr6fGhFASgwCK4cWEUCLbOf7qfEQQMdLN4lB4BBA5/up8dLNEEASg8DKocUQQDm0yHa+nxBAdZMYBFaOEECWQ4ts53sQQJhuEoPAShBAmG4Sg8DKD0DZzvdT46UPQIcW2c73Uw9AIbByaJHtDkAMAiuHFtkOQA4tsp3vpw5AtMh2vp8aDkC28/3UeOkNQLbz/dR46Q1Aj8L1KFyPDUCHFtnO91MNQGDl0CLb+QxAQmDl0CLbDEAfhetRuB4MQKwcWmQ73wtABoGVQ4tsCkA9CtejcD0HQA==",
          "dtype": "f8"
         },
         "yaxis": "y"
        },
        {
         "customdata": [
          [
           "Bhutan"
          ],
          [
           "Pakistan"
          ],
          [
           "Nepal"
          ],
          [
           "Bangladesh"
          ],
          [
           "Sri Lanka"
          ],
          [
           "India"
          ],
          [
           "Afghanistan"
          ]
         ],
         "hovertemplate": "Region=Southern Asia<br>GDP per Capita=%{x}<br>Happiness Score=%{y}<br>Country=%{customdata[0]}<extra></extra>",
         "legendgroup": "Southern Asia",
         "marker": {
          "color": "#FECB52",
          "symbol": "circle"
         },
         "mode": "markers",
         "name": "Southern Asia",
         "orientation": "v",
         "showlegend": true,
         "type": "scatter",
         "x": {
          "bdata": "DJOpglFJ6z+hSs0eaAXmP1bUYBqGj9w/g4b+CS5W4T+H4SNiSiTvP6mHaHQHsec/nnsPlxx32D8=",
          "dtype": "f8"
         },
         "xaxis": "x",
         "y": {
          "bdata": "YhBYObTIFEC6SQwCK4cUQHnpJjEILBNA30+Nl26SEkApXI/C9agRQARWDi2ynRFA4XoUrkfhCkA=",
          "dtype": "f8"
         },
         "yaxis": "y"
        }
       ],
       "layout": {
        "height": 600,
        "legend": {
         "title": {
          "text": "Region"
         },
         "tracegroupgap": 0
        },
        "template": {
         "data": {
          "bar": [
           {
            "error_x": {
             "color": "#2a3f5f"
            },
            "error_y": {
             "color": "#2a3f5f"
            },
            "marker": {
             "line": {
              "color": "#E5ECF6",
              "width": 0.5
             },
             "pattern": {
              "fillmode": "overlay",
              "size": 10,
              "solidity": 0.2
             }
            },
            "type": "bar"
           }
          ],
          "barpolar": [
           {
            "marker": {
             "line": {
              "color": "#E5ECF6",
              "width": 0.5
             },
             "pattern": {
              "fillmode": "overlay",
              "size": 10,
              "solidity": 0.2
             }
            },
            "type": "barpolar"
           }
          ],
          "carpet": [
           {
            "aaxis": {
             "endlinecolor": "#2a3f5f",
             "gridcolor": "white",
             "linecolor": "white",
             "minorgridcolor": "white",
             "startlinecolor": "#2a3f5f"
            },
            "baxis": {
             "endlinecolor": "#2a3f5f",
             "gridcolor": "white",
             "linecolor": "white",
             "minorgridcolor": "white",
             "startlinecolor": "#2a3f5f"
            },
            "type": "carpet"
           }
          ],
          "choropleth": [
           {
            "colorbar": {
             "outlinewidth": 0,
             "ticks": ""
            },
            "type": "choropleth"
           }
          ],
          "contour": [
           {
            "colorbar": {
             "outlinewidth": 0,
             "ticks": ""
            },
            "colorscale": [
             [
              0,
              "#0d0887"
             ],
             [
              0.1111111111111111,
              "#46039f"
             ],
             [
              0.2222222222222222,
              "#7201a8"
             ],
             [
              0.3333333333333333,
              "#9c179e"
             ],
             [
              0.4444444444444444,
              "#bd3786"
             ],
             [
              0.5555555555555556,
              "#d8576b"
             ],
             [
              0.6666666666666666,
              "#ed7953"
             ],
             [
              0.7777777777777778,
              "#fb9f3a"
             ],
             [
              0.8888888888888888,
              "#fdca26"
             ],
             [
              1,
              "#f0f921"
             ]
            ],
            "type": "contour"
           }
          ],
          "contourcarpet": [
           {
            "colorbar": {
             "outlinewidth": 0,
             "ticks": ""
            },
            "type": "contourcarpet"
           }
          ],
          "heatmap": [
           {
            "colorbar": {
             "outlinewidth": 0,
             "ticks": ""
            },
            "colorscale": [
             [
              0,
              "#0d0887"
             ],
             [
              0.1111111111111111,
              "#46039f"
             ],
             [
              0.2222222222222222,
              "#7201a8"
             ],
             [
              0.3333333333333333,
              "#9c179e"
             ],
             [
              0.4444444444444444,
              "#bd3786"
             ],
             [
              0.5555555555555556,
              "#d8576b"
             ],
             [
              0.6666666666666666,
              "#ed7953"
             ],
             [
              0.7777777777777778,
              "#fb9f3a"
             ],
             [
              0.8888888888888888,
              "#fdca26"
             ],
             [
              1,
              "#f0f921"
             ]
            ],
            "type": "heatmap"
           }
          ],
          "histogram": [
           {
            "marker": {
             "pattern": {
              "fillmode": "overlay",
              "size": 10,
              "solidity": 0.2
             }
            },
            "type": "histogram"
           }
          ],
          "histogram2d": [
           {
            "colorbar": {
             "outlinewidth": 0,
             "ticks": ""
            },
            "colorscale": [
             [
              0,
              "#0d0887"
             ],
             [
              0.1111111111111111,
              "#46039f"
             ],
             [
              0.2222222222222222,
              "#7201a8"
             ],
             [
              0.3333333333333333,
              "#9c179e"
             ],
             [
              0.4444444444444444,
              "#bd3786"
             ],
             [
              0.5555555555555556,
              "#d8576b"
             ],
             [
              0.6666666666666666,
              "#ed7953"
             ],
             [
              0.7777777777777778,
              "#fb9f3a"
             ],
             [
              0.8888888888888888,
              "#fdca26"
             ],
             [
              1,
              "#f0f921"
             ]
            ],
            "type": "histogram2d"
           }
          ],
          "histogram2dcontour": [
           {
            "colorbar": {
             "outlinewidth": 0,
             "ticks": ""
            },
            "colorscale": [
             [
              0,
              "#0d0887"
             ],
             [
              0.1111111111111111,
              "#46039f"
             ],
             [
              0.2222222222222222,
              "#7201a8"
             ],
             [
              0.3333333333333333,
              "#9c179e"
             ],
             [
              0.4444444444444444,
              "#bd3786"
             ],
             [
              0.5555555555555556,
              "#d8576b"
             ],
             [
              0.6666666666666666,
              "#ed7953"
             ],
             [
              0.7777777777777778,
              "#fb9f3a"
             ],
             [
              0.8888888888888888,
              "#fdca26"
             ],
             [
              1,
              "#f0f921"
             ]
            ],
            "type": "histogram2dcontour"
           }
          ],
          "mesh3d": [
           {
            "colorbar": {
             "outlinewidth": 0,
             "ticks": ""
            },
            "type": "mesh3d"
           }
          ],
          "parcoords": [
           {
            "line": {
             "colorbar": {
              "outlinewidth": 0,
              "ticks": ""
             }
            },
            "type": "parcoords"
           }
          ],
          "pie": [
           {
            "automargin": true,
            "type": "pie"
           }
          ],
          "scatter": [
           {
            "fillpattern": {
             "fillmode": "overlay",
             "size": 10,
             "solidity": 0.2
            },
            "type": "scatter"
           }
          ],
          "scatter3d": [
           {
            "line": {
             "colorbar": {
              "outlinewidth": 0,
              "ticks": ""
             }
            },
            "marker": {
             "colorbar": {
              "outlinewidth": 0,
              "ticks": ""
             }
            },
            "type": "scatter3d"
           }
          ],
          "scattercarpet": [
           {
            "marker": {
             "colorbar": {
              "outlinewidth": 0,
              "ticks": ""
             }
            },
            "type": "scattercarpet"
           }
          ],
          "scattergeo": [
           {
            "marker": {
             "colorbar": {
              "outlinewidth": 0,
              "ticks": ""
             }
            },
            "type": "scattergeo"
           }
          ],
          "scattergl": [
           {
            "marker": {
             "colorbar": {
              "outlinewidth": 0,
              "ticks": ""
             }
            },
            "type": "scattergl"
           }
          ],
          "scattermap": [
           {
            "marker": {
             "colorbar": {
              "outlinewidth": 0,
              "ticks": ""
             }
            },
            "type": "scattermap"
           }
          ],
          "scattermapbox": [
           {
            "marker": {
             "colorbar": {
              "outlinewidth": 0,
              "ticks": ""
             }
            },
            "type": "scattermapbox"
           }
          ],
          "scatterpolar": [
           {
            "marker": {
             "colorbar": {
              "outlinewidth": 0,
              "ticks": ""
             }
            },
            "type": "scatterpolar"
           }
          ],
          "scatterpolargl": [
           {
            "marker": {
             "colorbar": {
              "outlinewidth": 0,
              "ticks": ""
             }
            },
            "type": "scatterpolargl"
           }
          ],
          "scatterternary": [
           {
            "marker": {
             "colorbar": {
              "outlinewidth": 0,
              "ticks": ""
             }
            },
            "type": "scatterternary"
           }
          ],
          "surface": [
           {
            "colorbar": {
             "outlinewidth": 0,
             "ticks": ""
            },
            "colorscale": [
             [
              0,
              "#0d0887"
             ],
             [
              0.1111111111111111,
              "#46039f"
             ],
             [
              0.2222222222222222,
              "#7201a8"
             ],
             [
              0.3333333333333333,
              "#9c179e"
             ],
             [
              0.4444444444444444,
              "#bd3786"
             ],
             [
              0.5555555555555556,
              "#d8576b"
             ],
             [
              0.6666666666666666,
              "#ed7953"
             ],
             [
              0.7777777777777778,
              "#fb9f3a"
             ],
             [
              0.8888888888888888,
              "#fdca26"
             ],
             [
              1,
              "#f0f921"
             ]
            ],
            "type": "surface"
           }
          ],
          "table": [
           {
            "cells": {
             "fill": {
              "color": "#EBF0F8"
             },
             "line": {
              "color": "white"
             }
            },
            "header": {
             "fill": {
              "color": "#C8D4E3"
             },
             "line": {
              "color": "white"
             }
            },
            "type": "table"
           }
          ]
         },
         "layout": {
          "annotationdefaults": {
           "arrowcolor": "#2a3f5f",
           "arrowhead": 0,
           "arrowwidth": 1
          },
          "autotypenumbers": "strict",
          "coloraxis": {
           "colorbar": {
            "outlinewidth": 0,
            "ticks": ""
           }
          },
          "colorscale": {
           "diverging": [
            [
             0,
             "#8e0152"
            ],
            [
             0.1,
             "#c51b7d"
            ],
            [
             0.2,
             "#de77ae"
            ],
            [
             0.3,
             "#f1b6da"
            ],
            [
             0.4,
             "#fde0ef"
            ],
            [
             0.5,
             "#f7f7f7"
            ],
            [
             0.6,
             "#e6f5d0"
            ],
            [
             0.7,
             "#b8e186"
            ],
            [
             0.8,
             "#7fbc41"
            ],
            [
             0.9,
             "#4d9221"
            ],
            [
             1,
             "#276419"
            ]
           ],
           "sequential": [
            [
             0,
             "#0d0887"
            ],
            [
             0.1111111111111111,
             "#46039f"
            ],
            [
             0.2222222222222222,
             "#7201a8"
            ],
            [
             0.3333333333333333,
             "#9c179e"
            ],
            [
             0.4444444444444444,
             "#bd3786"
            ],
            [
             0.5555555555555556,
             "#d8576b"
            ],
            [
             0.6666666666666666,
             "#ed7953"
            ],
            [
             0.7777777777777778,
             "#fb9f3a"
            ],
            [
             0.8888888888888888,
             "#fdca26"
            ],
            [
             1,
             "#f0f921"
            ]
           ],
           "sequentialminus": [
            [
             0,
             "#0d0887"
            ],
            [
             0.1111111111111111,
             "#46039f"
            ],
            [
             0.2222222222222222,
             "#7201a8"
            ],
            [
             0.3333333333333333,
             "#9c179e"
            ],
            [
             0.4444444444444444,
             "#bd3786"
            ],
            [
             0.5555555555555556,
             "#d8576b"
            ],
            [
             0.6666666666666666,
             "#ed7953"
            ],
            [
             0.7777777777777778,
             "#fb9f3a"
            ],
            [
             0.8888888888888888,
             "#fdca26"
            ],
            [
             1,
             "#f0f921"
            ]
           ]
          },
          "colorway": [
           "#636efa",
           "#EF553B",
           "#00cc96",
           "#ab63fa",
           "#FFA15A",
           "#19d3f3",
           "#FF6692",
           "#B6E880",
           "#FF97FF",
           "#FECB52"
          ],
          "font": {
           "color": "#2a3f5f"
          },
          "geo": {
           "bgcolor": "white",
           "lakecolor": "white",
           "landcolor": "#E5ECF6",
           "showlakes": true,
           "showland": true,
           "subunitcolor": "white"
          },
          "hoverlabel": {
           "align": "left"
          },
          "hovermode": "closest",
          "mapbox": {
           "style": "light"
          },
          "paper_bgcolor": "white",
          "plot_bgcolor": "#E5ECF6",
          "polar": {
           "angularaxis": {
            "gridcolor": "white",
            "linecolor": "white",
            "ticks": ""
           },
           "bgcolor": "#E5ECF6",
           "radialaxis": {
            "gridcolor": "white",
            "linecolor": "white",
            "ticks": ""
           }
          },
          "scene": {
           "xaxis": {
            "backgroundcolor": "#E5ECF6",
            "gridcolor": "white",
            "gridwidth": 2,
            "linecolor": "white",
            "showbackground": true,
            "ticks": "",
            "zerolinecolor": "white"
           },
           "yaxis": {
            "backgroundcolor": "#E5ECF6",
            "gridcolor": "white",
            "gridwidth": 2,
            "linecolor": "white",
            "showbackground": true,
            "ticks": "",
            "zerolinecolor": "white"
           },
           "zaxis": {
            "backgroundcolor": "#E5ECF6",
            "gridcolor": "white",
            "gridwidth": 2,
            "linecolor": "white",
            "showbackground": true,
            "ticks": "",
            "zerolinecolor": "white"
           }
          },
          "shapedefaults": {
           "line": {
            "color": "#2a3f5f"
           }
          },
          "ternary": {
           "aaxis": {
            "gridcolor": "white",
            "linecolor": "white",
            "ticks": ""
           },
           "baxis": {
            "gridcolor": "white",
            "linecolor": "white",
            "ticks": ""
           },
           "bgcolor": "#E5ECF6",
           "caxis": {
            "gridcolor": "white",
            "linecolor": "white",
            "ticks": ""
           }
          },
          "title": {
           "x": 0.05
          },
          "xaxis": {
           "automargin": true,
           "gridcolor": "white",
           "linecolor": "white",
           "ticks": "",
           "title": {
            "standoff": 15
           },
           "zerolinecolor": "white",
           "zerolinewidth": 2
          },
          "yaxis": {
           "automargin": true,
           "gridcolor": "white",
           "linecolor": "white",
           "ticks": "",
           "title": {
            "standoff": 15
           },
           "zerolinecolor": "white",
           "zerolinewidth": 2
          }
         }
        },
        "title": {
         "text": "Scatter Plot: Happiness Score vs GDP per Capita by Region",
         "x": 0.5
        },
        "width": 800,
        "xaxis": {
         "anchor": "y",
         "domain": [
          0,
          1
         ],
         "title": {
          "text": "GDP per Capita"
         }
        },
        "yaxis": {
         "anchor": "x",
         "domain": [
          0,
          1
         ],
         "title": {
          "text": "Happiness Score"
         }
        }
       }
      }
     },
     "metadata": {},
     "output_type": "display_data"
    }
   ],
   "source": [
    "\n",
    "# Create scatter plot between Happiness Score and GDP per Capita colored by Region\n",
    "fig3 = px.scatter(df, \n",
    "                  x='Economy (GDP per Capita)', \n",
    "                  y='Happiness Score',\n",
    "                  color='Region',\n",
    "                  title='Scatter Plot: Happiness Score vs GDP per Capita by Region',\n",
    "                  labels={\n",
    "                      'Economy (GDP per Capita)': 'GDP per Capita',\n",
    "                      'Happiness Score': 'Happiness Score'\n",
    "                  },\n",
    "                  hover_data=['Country'])\n",
    "\n",
    "# Update layout for better visualization\n",
    "fig3.update_layout(\n",
    "    title_x=0.5,\n",
    "    width=800,\n",
    "    height=600\n",
    ")\n",
    "\n",
    "# Show the plot\n",
    "fig3.show()"
   ]
  },
  {
   "cell_type": "markdown",
   "id": "bf9aa95c",
   "metadata": {},
   "source": [
    "Write a Plotly code that creates a pie chart named fig4 to present Happiness Score by Region attributes of dataframe df."
   ]
  },
  {
   "cell_type": "code",
   "execution_count": 14,
   "id": "d6d66038",
   "metadata": {},
   "outputs": [
    {
     "data": {
      "application/vnd.plotly.v1+json": {
       "config": {
        "plotlyServerURL": "https://plot.ly"
       },
       "data": [
        {
         "domain": {
          "x": [
           0,
           1
          ],
          "y": [
           0,
           1
          ]
         },
         "hovertemplate": "Region=%{label}<br>Happiness Score=%{value}<extra></extra>",
         "labels": [
          "Australia and New Zealand",
          "Central and Eastern Europe",
          "Eastern Asia",
          "Latin America and Caribbean",
          "Middle East and Northern Africa",
          "North America",
          "Southeastern Asia",
          "Southern Asia",
          "Sub-Saharan Africa",
          "Western Europe"
         ],
         "legendgroup": "",
         "name": "",
         "showlegend": true,
         "type": "pie",
         "values": {
          "bdata": "JAaBlUNLLUAAAAAAAHhjQI/C9Shc30BAoBov3SROYkA9CtejcJVZQGq8dJMYBC1AZmZmZmYGSEDEILByaPE/QNnO91PjpWNAVOOlm8SMYUA=",
          "dtype": "f8"
         }
        }
       ],
       "layout": {
        "height": 600,
        "legend": {
         "tracegroupgap": 0
        },
        "template": {
         "data": {
          "bar": [
           {
            "error_x": {
             "color": "#2a3f5f"
            },
            "error_y": {
             "color": "#2a3f5f"
            },
            "marker": {
             "line": {
              "color": "#E5ECF6",
              "width": 0.5
             },
             "pattern": {
              "fillmode": "overlay",
              "size": 10,
              "solidity": 0.2
             }
            },
            "type": "bar"
           }
          ],
          "barpolar": [
           {
            "marker": {
             "line": {
              "color": "#E5ECF6",
              "width": 0.5
             },
             "pattern": {
              "fillmode": "overlay",
              "size": 10,
              "solidity": 0.2
             }
            },
            "type": "barpolar"
           }
          ],
          "carpet": [
           {
            "aaxis": {
             "endlinecolor": "#2a3f5f",
             "gridcolor": "white",
             "linecolor": "white",
             "minorgridcolor": "white",
             "startlinecolor": "#2a3f5f"
            },
            "baxis": {
             "endlinecolor": "#2a3f5f",
             "gridcolor": "white",
             "linecolor": "white",
             "minorgridcolor": "white",
             "startlinecolor": "#2a3f5f"
            },
            "type": "carpet"
           }
          ],
          "choropleth": [
           {
            "colorbar": {
             "outlinewidth": 0,
             "ticks": ""
            },
            "type": "choropleth"
           }
          ],
          "contour": [
           {
            "colorbar": {
             "outlinewidth": 0,
             "ticks": ""
            },
            "colorscale": [
             [
              0,
              "#0d0887"
             ],
             [
              0.1111111111111111,
              "#46039f"
             ],
             [
              0.2222222222222222,
              "#7201a8"
             ],
             [
              0.3333333333333333,
              "#9c179e"
             ],
             [
              0.4444444444444444,
              "#bd3786"
             ],
             [
              0.5555555555555556,
              "#d8576b"
             ],
             [
              0.6666666666666666,
              "#ed7953"
             ],
             [
              0.7777777777777778,
              "#fb9f3a"
             ],
             [
              0.8888888888888888,
              "#fdca26"
             ],
             [
              1,
              "#f0f921"
             ]
            ],
            "type": "contour"
           }
          ],
          "contourcarpet": [
           {
            "colorbar": {
             "outlinewidth": 0,
             "ticks": ""
            },
            "type": "contourcarpet"
           }
          ],
          "heatmap": [
           {
            "colorbar": {
             "outlinewidth": 0,
             "ticks": ""
            },
            "colorscale": [
             [
              0,
              "#0d0887"
             ],
             [
              0.1111111111111111,
              "#46039f"
             ],
             [
              0.2222222222222222,
              "#7201a8"
             ],
             [
              0.3333333333333333,
              "#9c179e"
             ],
             [
              0.4444444444444444,
              "#bd3786"
             ],
             [
              0.5555555555555556,
              "#d8576b"
             ],
             [
              0.6666666666666666,
              "#ed7953"
             ],
             [
              0.7777777777777778,
              "#fb9f3a"
             ],
             [
              0.8888888888888888,
              "#fdca26"
             ],
             [
              1,
              "#f0f921"
             ]
            ],
            "type": "heatmap"
           }
          ],
          "histogram": [
           {
            "marker": {
             "pattern": {
              "fillmode": "overlay",
              "size": 10,
              "solidity": 0.2
             }
            },
            "type": "histogram"
           }
          ],
          "histogram2d": [
           {
            "colorbar": {
             "outlinewidth": 0,
             "ticks": ""
            },
            "colorscale": [
             [
              0,
              "#0d0887"
             ],
             [
              0.1111111111111111,
              "#46039f"
             ],
             [
              0.2222222222222222,
              "#7201a8"
             ],
             [
              0.3333333333333333,
              "#9c179e"
             ],
             [
              0.4444444444444444,
              "#bd3786"
             ],
             [
              0.5555555555555556,
              "#d8576b"
             ],
             [
              0.6666666666666666,
              "#ed7953"
             ],
             [
              0.7777777777777778,
              "#fb9f3a"
             ],
             [
              0.8888888888888888,
              "#fdca26"
             ],
             [
              1,
              "#f0f921"
             ]
            ],
            "type": "histogram2d"
           }
          ],
          "histogram2dcontour": [
           {
            "colorbar": {
             "outlinewidth": 0,
             "ticks": ""
            },
            "colorscale": [
             [
              0,
              "#0d0887"
             ],
             [
              0.1111111111111111,
              "#46039f"
             ],
             [
              0.2222222222222222,
              "#7201a8"
             ],
             [
              0.3333333333333333,
              "#9c179e"
             ],
             [
              0.4444444444444444,
              "#bd3786"
             ],
             [
              0.5555555555555556,
              "#d8576b"
             ],
             [
              0.6666666666666666,
              "#ed7953"
             ],
             [
              0.7777777777777778,
              "#fb9f3a"
             ],
             [
              0.8888888888888888,
              "#fdca26"
             ],
             [
              1,
              "#f0f921"
             ]
            ],
            "type": "histogram2dcontour"
           }
          ],
          "mesh3d": [
           {
            "colorbar": {
             "outlinewidth": 0,
             "ticks": ""
            },
            "type": "mesh3d"
           }
          ],
          "parcoords": [
           {
            "line": {
             "colorbar": {
              "outlinewidth": 0,
              "ticks": ""
             }
            },
            "type": "parcoords"
           }
          ],
          "pie": [
           {
            "automargin": true,
            "type": "pie"
           }
          ],
          "scatter": [
           {
            "fillpattern": {
             "fillmode": "overlay",
             "size": 10,
             "solidity": 0.2
            },
            "type": "scatter"
           }
          ],
          "scatter3d": [
           {
            "line": {
             "colorbar": {
              "outlinewidth": 0,
              "ticks": ""
             }
            },
            "marker": {
             "colorbar": {
              "outlinewidth": 0,
              "ticks": ""
             }
            },
            "type": "scatter3d"
           }
          ],
          "scattercarpet": [
           {
            "marker": {
             "colorbar": {
              "outlinewidth": 0,
              "ticks": ""
             }
            },
            "type": "scattercarpet"
           }
          ],
          "scattergeo": [
           {
            "marker": {
             "colorbar": {
              "outlinewidth": 0,
              "ticks": ""
             }
            },
            "type": "scattergeo"
           }
          ],
          "scattergl": [
           {
            "marker": {
             "colorbar": {
              "outlinewidth": 0,
              "ticks": ""
             }
            },
            "type": "scattergl"
           }
          ],
          "scattermap": [
           {
            "marker": {
             "colorbar": {
              "outlinewidth": 0,
              "ticks": ""
             }
            },
            "type": "scattermap"
           }
          ],
          "scattermapbox": [
           {
            "marker": {
             "colorbar": {
              "outlinewidth": 0,
              "ticks": ""
             }
            },
            "type": "scattermapbox"
           }
          ],
          "scatterpolar": [
           {
            "marker": {
             "colorbar": {
              "outlinewidth": 0,
              "ticks": ""
             }
            },
            "type": "scatterpolar"
           }
          ],
          "scatterpolargl": [
           {
            "marker": {
             "colorbar": {
              "outlinewidth": 0,
              "ticks": ""
             }
            },
            "type": "scatterpolargl"
           }
          ],
          "scatterternary": [
           {
            "marker": {
             "colorbar": {
              "outlinewidth": 0,
              "ticks": ""
             }
            },
            "type": "scatterternary"
           }
          ],
          "surface": [
           {
            "colorbar": {
             "outlinewidth": 0,
             "ticks": ""
            },
            "colorscale": [
             [
              0,
              "#0d0887"
             ],
             [
              0.1111111111111111,
              "#46039f"
             ],
             [
              0.2222222222222222,
              "#7201a8"
             ],
             [
              0.3333333333333333,
              "#9c179e"
             ],
             [
              0.4444444444444444,
              "#bd3786"
             ],
             [
              0.5555555555555556,
              "#d8576b"
             ],
             [
              0.6666666666666666,
              "#ed7953"
             ],
             [
              0.7777777777777778,
              "#fb9f3a"
             ],
             [
              0.8888888888888888,
              "#fdca26"
             ],
             [
              1,
              "#f0f921"
             ]
            ],
            "type": "surface"
           }
          ],
          "table": [
           {
            "cells": {
             "fill": {
              "color": "#EBF0F8"
             },
             "line": {
              "color": "white"
             }
            },
            "header": {
             "fill": {
              "color": "#C8D4E3"
             },
             "line": {
              "color": "white"
             }
            },
            "type": "table"
           }
          ]
         },
         "layout": {
          "annotationdefaults": {
           "arrowcolor": "#2a3f5f",
           "arrowhead": 0,
           "arrowwidth": 1
          },
          "autotypenumbers": "strict",
          "coloraxis": {
           "colorbar": {
            "outlinewidth": 0,
            "ticks": ""
           }
          },
          "colorscale": {
           "diverging": [
            [
             0,
             "#8e0152"
            ],
            [
             0.1,
             "#c51b7d"
            ],
            [
             0.2,
             "#de77ae"
            ],
            [
             0.3,
             "#f1b6da"
            ],
            [
             0.4,
             "#fde0ef"
            ],
            [
             0.5,
             "#f7f7f7"
            ],
            [
             0.6,
             "#e6f5d0"
            ],
            [
             0.7,
             "#b8e186"
            ],
            [
             0.8,
             "#7fbc41"
            ],
            [
             0.9,
             "#4d9221"
            ],
            [
             1,
             "#276419"
            ]
           ],
           "sequential": [
            [
             0,
             "#0d0887"
            ],
            [
             0.1111111111111111,
             "#46039f"
            ],
            [
             0.2222222222222222,
             "#7201a8"
            ],
            [
             0.3333333333333333,
             "#9c179e"
            ],
            [
             0.4444444444444444,
             "#bd3786"
            ],
            [
             0.5555555555555556,
             "#d8576b"
            ],
            [
             0.6666666666666666,
             "#ed7953"
            ],
            [
             0.7777777777777778,
             "#fb9f3a"
            ],
            [
             0.8888888888888888,
             "#fdca26"
            ],
            [
             1,
             "#f0f921"
            ]
           ],
           "sequentialminus": [
            [
             0,
             "#0d0887"
            ],
            [
             0.1111111111111111,
             "#46039f"
            ],
            [
             0.2222222222222222,
             "#7201a8"
            ],
            [
             0.3333333333333333,
             "#9c179e"
            ],
            [
             0.4444444444444444,
             "#bd3786"
            ],
            [
             0.5555555555555556,
             "#d8576b"
            ],
            [
             0.6666666666666666,
             "#ed7953"
            ],
            [
             0.7777777777777778,
             "#fb9f3a"
            ],
            [
             0.8888888888888888,
             "#fdca26"
            ],
            [
             1,
             "#f0f921"
            ]
           ]
          },
          "colorway": [
           "#636efa",
           "#EF553B",
           "#00cc96",
           "#ab63fa",
           "#FFA15A",
           "#19d3f3",
           "#FF6692",
           "#B6E880",
           "#FF97FF",
           "#FECB52"
          ],
          "font": {
           "color": "#2a3f5f"
          },
          "geo": {
           "bgcolor": "white",
           "lakecolor": "white",
           "landcolor": "#E5ECF6",
           "showlakes": true,
           "showland": true,
           "subunitcolor": "white"
          },
          "hoverlabel": {
           "align": "left"
          },
          "hovermode": "closest",
          "mapbox": {
           "style": "light"
          },
          "paper_bgcolor": "white",
          "plot_bgcolor": "#E5ECF6",
          "polar": {
           "angularaxis": {
            "gridcolor": "white",
            "linecolor": "white",
            "ticks": ""
           },
           "bgcolor": "#E5ECF6",
           "radialaxis": {
            "gridcolor": "white",
            "linecolor": "white",
            "ticks": ""
           }
          },
          "scene": {
           "xaxis": {
            "backgroundcolor": "#E5ECF6",
            "gridcolor": "white",
            "gridwidth": 2,
            "linecolor": "white",
            "showbackground": true,
            "ticks": "",
            "zerolinecolor": "white"
           },
           "yaxis": {
            "backgroundcolor": "#E5ECF6",
            "gridcolor": "white",
            "gridwidth": 2,
            "linecolor": "white",
            "showbackground": true,
            "ticks": "",
            "zerolinecolor": "white"
           },
           "zaxis": {
            "backgroundcolor": "#E5ECF6",
            "gridcolor": "white",
            "gridwidth": 2,
            "linecolor": "white",
            "showbackground": true,
            "ticks": "",
            "zerolinecolor": "white"
           }
          },
          "shapedefaults": {
           "line": {
            "color": "#2a3f5f"
           }
          },
          "ternary": {
           "aaxis": {
            "gridcolor": "white",
            "linecolor": "white",
            "ticks": ""
           },
           "baxis": {
            "gridcolor": "white",
            "linecolor": "white",
            "ticks": ""
           },
           "bgcolor": "#E5ECF6",
           "caxis": {
            "gridcolor": "white",
            "linecolor": "white",
            "ticks": ""
           }
          },
          "title": {
           "x": 0.05
          },
          "xaxis": {
           "automargin": true,
           "gridcolor": "white",
           "linecolor": "white",
           "ticks": "",
           "title": {
            "standoff": 15
           },
           "zerolinecolor": "white",
           "zerolinewidth": 2
          },
          "yaxis": {
           "automargin": true,
           "gridcolor": "white",
           "linecolor": "white",
           "ticks": "",
           "title": {
            "standoff": 15
           },
           "zerolinecolor": "white",
           "zerolinewidth": 2
          }
         }
        },
        "title": {
         "text": "Total Happiness Score by Region",
         "x": 0.5
        },
        "width": 800
       }
      }
     },
     "metadata": {},
     "output_type": "display_data"
    },
    {
     "name": "stdout",
     "output_type": "stream",
     "text": [
      "Total Happiness Score by Region:\n",
      "                            Region  Happiness Score\n",
      "8               Sub-Saharan Africa          157.184\n",
      "1       Central and Eastern Europe          155.750\n",
      "3      Latin America and Caribbean          146.442\n",
      "9                   Western Europe          140.399\n",
      "4  Middle East and Northern Africa          102.335\n",
      "6                Southeastern Asia           48.050\n",
      "2                     Eastern Asia           33.745\n",
      "7                    Southern Asia           31.943\n",
      "0        Australia and New Zealand           14.647\n",
      "5                    North America           14.508\n"
     ]
    }
   ],
   "source": [
    "# Calculate total happiness score by region\n",
    "happiness_by_region = df.groupby('Region')['Happiness Score'].sum().reset_index()\n",
    "\n",
    "# Create pie chart\n",
    "fig4 = px.pie(happiness_by_region, \n",
    "              values='Happiness Score', \n",
    "              names='Region',\n",
    "              title='Total Happiness Score by Region')\n",
    "\n",
    "# Update layout for better visualization\n",
    "fig4.update_layout(\n",
    "    title_x=0.5,\n",
    "    width=800,\n",
    "    height=600\n",
    ")\n",
    "\n",
    "# Show the plot\n",
    "fig4.show()\n",
    "\n",
    "# Display the data for verification\n",
    "print(\"Total Happiness Score by Region:\")\n",
    "print(happiness_by_region.sort_values('Happiness Score', ascending=False))"
   ]
  },
  {
   "cell_type": "markdown",
   "id": "f714835b",
   "metadata": {},
   "source": [
    "Write a Plotly code that creates a map named fig5 to display GDP per capita of countries and include Healthy Life Expectancy to be shown as a tooltip."
   ]
  },
  {
   "cell_type": "code",
   "execution_count": 15,
   "id": "afb58d0a",
   "metadata": {},
   "outputs": [
    {
     "data": {
      "application/vnd.plotly.v1+json": {
       "config": {
        "plotlyServerURL": "https://plot.ly"
       },
       "data": [
        {
         "coloraxis": "coloraxis",
         "customdata": [
          [
           0.79504,
           1.44178,
           "Western Europe"
          ],
          [
           0.86303,
           1.52733,
           "Western Europe"
          ],
          [
           0.86733,
           1.42666,
           "Western Europe"
          ],
          [
           0.79579,
           1.57744,
           "Western Europe"
          ],
          [
           0.81091,
           1.40598,
           "Western Europe"
          ],
          [
           0.8276,
           1.44015,
           "North America"
          ],
          [
           0.81231,
           1.46468,
           "Western Europe"
          ],
          [
           0.83096,
           1.36066,
           "Australia and New Zealand"
          ],
          [
           0.8512,
           1.44443,
           "Australia and New Zealand"
          ],
          [
           0.83121,
           1.45181,
           "Western Europe"
          ],
          [
           0.84917,
           1.33766,
           "Middle East and Northern Africa"
          ],
          [
           0.80565,
           1.45038,
           "Western Europe"
          ],
          [
           0.5533422727272727,
           1.50796,
           "North America"
          ],
          [
           0.76146,
           1.06879,
           "Latin America and Caribbean"
          ],
          [
           0.77758,
           1.35943,
           "Latin America and Caribbean"
          ],
          [
           0.81487,
           1.44787,
           "Western Europe"
          ],
          [
           0.61415,
           1.08754,
           "Latin America and Caribbean"
          ],
          [
           0.81959,
           1.42539,
           "Western Europe"
          ],
          [
           0.81455,
           1.48341,
           "Western Europe"
          ],
          [
           0.84542,
           1.69752,
           "Western Europe"
          ],
          [
           0.71143,
           1.11508,
           "Latin America and Caribbean"
          ],
          [
           0.94719,
           1.64555,
           "Southeastern Asia"
          ],
          [
           0.80991,
           1.40283,
           "Western Europe"
          ],
          [
           0.81883,
           1.2167,
           "Latin America and Caribbean"
          ],
          [
           0.70835,
           1.18306,
           "Latin America and Caribbean"
          ],
          [
           0.69711,
           1.15137,
           "Latin America and Caribbean"
          ],
          [
           0.76376,
           1.30915,
           "Central and Eastern Europe"
          ],
          [
           0.72993,
           1.57352,
           "Middle East and Northern Africa"
          ],
          [
           0.72183,
           1.18157,
           "Latin America and Caribbean"
          ],
          [
           0.80315,
           1.30782,
           "Western Europe"
          ],
          [
           0.59659,
           1.03032,
           "Latin America and Caribbean"
          ],
          [
           0.83795,
           1.39488,
           "Western Europe"
          ],
          [
           0.64915,
           1.0893,
           "Southeastern Asia"
          ],
          [
           0.59267,
           1.48953,
           "Middle East and Northern Africa"
          ],
          [
           0.79565,
           1.39729,
           "Eastern Asia"
          ],
          [
           0.71723,
           1.82427,
           "Middle East and Northern Africa"
          ],
          [
           0.87896,
           1.34253,
           "Western Europe"
          ],
          [
           0.61804,
           1.05266,
           "Middle East and Northern Africa"
          ],
          [
           0.54039,
           0.83454,
           "Latin America and Caribbean"
          ],
          [
           0.50933,
           1.09686,
           "Latin America and Caribbean"
          ],
          [
           0.63569,
           1.61714,
           "Middle East and Northern Africa"
          ],
          [
           0.65696,
           0.951772064516129,
           "Middle East and Northern Africa"
          ],
          [
           0.52608,
           1.32572,
           "Latin America and Caribbean"
          ],
          [
           0.61904,
           1.13367,
           "Latin America and Caribbean"
          ],
          [
           0.5533422727272727,
           1.27973,
           "Central and Eastern Europe"
          ],
          [
           0.596,
           0.8737,
           "Latin America and Caribbean"
          ],
          [
           0.62366,
           1.25142,
           "Southeastern Asia"
          ],
          [
           0.65213,
           0.69384,
           "Latin America and Caribbean"
          ],
          [
           0.50163,
           0.73591,
           "Central and Eastern Europe"
          ],
          [
           0.85102,
           1.35495,
           "Western Europe"
          ],
          [
           0.68613,
           0.97306,
           "Latin America and Caribbean"
          ],
          [
           0.45569,
           0.87616,
           "Latin America and Caribbean"
          ],
          [
           0.91491,
           1.38007,
           "Eastern Asia"
          ],
          [
           0.57386,
           1.22943,
           "Central and Eastern Europe"
          ],
          [
           0.52309,
           0.69177,
           "Central and Eastern Europe"
          ],
          [
           0.58991,
           1.23228,
           "Central and Eastern Europe"
          ],
          [
           0.69058,
           1.24585,
           "Central and Eastern Europe"
          ],
          [
           0.88645,
           1.35948,
           "Eastern Asia"
          ],
          [
           0.4697,
           0.951772064516129,
           "Latin America and Caribbean"
          ],
          [
           0.64674,
           1.2692,
           "Central and Eastern Europe"
          ],
          [
           0.63104,
           1.13062,
           "Central and Eastern Europe"
          ],
          [
           0.84142,
           1.31141,
           "Western Europe"
          ],
          [
           0.79151,
           1.29947,
           "Central and Eastern Europe"
          ],
          [
           0.62994,
           0.99602,
           "Latin America and Caribbean"
          ],
          [
           0.44006,
           1.08017,
           "Central and Eastern Europe"
          ],
          [
           0.66189,
           1.14372,
           "Sub-Saharan Africa"
          ],
          [
           0.52304,
           1.06688,
           "Middle East and Northern Africa"
          ],
          [
           0.63952,
           1.21788,
           "Central and Eastern Europe"
          ],
          [
           0.5533422727272727,
           1.31857,
           "Western Europe"
          ],
          [
           0.58295,
           0.89373,
           "Latin America and Caribbean"
          ],
          [
           0.67602,
           1.1697,
           "Central and Eastern Europe"
          ],
          [
           0.68098,
           1.27964,
           "Central and Eastern Europe"
          ],
          [
           0.59469,
           0.89333,
           "Latin America and Caribbean"
          ],
          [
           0.70524,
           1.18649,
           "Central and Eastern Europe"
          ],
          [
           0.95277,
           1.5107,
           "Eastern Asia"
          ],
          [
           0.11466,
           0,
           "Sub-Saharan Africa"
          ],
          [
           0.54,
           0.90145,
           "Central and Eastern Europe"
          ],
          [
           0.64718,
           1.16492,
           "Middle East and Northern Africa"
          ],
          [
           0.49374,
           0.95104,
           "Southeastern Asia"
          ],
          [
           0.60712,
           0.99673,
           "Middle East and Northern Africa"
          ],
          [
           0.54504,
           1.12373,
           "Central and Eastern Europe"
          ],
          [
           0.47036,
           0.81217,
           "Southeastern Asia"
          ],
          [
           0.73561,
           1.0278,
           "Eastern Asia"
          ],
          [
           0.49759,
           0.8527,
           "Southern Asia"
          ],
          [
           0.55449,
           0.56044,
           "Central and Eastern Europe"
          ],
          [
           0.6458,
           1.03437,
           "Central and Eastern Europe"
          ],
          [
           0.70766,
           0.93383,
           "Central and Eastern Europe"
          ],
          [
           0.63533,
           1.07838,
           "Central and Eastern Europe"
          ],
          [
           0.57669,
           1.02787,
           "Latin America and Caribbean"
          ],
          [
           0.59471,
           0.84058,
           "Middle East and Northern Africa"
          ],
          [
           0.67608,
           1.24142,
           "Central and Eastern Europe"
          ],
          [
           0.40306,
           0.68816,
           "Southern Asia"
          ],
          [
           0.76171,
           1.12268,
           "Middle East and Northern Africa"
          ],
          [
           0.79363,
           1.27607,
           "Western Europe"
          ],
          [
           0.64738,
           1.0193,
           "Central and Eastern Europe"
          ],
          [
           0.66157,
           0.74037,
           "Southeastern Asia"
          ],
          [
           0.33108,
           0.25558,
           "Sub-Saharan Africa"
          ],
          [
           0.59577,
           0.97724,
           "Middle East and Northern Africa"
          ],
          [
           0.80029,
           1.24886,
           "Western Europe"
          ],
          [
           0.53119,
           0.48835,
           "Central and Eastern Europe"
          ],
          [
           0.55469,
           0.98853,
           "Eastern Asia"
          ],
          [
           0.38291,
           0.68042,
           "Southeastern Asia"
          ],
          [
           0.05108,
           0.75216,
           "Sub-Saharan Africa"
          ],
          [
           0.58383,
           0.69429,
           "Latin America and Caribbean"
          ],
          [
           0.64232,
           1.11758,
           "Middle East and Northern Africa"
          ],
          [
           0.23573,
           0.61202,
           "Sub-Saharan Africa"
          ],
          [
           0.50073,
           0.44626,
           "Southern Asia"
          ],
          [
           0.56844,
           0.67024,
           "Middle East and Northern Africa"
          ],
          [
           0.73007,
           0.9553,
           "Central and Eastern Europe"
          ],
          [
           0.52989,
           0.54177,
           "Southern Asia"
          ],
          [
           0,
           0.36485,
           "Sub-Saharan Africa"
          ],
          [
           0.51076,
           1.07474,
           "Middle East and Northern Africa"
          ],
          [
           0.34745,
           0.93287,
           "Sub-Saharan Africa"
          ],
          [
           0.12698,
           0.52497,
           "Sub-Saharan Africa"
          ],
          [
           0.34578,
           0.29283,
           "Sub-Saharan Africa"
          ],
          [
           0.18611,
           1.02416,
           "Sub-Saharan Africa"
          ],
          [
           0.62007,
           0.97318,
           "Southern Asia"
          ],
          [
           0.45091,
           0.74036,
           "Southern Asia"
          ],
          [
           0.3988,
           0.34112,
           "Southeastern Asia"
          ],
          [
           0.52116,
           0.95395,
           "Middle East and Northern Africa"
          ],
          [
           0.64083,
           0.86086,
           "Central and Eastern Europe"
          ],
          [
           0.30147,
           0.52267,
           "Sub-Saharan Africa"
          ],
          [
           0.58628,
           0.87287,
           "Central and Eastern Europe"
          ],
          [
           0.29681,
           0.63107,
           "Sub-Saharan Africa"
          ],
          [
           0.188,
           0.05661,
           "Sub-Saharan Africa"
          ],
          [
           0.64035,
           0.83792,
           "Central and Eastern Europe"
          ],
          [
           0.28212,
           0.77109,
           "Sub-Saharan Africa"
          ],
          [
           0.40457,
           0.44314,
           "Sub-Saharan Africa"
          ],
          [
           0.67806,
           1.11306,
           "Central and Eastern Europe"
          ],
          [
           0.28639,
           0.61391,
           "Sub-Saharan Africa"
          ],
          [
           0.1595,
           0.35041,
           "Sub-Saharan Africa"
          ],
          [
           0.29364,
           0.08709,
           "Sub-Saharan Africa"
          ],
          [
           0.29759,
           0.63069,
           "Sub-Saharan Africa"
          ],
          [
           0.3494,
           1.15851,
           "Sub-Saharan Africa"
          ],
          [
           0.16347,
           0.31292,
           "Sub-Saharan Africa"
          ],
          [
           0.27494,
           0.34097,
           "Latin America and Caribbean"
          ],
          [
           0.34752,
           1.09426,
           "Sub-Saharan Africa"
          ],
          [
           0.29981,
           0.27509,
           "Sub-Saharan Africa"
          ],
          [
           0.04476,
           0.55507,
           "Sub-Saharan Africa"
          ],
          [
           0.42494,
           0.55604,
           "Southeastern Asia"
          ],
          [
           0.04991,
           0.84731,
           "Sub-Saharan Africa"
          ],
          [
           0.26162,
           0.1327,
           "Sub-Saharan Africa"
          ],
          [
           0.15781,
           0.39394,
           "Sub-Saharan Africa"
          ],
          [
           0.03824,
           0.42214,
           "Sub-Saharan Africa"
          ],
          [
           0.21297,
           0.31995,
           "Sub-Saharan Africa"
          ],
          [
           0.19625,
           0.34719,
           "Sub-Saharan Africa"
          ],
          [
           0.31048,
           0.57939,
           "Middle East and Northern Africa"
          ],
          [
           0.37109,
           0.27954,
           "Sub-Saharan Africa"
          ],
          [
           0.357,
           0.47155,
           "Sub-Saharan Africa"
          ],
          [
           0.23165,
           0.10706,
           "Sub-Saharan Africa"
          ],
          [
           0.18829,
           0.22415,
           "Sub-Saharan Africa"
          ],
          [
           0.31865,
           0.32846,
           "Sub-Saharan Africa"
          ],
          [
           0.21028,
           0.39499,
           "Sub-Saharan Africa"
          ],
          [
           0.17344,
           0.38227,
           "Southern Asia"
          ],
          [
           0.24811,
           0.28123,
           "Sub-Saharan Africa"
          ],
          [
           0.62994,
           0.74719,
           "Middle East and Northern Africa"
          ],
          [
           0.15747,
           0.06831,
           "Sub-Saharan Africa"
          ]
         ],
         "geo": "geo",
         "hovertemplate": "<b>%{hovertext}</b><br><br>Country=%{location}<br>Health (Life Expectancy)=%{customdata[0]:.3f}<br>Economy (GDP per Capita)=%{z:.3f}<br>Region=%{customdata[2]}<extra></extra>",
         "hovertext": [
          "Denmark",
          "Switzerland",
          "Iceland",
          "Norway",
          "Finland",
          "Canada",
          "Netherlands",
          "New Zealand",
          "Australia",
          "Sweden",
          "Israel",
          "Austria",
          "United States",
          "Costa Rica",
          "Puerto Rico",
          "Germany",
          "Brazil",
          "Belgium",
          "Ireland",
          "Luxembourg",
          "Mexico",
          "Singapore",
          "United Kingdom",
          "Chile",
          "Panama",
          "Argentina",
          "Czech Republic",
          "United Arab Emirates",
          "Uruguay",
          "Malta",
          "Colombia",
          "France",
          "Thailand",
          "Saudi Arabia",
          "Taiwan",
          "Qatar",
          "Spain",
          "Algeria",
          "Guatemala",
          "Suriname",
          "Kuwait",
          "Bahrain",
          "Trinidad and Tobago",
          "Venezuela",
          "Slovakia",
          "El Salvador",
          "Malaysia",
          "Nicaragua",
          "Uzbekistan",
          "Italy",
          "Ecuador",
          "Belize",
          "Japan",
          "Kazakhstan",
          "Moldova",
          "Russia",
          "Poland",
          "South Korea",
          "Bolivia",
          "Lithuania",
          "Belarus",
          "North Cyprus",
          "Slovenia",
          "Peru",
          "Turkmenistan",
          "Mauritius",
          "Libya",
          "Latvia",
          "Cyprus",
          "Paraguay",
          "Romania",
          "Estonia",
          "Jamaica",
          "Croatia",
          "Hong Kong",
          "Somalia",
          "Kosovo",
          "Turkey",
          "Indonesia",
          "Jordan",
          "Azerbaijan",
          "Philippines",
          "China",
          "Bhutan",
          "Kyrgyzstan",
          "Serbia",
          "Bosnia and Herzegovina",
          "Montenegro",
          "Dominican Republic",
          "Morocco",
          "Hungary",
          "Pakistan",
          "Lebanon",
          "Portugal",
          "Macedonia",
          "Vietnam",
          "Somaliland Region",
          "Tunisia",
          "Greece",
          "Tajikistan",
          "Mongolia",
          "Laos",
          "Nigeria",
          "Honduras",
          "Iran",
          "Zambia",
          "Nepal",
          "Palestinian Territories",
          "Albania",
          "Bangladesh",
          "Sierra Leone",
          "Iraq",
          "Namibia",
          "Cameroon",
          "Ethiopia",
          "South Africa",
          "Sri Lanka",
          "India",
          "Myanmar",
          "Egypt",
          "Armenia",
          "Kenya",
          "Ukraine",
          "Ghana",
          "Congo (Kinshasa)",
          "Georgia",
          "Congo (Brazzaville)",
          "Senegal",
          "Bulgaria",
          "Mauritania",
          "Zimbabwe",
          "Malawi",
          "Sudan",
          "Gabon",
          "Mali",
          "Haiti",
          "Botswana",
          "Comoros",
          "Ivory Coast",
          "Cambodia",
          "Angola",
          "Niger",
          "South Sudan",
          "Chad",
          "Burkina Faso",
          "Uganda",
          "Yemen",
          "Madagascar",
          "Tanzania",
          "Liberia",
          "Guinea",
          "Rwanda",
          "Benin",
          "Afghanistan",
          "Togo",
          "Syria",
          "Burundi"
         ],
         "locationmode": "country names",
         "locations": [
          "Denmark",
          "Switzerland",
          "Iceland",
          "Norway",
          "Finland",
          "Canada",
          "Netherlands",
          "New Zealand",
          "Australia",
          "Sweden",
          "Israel",
          "Austria",
          "United States",
          "Costa Rica",
          "Puerto Rico",
          "Germany",
          "Brazil",
          "Belgium",
          "Ireland",
          "Luxembourg",
          "Mexico",
          "Singapore",
          "United Kingdom",
          "Chile",
          "Panama",
          "Argentina",
          "Czech Republic",
          "United Arab Emirates",
          "Uruguay",
          "Malta",
          "Colombia",
          "France",
          "Thailand",
          "Saudi Arabia",
          "Taiwan",
          "Qatar",
          "Spain",
          "Algeria",
          "Guatemala",
          "Suriname",
          "Kuwait",
          "Bahrain",
          "Trinidad and Tobago",
          "Venezuela",
          "Slovakia",
          "El Salvador",
          "Malaysia",
          "Nicaragua",
          "Uzbekistan",
          "Italy",
          "Ecuador",
          "Belize",
          "Japan",
          "Kazakhstan",
          "Moldova",
          "Russia",
          "Poland",
          "South Korea",
          "Bolivia",
          "Lithuania",
          "Belarus",
          "North Cyprus",
          "Slovenia",
          "Peru",
          "Turkmenistan",
          "Mauritius",
          "Libya",
          "Latvia",
          "Cyprus",
          "Paraguay",
          "Romania",
          "Estonia",
          "Jamaica",
          "Croatia",
          "Hong Kong",
          "Somalia",
          "Kosovo",
          "Turkey",
          "Indonesia",
          "Jordan",
          "Azerbaijan",
          "Philippines",
          "China",
          "Bhutan",
          "Kyrgyzstan",
          "Serbia",
          "Bosnia and Herzegovina",
          "Montenegro",
          "Dominican Republic",
          "Morocco",
          "Hungary",
          "Pakistan",
          "Lebanon",
          "Portugal",
          "Macedonia",
          "Vietnam",
          "Somaliland Region",
          "Tunisia",
          "Greece",
          "Tajikistan",
          "Mongolia",
          "Laos",
          "Nigeria",
          "Honduras",
          "Iran",
          "Zambia",
          "Nepal",
          "Palestinian Territories",
          "Albania",
          "Bangladesh",
          "Sierra Leone",
          "Iraq",
          "Namibia",
          "Cameroon",
          "Ethiopia",
          "South Africa",
          "Sri Lanka",
          "India",
          "Myanmar",
          "Egypt",
          "Armenia",
          "Kenya",
          "Ukraine",
          "Ghana",
          "Congo (Kinshasa)",
          "Georgia",
          "Congo (Brazzaville)",
          "Senegal",
          "Bulgaria",
          "Mauritania",
          "Zimbabwe",
          "Malawi",
          "Sudan",
          "Gabon",
          "Mali",
          "Haiti",
          "Botswana",
          "Comoros",
          "Ivory Coast",
          "Cambodia",
          "Angola",
          "Niger",
          "South Sudan",
          "Chad",
          "Burkina Faso",
          "Uganda",
          "Yemen",
          "Madagascar",
          "Tanzania",
          "Liberia",
          "Guinea",
          "Rwanda",
          "Benin",
          "Afghanistan",
          "Togo",
          "Syria",
          "Burundi"
         ],
         "name": "",
         "type": "choropleth",
         "z": {
          "bdata": "Gm7A54cR9z/kMQOV8W/4P4guqG+Z0/Y/k2+2uTE9+T8CSG3i5H72P7RZ9bnaCvc/Oq+xS1Rv9z8Tm49rQ8X1P87HtaFiHPc/mBdgH5069z+CrRIsDmf1PxRcrKjBNPc/jdE6qpog+D9gqwSLwxnxP3E486s5wPU/mMCtu3kq9z8teNFXkGbxPx+6oL5lzvY/I/PIHwy89z8M5US7Cin7P2XHRiBe1/E/wOyePCxU+j8ZkL3e/XH2P/KwUGuad/M/y0qTUtDt8j9Ah/nyAmzyPzXvOEVH8vQ/d6G5TiMt+T+d9L7xtefyPyLgEKrU7PQ/saIG0zB88D/9gt2wbVH2P1mGONbFbfE/95LGaB3V9z8IclDCTFv2P8cuUb01MP0/0GG+vAB79T/y6hwDstfwP9uF5jqNtOo/IqZEEr2M8T/k2lAxzt/5P0z7SrDqdO4/LnO6LCY29T8WTWcngyPyP31cGyrGefQ/hXzQs1n16z8S91j60AX0PzIDlfHvM+Y/W5TZIJOM5z92cRsN4K31P952oblOI+8/DAdCsoAJ7D8wDcNHxBT2P12Kq8q+q/M/UFPL1voi5j/zPLg7a7fzP6yL22gA7/M/qg65GW7A9T9M+0qw6nTuP8pUwaikTvQ/nkFD/wQX8j+WW1oNifv0P0IhAg6hyvQ/cy7FVWXf7z/V7IFWYEjxP3h/vFetTPI/ixpMw/AR8T9cPSe9b3zzP5vJN9vcGPU/04cuqG+Z7D9lGeJYF7fyP3506spnefQ/SiTRyyiW7D8kfzDw3PvyP0ATYcPTK/g/AAAAAAAAAACbVZ+rrdjsPxZNZyeDo/I/yQImcOtu7j+FJR5QNuXvP5eL+E7M+vE/r1qZ8Ev96T/EQq1p3nHwPwyTqYJRSes/Atnr3R/v4T+Uap+Ox4zwP/3BwHPv4e0/U5EKYwtB8T/goSjQJ3LwP2d+NQcI5uo/6ZrJN9vc8z+hSs0eaAXmP/T4vU1/9vE/7YFWYMhq9D87AU2EDU/wP4wQHm0csec/Xb9gN2xb0D8v+grSjEXvP16FlJ9U+/M/NxrAWyBB3z8ZraOqCaLvPxJr8SkAxuU/4X8r2bER6D8rE36pnzfmP2+e6pCb4fE/9u6P96qV4z9W1GAaho/cP8ISDyibcuU/Ns07TtGR7j+Dhv4JLlbhP7aEfNCzWdc/pz/7kSIy8T+1bK0vEtrtPyMyrOKNzOA/WWlSCrq90j8X8Z2Y9WLwP4fhI2JKJO8/qYdodAex5z++vAD76NTVP0mdgCbChu4/6udNRSqM6z/SNZNvtrngP8oa9RCN7us/NpNvtrkx5D95zEBl/PusPxxClZo90Oo/eLmI78Ss6D8GKuPfZ1zcP6zFpwAYz/E/2v6VlSal4z8+P4wQHm3WPwgDz72HS7Y/dEF9y5wu5D9hbCHIQYnyP57qkJvhBtQ/GLK61XPS1T+nIhXGFoLxP5c5XRYTm9E/+rMfKSLD4T8lkuhlFMvhPz5cctwpHes/B/AWSFD8wD/1hCUeUDbZPxVXlX1XBNs/mbuWkA961D8q499nXDjWP18ktOVciuI/MiB7vfvj0T92cRsN4C3eP9Wytb5IaLs/xf6ye/KwzD+E04IXfQXVP4HPDyOER9k/nnsPlxx32D9y3CkdrP/RP2K+vAD76Oc/6WD9n8N8sT8=",
          "dtype": "f8"
         }
        }
       ],
       "layout": {
        "coloraxis": {
         "colorbar": {
          "title": {
           "text": "Economy (GDP per Capita)"
          }
         },
         "colorscale": [
          [
           0,
           "#440154"
          ],
          [
           0.1111111111111111,
           "#482878"
          ],
          [
           0.2222222222222222,
           "#3e4989"
          ],
          [
           0.3333333333333333,
           "#31688e"
          ],
          [
           0.4444444444444444,
           "#26828e"
          ],
          [
           0.5555555555555556,
           "#1f9e89"
          ],
          [
           0.6666666666666666,
           "#35b779"
          ],
          [
           0.7777777777777778,
           "#6ece58"
          ],
          [
           0.8888888888888888,
           "#b5de2b"
          ],
          [
           1,
           "#fde725"
          ]
         ]
        },
        "geo": {
         "center": {},
         "domain": {
          "x": [
           0,
           1
          ],
          "y": [
           0,
           1
          ]
         }
        },
        "height": 600,
        "legend": {
         "tracegroupgap": 0
        },
        "template": {
         "data": {
          "bar": [
           {
            "error_x": {
             "color": "#2a3f5f"
            },
            "error_y": {
             "color": "#2a3f5f"
            },
            "marker": {
             "line": {
              "color": "#E5ECF6",
              "width": 0.5
             },
             "pattern": {
              "fillmode": "overlay",
              "size": 10,
              "solidity": 0.2
             }
            },
            "type": "bar"
           }
          ],
          "barpolar": [
           {
            "marker": {
             "line": {
              "color": "#E5ECF6",
              "width": 0.5
             },
             "pattern": {
              "fillmode": "overlay",
              "size": 10,
              "solidity": 0.2
             }
            },
            "type": "barpolar"
           }
          ],
          "carpet": [
           {
            "aaxis": {
             "endlinecolor": "#2a3f5f",
             "gridcolor": "white",
             "linecolor": "white",
             "minorgridcolor": "white",
             "startlinecolor": "#2a3f5f"
            },
            "baxis": {
             "endlinecolor": "#2a3f5f",
             "gridcolor": "white",
             "linecolor": "white",
             "minorgridcolor": "white",
             "startlinecolor": "#2a3f5f"
            },
            "type": "carpet"
           }
          ],
          "choropleth": [
           {
            "colorbar": {
             "outlinewidth": 0,
             "ticks": ""
            },
            "type": "choropleth"
           }
          ],
          "contour": [
           {
            "colorbar": {
             "outlinewidth": 0,
             "ticks": ""
            },
            "colorscale": [
             [
              0,
              "#0d0887"
             ],
             [
              0.1111111111111111,
              "#46039f"
             ],
             [
              0.2222222222222222,
              "#7201a8"
             ],
             [
              0.3333333333333333,
              "#9c179e"
             ],
             [
              0.4444444444444444,
              "#bd3786"
             ],
             [
              0.5555555555555556,
              "#d8576b"
             ],
             [
              0.6666666666666666,
              "#ed7953"
             ],
             [
              0.7777777777777778,
              "#fb9f3a"
             ],
             [
              0.8888888888888888,
              "#fdca26"
             ],
             [
              1,
              "#f0f921"
             ]
            ],
            "type": "contour"
           }
          ],
          "contourcarpet": [
           {
            "colorbar": {
             "outlinewidth": 0,
             "ticks": ""
            },
            "type": "contourcarpet"
           }
          ],
          "heatmap": [
           {
            "colorbar": {
             "outlinewidth": 0,
             "ticks": ""
            },
            "colorscale": [
             [
              0,
              "#0d0887"
             ],
             [
              0.1111111111111111,
              "#46039f"
             ],
             [
              0.2222222222222222,
              "#7201a8"
             ],
             [
              0.3333333333333333,
              "#9c179e"
             ],
             [
              0.4444444444444444,
              "#bd3786"
             ],
             [
              0.5555555555555556,
              "#d8576b"
             ],
             [
              0.6666666666666666,
              "#ed7953"
             ],
             [
              0.7777777777777778,
              "#fb9f3a"
             ],
             [
              0.8888888888888888,
              "#fdca26"
             ],
             [
              1,
              "#f0f921"
             ]
            ],
            "type": "heatmap"
           }
          ],
          "histogram": [
           {
            "marker": {
             "pattern": {
              "fillmode": "overlay",
              "size": 10,
              "solidity": 0.2
             }
            },
            "type": "histogram"
           }
          ],
          "histogram2d": [
           {
            "colorbar": {
             "outlinewidth": 0,
             "ticks": ""
            },
            "colorscale": [
             [
              0,
              "#0d0887"
             ],
             [
              0.1111111111111111,
              "#46039f"
             ],
             [
              0.2222222222222222,
              "#7201a8"
             ],
             [
              0.3333333333333333,
              "#9c179e"
             ],
             [
              0.4444444444444444,
              "#bd3786"
             ],
             [
              0.5555555555555556,
              "#d8576b"
             ],
             [
              0.6666666666666666,
              "#ed7953"
             ],
             [
              0.7777777777777778,
              "#fb9f3a"
             ],
             [
              0.8888888888888888,
              "#fdca26"
             ],
             [
              1,
              "#f0f921"
             ]
            ],
            "type": "histogram2d"
           }
          ],
          "histogram2dcontour": [
           {
            "colorbar": {
             "outlinewidth": 0,
             "ticks": ""
            },
            "colorscale": [
             [
              0,
              "#0d0887"
             ],
             [
              0.1111111111111111,
              "#46039f"
             ],
             [
              0.2222222222222222,
              "#7201a8"
             ],
             [
              0.3333333333333333,
              "#9c179e"
             ],
             [
              0.4444444444444444,
              "#bd3786"
             ],
             [
              0.5555555555555556,
              "#d8576b"
             ],
             [
              0.6666666666666666,
              "#ed7953"
             ],
             [
              0.7777777777777778,
              "#fb9f3a"
             ],
             [
              0.8888888888888888,
              "#fdca26"
             ],
             [
              1,
              "#f0f921"
             ]
            ],
            "type": "histogram2dcontour"
           }
          ],
          "mesh3d": [
           {
            "colorbar": {
             "outlinewidth": 0,
             "ticks": ""
            },
            "type": "mesh3d"
           }
          ],
          "parcoords": [
           {
            "line": {
             "colorbar": {
              "outlinewidth": 0,
              "ticks": ""
             }
            },
            "type": "parcoords"
           }
          ],
          "pie": [
           {
            "automargin": true,
            "type": "pie"
           }
          ],
          "scatter": [
           {
            "fillpattern": {
             "fillmode": "overlay",
             "size": 10,
             "solidity": 0.2
            },
            "type": "scatter"
           }
          ],
          "scatter3d": [
           {
            "line": {
             "colorbar": {
              "outlinewidth": 0,
              "ticks": ""
             }
            },
            "marker": {
             "colorbar": {
              "outlinewidth": 0,
              "ticks": ""
             }
            },
            "type": "scatter3d"
           }
          ],
          "scattercarpet": [
           {
            "marker": {
             "colorbar": {
              "outlinewidth": 0,
              "ticks": ""
             }
            },
            "type": "scattercarpet"
           }
          ],
          "scattergeo": [
           {
            "marker": {
             "colorbar": {
              "outlinewidth": 0,
              "ticks": ""
             }
            },
            "type": "scattergeo"
           }
          ],
          "scattergl": [
           {
            "marker": {
             "colorbar": {
              "outlinewidth": 0,
              "ticks": ""
             }
            },
            "type": "scattergl"
           }
          ],
          "scattermap": [
           {
            "marker": {
             "colorbar": {
              "outlinewidth": 0,
              "ticks": ""
             }
            },
            "type": "scattermap"
           }
          ],
          "scattermapbox": [
           {
            "marker": {
             "colorbar": {
              "outlinewidth": 0,
              "ticks": ""
             }
            },
            "type": "scattermapbox"
           }
          ],
          "scatterpolar": [
           {
            "marker": {
             "colorbar": {
              "outlinewidth": 0,
              "ticks": ""
             }
            },
            "type": "scatterpolar"
           }
          ],
          "scatterpolargl": [
           {
            "marker": {
             "colorbar": {
              "outlinewidth": 0,
              "ticks": ""
             }
            },
            "type": "scatterpolargl"
           }
          ],
          "scatterternary": [
           {
            "marker": {
             "colorbar": {
              "outlinewidth": 0,
              "ticks": ""
             }
            },
            "type": "scatterternary"
           }
          ],
          "surface": [
           {
            "colorbar": {
             "outlinewidth": 0,
             "ticks": ""
            },
            "colorscale": [
             [
              0,
              "#0d0887"
             ],
             [
              0.1111111111111111,
              "#46039f"
             ],
             [
              0.2222222222222222,
              "#7201a8"
             ],
             [
              0.3333333333333333,
              "#9c179e"
             ],
             [
              0.4444444444444444,
              "#bd3786"
             ],
             [
              0.5555555555555556,
              "#d8576b"
             ],
             [
              0.6666666666666666,
              "#ed7953"
             ],
             [
              0.7777777777777778,
              "#fb9f3a"
             ],
             [
              0.8888888888888888,
              "#fdca26"
             ],
             [
              1,
              "#f0f921"
             ]
            ],
            "type": "surface"
           }
          ],
          "table": [
           {
            "cells": {
             "fill": {
              "color": "#EBF0F8"
             },
             "line": {
              "color": "white"
             }
            },
            "header": {
             "fill": {
              "color": "#C8D4E3"
             },
             "line": {
              "color": "white"
             }
            },
            "type": "table"
           }
          ]
         },
         "layout": {
          "annotationdefaults": {
           "arrowcolor": "#2a3f5f",
           "arrowhead": 0,
           "arrowwidth": 1
          },
          "autotypenumbers": "strict",
          "coloraxis": {
           "colorbar": {
            "outlinewidth": 0,
            "ticks": ""
           }
          },
          "colorscale": {
           "diverging": [
            [
             0,
             "#8e0152"
            ],
            [
             0.1,
             "#c51b7d"
            ],
            [
             0.2,
             "#de77ae"
            ],
            [
             0.3,
             "#f1b6da"
            ],
            [
             0.4,
             "#fde0ef"
            ],
            [
             0.5,
             "#f7f7f7"
            ],
            [
             0.6,
             "#e6f5d0"
            ],
            [
             0.7,
             "#b8e186"
            ],
            [
             0.8,
             "#7fbc41"
            ],
            [
             0.9,
             "#4d9221"
            ],
            [
             1,
             "#276419"
            ]
           ],
           "sequential": [
            [
             0,
             "#0d0887"
            ],
            [
             0.1111111111111111,
             "#46039f"
            ],
            [
             0.2222222222222222,
             "#7201a8"
            ],
            [
             0.3333333333333333,
             "#9c179e"
            ],
            [
             0.4444444444444444,
             "#bd3786"
            ],
            [
             0.5555555555555556,
             "#d8576b"
            ],
            [
             0.6666666666666666,
             "#ed7953"
            ],
            [
             0.7777777777777778,
             "#fb9f3a"
            ],
            [
             0.8888888888888888,
             "#fdca26"
            ],
            [
             1,
             "#f0f921"
            ]
           ],
           "sequentialminus": [
            [
             0,
             "#0d0887"
            ],
            [
             0.1111111111111111,
             "#46039f"
            ],
            [
             0.2222222222222222,
             "#7201a8"
            ],
            [
             0.3333333333333333,
             "#9c179e"
            ],
            [
             0.4444444444444444,
             "#bd3786"
            ],
            [
             0.5555555555555556,
             "#d8576b"
            ],
            [
             0.6666666666666666,
             "#ed7953"
            ],
            [
             0.7777777777777778,
             "#fb9f3a"
            ],
            [
             0.8888888888888888,
             "#fdca26"
            ],
            [
             1,
             "#f0f921"
            ]
           ]
          },
          "colorway": [
           "#636efa",
           "#EF553B",
           "#00cc96",
           "#ab63fa",
           "#FFA15A",
           "#19d3f3",
           "#FF6692",
           "#B6E880",
           "#FF97FF",
           "#FECB52"
          ],
          "font": {
           "color": "#2a3f5f"
          },
          "geo": {
           "bgcolor": "white",
           "lakecolor": "white",
           "landcolor": "#E5ECF6",
           "showlakes": true,
           "showland": true,
           "subunitcolor": "white"
          },
          "hoverlabel": {
           "align": "left"
          },
          "hovermode": "closest",
          "mapbox": {
           "style": "light"
          },
          "paper_bgcolor": "white",
          "plot_bgcolor": "#E5ECF6",
          "polar": {
           "angularaxis": {
            "gridcolor": "white",
            "linecolor": "white",
            "ticks": ""
           },
           "bgcolor": "#E5ECF6",
           "radialaxis": {
            "gridcolor": "white",
            "linecolor": "white",
            "ticks": ""
           }
          },
          "scene": {
           "xaxis": {
            "backgroundcolor": "#E5ECF6",
            "gridcolor": "white",
            "gridwidth": 2,
            "linecolor": "white",
            "showbackground": true,
            "ticks": "",
            "zerolinecolor": "white"
           },
           "yaxis": {
            "backgroundcolor": "#E5ECF6",
            "gridcolor": "white",
            "gridwidth": 2,
            "linecolor": "white",
            "showbackground": true,
            "ticks": "",
            "zerolinecolor": "white"
           },
           "zaxis": {
            "backgroundcolor": "#E5ECF6",
            "gridcolor": "white",
            "gridwidth": 2,
            "linecolor": "white",
            "showbackground": true,
            "ticks": "",
            "zerolinecolor": "white"
           }
          },
          "shapedefaults": {
           "line": {
            "color": "#2a3f5f"
           }
          },
          "ternary": {
           "aaxis": {
            "gridcolor": "white",
            "linecolor": "white",
            "ticks": ""
           },
           "baxis": {
            "gridcolor": "white",
            "linecolor": "white",
            "ticks": ""
           },
           "bgcolor": "#E5ECF6",
           "caxis": {
            "gridcolor": "white",
            "linecolor": "white",
            "ticks": ""
           }
          },
          "title": {
           "x": 0.05
          },
          "xaxis": {
           "automargin": true,
           "gridcolor": "white",
           "linecolor": "white",
           "ticks": "",
           "title": {
            "standoff": 15
           },
           "zerolinecolor": "white",
           "zerolinewidth": 2
          },
          "yaxis": {
           "automargin": true,
           "gridcolor": "white",
           "linecolor": "white",
           "ticks": "",
           "title": {
            "standoff": 15
           },
           "zerolinecolor": "white",
           "zerolinewidth": 2
          }
         }
        },
        "title": {
         "text": "GDP per Capita by Country (Health Life Expectancy in Tooltip)",
         "x": 0.5
        },
        "width": 1000
       }
      }
     },
     "metadata": {},
     "output_type": "display_data"
    }
   ],
   "source": [
    "# Create map to display GDP per capita with Health Life Expectancy as tooltip\n",
    "fig5 = px.choropleth(df,\n",
    "                     locations='Country',\n",
    "                     locationmode='country names',\n",
    "                     color='Economy (GDP per Capita)',\n",
    "                     hover_name='Country',\n",
    "                     hover_data={'Health (Life Expectancy)': ':.3f',\n",
    "                                'Economy (GDP per Capita)': ':.3f',\n",
    "                                'Region': True},\n",
    "                     color_continuous_scale='Viridis',\n",
    "                     title='GDP per Capita by Country (Health Life Expectancy in Tooltip)')\n",
    "\n",
    "# Update layout for better visualization\n",
    "fig5.update_layout(\n",
    "    title_x=0.5,\n",
    "    width=1000,\n",
    "    height=600\n",
    ")\n",
    "\n",
    "# Show the plot\n",
    "fig5.show()"
   ]
  },
  {
   "cell_type": "markdown",
   "id": "ff096195",
   "metadata": {},
   "source": [
    "Write Python code to write any four of the Plotly figures (fig1, fig2, fig3, fig4, fig5) to a single HTML file named “dashboard.html”?"
   ]
  },
  {
   "cell_type": "code",
   "execution_count": 16,
   "id": "67593dd9",
   "metadata": {},
   "outputs": [
    {
     "name": "stdout",
     "output_type": "stream",
     "text": [
      "Dashboard successfully saved as 'dashboard.html'\n",
      "The dashboard includes:\n",
      "- Top-left: GDP per Capita and Health Life Expectancy for Top 10 Countries\n",
      "- Top-right: Correlation Heatmap of Happiness Factors\n",
      "- Bottom-left: Scatter Plot of Happiness Score vs GDP per Capita by Region\n",
      "- Bottom-right: Pie Chart of Total Happiness Score by Region\n"
     ]
    }
   ],
   "source": [
    "from plotly.subplots import make_subplots\n",
    "\n",
    "import plotly.offline as pyo\n",
    "\n",
    "# Create a subplot layout to combine 4 figures in a 2x2 grid\n",
    "combined_fig = make_subplots(\n",
    "    rows=2, cols=2,\n",
    "    subplot_titles=('GDP per Capita and Health Life Expectancy - Top 10 Countries',\n",
    "                    'Correlation Heatmap of Happiness Factors',\n",
    "                    'Happiness Score vs GDP per Capita by Region',\n",
    "                    'Total Happiness Score by Region'),\n",
    "    specs=[[{\"secondary_y\": True}, {\"type\": \"heatmap\"}],\n",
    "           [{\"type\": \"scatter\"}, {\"type\": \"domain\"}]],\n",
    "    vertical_spacing=0.08,\n",
    "    horizontal_spacing=0.1\n",
    ")\n",
    "\n",
    "# Add traces from fig1 (bar chart with dual y-axis)\n",
    "for trace in fig1.data:\n",
    "    if trace.name == 'GDP per Capita':\n",
    "        combined_fig.add_trace(trace, row=1, col=1, secondary_y=False)\n",
    "    else:\n",
    "        combined_fig.add_trace(trace, row=1, col=1, secondary_y=True)\n",
    "\n",
    "# Add trace from fig2 (heatmap)\n",
    "combined_fig.add_trace(fig2.data[0], row=1, col=2)\n",
    "\n",
    "# Add traces from fig3 (scatter plot)\n",
    "for trace in fig3.data:\n",
    "    combined_fig.add_trace(trace, row=2, col=1)\n",
    "\n",
    "# Add trace from fig4 (pie chart)\n",
    "pie_trace = fig4.data[0]\n",
    "pie_trace.domain = dict(x=[0.52, 1.0], y=[0.0, 0.48])\n",
    "combined_fig.add_trace(pie_trace, row=2, col=2)\n",
    "\n",
    "# Update layout\n",
    "combined_fig.update_layout(\n",
    "    title_text=\"Happiness Data Analysis Dashboard\",\n",
    "    title_x=0.5,\n",
    "    height=800,\n",
    "    width=1200,\n",
    "    showlegend=True\n",
    ")\n",
    "\n",
    "# Update y-axis titles for the first subplot\n",
    "combined_fig.update_yaxes(title_text=\"GDP per Capita\", row=1, col=1, secondary_y=False)\n",
    "combined_fig.update_yaxes(title_text=\"Health Life Expectancy\", row=1, col=1, secondary_y=True)\n",
    "\n",
    "# Update axis titles for scatter plot\n",
    "combined_fig.update_xaxes(title_text=\"GDP per Capita\", row=2, col=1)\n",
    "combined_fig.update_yaxes(title_text=\"Happiness Score\", row=2, col=1)\n",
    "\n",
    "# Save to HTML file\n",
    "pyo.plot(combined_fig, filename='dashboard.html', auto_open=False)\n",
    "\n",
    "print(\"Dashboard successfully saved as 'dashboard.html'\")\n",
    "print(\"The dashboard includes:\")\n",
    "print(\"- Top-left: GDP per Capita and Health Life Expectancy for Top 10 Countries\")\n",
    "print(\"- Top-right: Correlation Heatmap of Happiness Factors\")\n",
    "print(\"- Bottom-left: Scatter Plot of Happiness Score vs GDP per Capita by Region\")\n",
    "print(\"- Bottom-right: Pie Chart of Total Happiness Score by Region\")"
   ]
  },
  {
   "cell_type": "markdown",
   "id": "e4bf007d",
   "metadata": {},
   "source": [
    "Generate a narrative to present the dashboard on world happiness report with the following charts:-\n",
    "    1. A heatmap showing correlation\n",
    "    2. A scatter plot to identify the effect of GDP per Capita on Happiness Score in various Regions\n",
    "    3. A pie chart to present Happiness score by Regions\n",
    "    4. A map to display `GDP per capita` of `countries` and include `Healthy Life Expectancy` to be shown as a tooltip"
   ]
  },
  {
   "cell_type": "markdown",
   "id": "f843a241",
   "metadata": {},
   "source": [
    "# Generate narrative for the World Happiness Report Dashboard\n",
    "\n",
    "\n",
    "# World Happiness Report 2016: A Comprehensive Analysis Dashboard\n",
    "\n",
    "## Executive Summary\n",
    "\n",
    "The World Happiness Report Dashboard presents a multi-dimensional analysis of global happiness patterns in 2016, examining the intricate relationships between economic prosperity, social factors, and overall well-being across 157 countries and 10 distinct regions. Through four key visualizations, this dashboard reveals compelling insights into what drives happiness on a global scale.\n",
    "\n",
    "## Key Findings\n",
    "\n",
    "### 1. Correlation Analysis: The Happiness Formula Revealed\n",
    "\n",
    "The correlation heatmap demonstrates that happiness is not driven by a single factor but rather by a complex interplay of multiple dimensions:\n",
    "\n",
    "- **Economic Foundation**: GDP per capita shows the strongest correlation with happiness (0.79), establishing economic prosperity as a fundamental pillar of well-being.\n",
    "- **Social Connections Matter**: Family relationships exhibit a robust correlation (0.74) with happiness, highlighting the critical importance of social bonds.\n",
    "- **Health is Wealth**: Health life expectancy correlates strongly (0.76) with happiness, emphasizing that longevity and quality of life are inseparable from well-being.\n",
    "- **Freedom and Trust**: Personal freedom (0.57) and trust in government (0.40) show moderate correlations, indicating their role in creating environments conducive to happiness.\n",
    "- **Generosity Paradox**: Interestingly, generosity shows the weakest correlation (0.16), suggesting that giving behavior may be more complex and culturally dependent.\n",
    "\n",
    "### 2. Regional Happiness Patterns: Economic Prosperity vs. Geographic Distribution\n",
    "\n",
    "The scatter plot analysis reveals distinct regional clusters and happiness-GDP relationships:\n",
    "\n",
    "- **Western Europe**: Dominates the high-happiness, high-GDP quadrant, with countries like Denmark, Switzerland, and Iceland leading both metrics.\n",
    "- **North America**: Shows high GDP and happiness levels but with fewer countries in the top tier.\n",
    "- **Sub-Saharan Africa**: Clusters in the lower-left quadrant, indicating systemic challenges in both economic development and happiness.\n",
    "- **Regional Outliers**: Some countries defy the GDP-happiness trend, suggesting that cultural, political, and social factors can significantly influence well-being beyond economic measures.\n",
    "\n",
    "### 3. Global Happiness Distribution: Regional Dominance and Disparities\n",
    "\n",
    "The pie chart reveals striking regional disparities in total happiness scores:\n",
    "\n",
    "- **Sub-Saharan Africa** leads in total happiness (157.2) primarily due to having the largest number of countries (38), not individual country performance.\n",
    "- **Central and Eastern Europe** follows (155.8), reflecting the region's diverse economic landscape post-Soviet transition.\n",
    "- **Latin America and Caribbean** (146.4) and **Western Europe** (140.4) show substantial total happiness despite fewer countries, indicating higher individual country scores.\n",
    "- **Smaller regions** like Australia/New Zealand (14.6) and North America (14.5) have lower totals due to fewer constituent countries.\n",
    "\n",
    "### 4. Global Economic Landscape: GDP Distribution and Health Insights\n",
    "\n",
    "The choropleth map provides a comprehensive view of global economic distribution:\n",
    "\n",
    "- **Economic Powerhouses**: Countries like Luxembourg, Qatar, and oil-rich nations show the highest GDP per capita (darkest colors).\n",
    "- **Development Spectrum**: The map clearly illustrates the global economic divide, with developed nations in North America, Western Europe, and parts of Asia showing higher GDP levels.\n",
    "- **Health-Wealth Connection**: The tooltip data reveals that countries with higher GDP generally have better health life expectancy, reinforcing the correlation findings.\n",
    "\n",
    "## Strategic Implications\n",
    "\n",
    "### For Policymakers:\n",
    "1. **Invest in Economic Development**: The strong GDP-happiness correlation suggests that sustainable economic growth remains crucial for national well-being.\n",
    "2. **Strengthen Social Infrastructure**: Given the importance of family and social connections, policies supporting community building and social cohesion are vital.\n",
    "3. **Prioritize Healthcare Systems**: The health-happiness link emphasizes the need for accessible, quality healthcare infrastructure.\n",
    "\n",
    "### For International Development:\n",
    "1. **Holistic Approach**: Development programs should address multiple happiness factors simultaneously rather than focusing solely on economic indicators.\n",
    "2. **Regional Strategies**: Different regions require tailored approaches based on their unique challenges and cultural contexts.\n",
    "3. **Beyond GDP**: While economic development is important, the relatively weak correlation with generosity suggests that cultural and social factors require separate attention.\n",
    "\n",
    "## Conclusion\n",
    "\n",
    "The 2016 World Happiness Report Dashboard reveals that happiness is a multifaceted phenomenon influenced by economic, social, health, and governance factors. While economic prosperity provides a strong foundation for happiness, the most successful countries excel across multiple dimensions. The data suggests that sustainable happiness requires a balanced approach to development that addresses material needs while fostering social connections, ensuring health and longevity, and maintaining political freedoms and trust.\n",
    "\n",
    "The regional analysis highlights both the challenges facing developing regions and the opportunities for targeted interventions. As we move forward, understanding these complex relationships will be crucial for creating policies and programs that truly enhance human well-being on a global scale.\n"
   ]
  },
  {
   "cell_type": "code",
   "execution_count": null,
   "id": "91ef4250",
   "metadata": {
    "vscode": {
     "languageId": "markdown"
    }
   },
   "outputs": [],
   "source": []
  }
 ],
 "metadata": {
  "kernelspec": {
   "display_name": ".venv",
   "language": "python",
   "name": "python3"
  },
  "language_info": {
   "codemirror_mode": {
    "name": "ipython",
    "version": 3
   },
   "file_extension": ".py",
   "mimetype": "text/x-python",
   "name": "python",
   "nbconvert_exporter": "python",
   "pygments_lexer": "ipython3",
   "version": "3.13.0"
  }
 },
 "nbformat": 4,
 "nbformat_minor": 5
}
