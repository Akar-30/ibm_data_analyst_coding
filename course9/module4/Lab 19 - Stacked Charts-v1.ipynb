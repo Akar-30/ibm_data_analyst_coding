{
 "cells": [
  {
   "cell_type": "markdown",
   "id": "267345ac-79fd-4e44-a3fa-06ad2d80d8d8",
   "metadata": {},
   "source": [
    "<p style=\"text-align:center\">\n",
    "    <a href=\"https://skills.network\" target=\"_blank\">\n",
    "    <img src=\"https://cf-courses-data.s3.us.cloud-object-storage.appdomain.cloud/assets/logos/SN_web_lightmode.png\" width=\"200\" alt=\"Skills Network Logo\"  />\n",
    "    </a>\n",
    "</p>\n"
   ]
  },
  {
   "cell_type": "markdown",
   "id": "6a3d50d3-eb10-4a9b-84e8-6b9958f56cda",
   "metadata": {},
   "source": [
    "# **Stacked Charts**\n"
   ]
  },
  {
   "cell_type": "markdown",
   "id": "c1754acc-0849-40d9-803e-c15a918cb6cd",
   "metadata": {},
   "source": [
    "Estimated time needed: **45** minutes\n"
   ]
  },
  {
   "cell_type": "markdown",
   "id": "b39c0e30-8f90-4a29-972d-ad2d7f08cf04",
   "metadata": {},
   "source": [
    "In this lab, you will focus on visualizing data specifically using stacked charts. You will use SQL queries to extract the necessary data and apply stacked charts to analyze the composition and comparison within the data.\n"
   ]
  },
  {
   "cell_type": "markdown",
   "id": "83658517-46b9-46d1-adda-ed28cf5efebb",
   "metadata": {},
   "source": [
    "## Objectives\n"
   ]
  },
  {
   "cell_type": "markdown",
   "id": "b3be4d36-2e72-4eb4-b325-25df98024105",
   "metadata": {},
   "source": [
    "In this lab, you will perform the following:\n"
   ]
  },
  {
   "cell_type": "markdown",
   "id": "659b9b4c-5e67-43a6-8fac-d4d886ff27c8",
   "metadata": {},
   "source": [
    "- Visualize the composition of data using stacked charts.\n",
    "\n",
    "- Compare multiple variables across different categories using stacked charts.\n",
    "\n",
    "- Analyze trends within stacked chart visualizations.\n"
   ]
  },
  {
   "cell_type": "markdown",
   "id": "332d9689-a0f8-4e97-a88b-81b86921837c",
   "metadata": {},
   "source": [
    "## Setup: Downloading and Loading the Data\n",
    "**Install the libraries**\n"
   ]
  },
  {
   "cell_type": "code",
   "execution_count": null,
   "id": "9259b755-eb42-4b55-894d-83cfa03696cb",
   "metadata": {},
   "outputs": [],
   "source": [
    "!pip install pandas"
   ]
  },
  {
   "cell_type": "code",
   "execution_count": null,
   "id": "d8c1245a-a00b-40ad-bbf4-73b7b8bafd0f",
   "metadata": {},
   "outputs": [],
   "source": [
    "!pip install matplotlib\n"
   ]
  },
  {
   "cell_type": "markdown",
   "id": "27db5014-a0cc-4ac7-bff3-ff14ce17e8d1",
   "metadata": {},
   "source": [
    "**Download and Load the Data**\n"
   ]
  },
  {
   "cell_type": "markdown",
   "id": "684532c3-3b39-43f7-ae7d-1d0acc934a5f",
   "metadata": {},
   "source": [
    "To start, download and load the dataset into a `pandas` DataFrame.\n",
    "\n"
   ]
  },
  {
   "cell_type": "markdown",
   "id": "116e5402-093f-4e1f-bd2c-fe7a7beac136",
   "metadata": {},
   "source": [
    "### Step 1: Download the dataset\n"
   ]
  },
  {
   "cell_type": "code",
   "execution_count": null,
   "id": "c8fbbc20-9028-4561-aeb5-6107ebc78375",
   "metadata": {},
   "outputs": [],
   "source": [
    "!wget -O survey-data.csv https://cf-courses-data.s3.us.cloud-object-storage.appdomain.cloud/n01PQ9pSmiRX6520flujwQ/survey-data.csv"
   ]
  },
  {
   "cell_type": "markdown",
   "id": "185e3020-3eac-4d89-badc-b9ad7974283d",
   "metadata": {},
   "source": [
    "### Step 2: Import necessary libraries and load the dataset\n"
   ]
  },
  {
   "cell_type": "code",
   "execution_count": 1,
   "id": "296baf5e-6745-4707-a718-9522cfe292df",
   "metadata": {},
   "outputs": [
    {
     "data": {
      "text/html": [
       "<div>\n",
       "<style scoped>\n",
       "    .dataframe tbody tr th:only-of-type {\n",
       "        vertical-align: middle;\n",
       "    }\n",
       "\n",
       "    .dataframe tbody tr th {\n",
       "        vertical-align: top;\n",
       "    }\n",
       "\n",
       "    .dataframe thead th {\n",
       "        text-align: right;\n",
       "    }\n",
       "</style>\n",
       "<table border=\"1\" class=\"dataframe\">\n",
       "  <thead>\n",
       "    <tr style=\"text-align: right;\">\n",
       "      <th></th>\n",
       "      <th>ResponseId</th>\n",
       "      <th>MainBranch</th>\n",
       "      <th>Age</th>\n",
       "      <th>Employment</th>\n",
       "      <th>RemoteWork</th>\n",
       "      <th>Check</th>\n",
       "      <th>CodingActivities</th>\n",
       "      <th>EdLevel</th>\n",
       "      <th>LearnCode</th>\n",
       "      <th>LearnCodeOnline</th>\n",
       "      <th>...</th>\n",
       "      <th>WorkedWith_Python</th>\n",
       "      <th>WorkedWith_JavaScript</th>\n",
       "      <th>WorkedWith_R</th>\n",
       "      <th>WorkedWith_TypeScript</th>\n",
       "      <th>WorkedWith_Lua</th>\n",
       "      <th>WorkedWith_HTML/CSS</th>\n",
       "      <th>WorkedWith_Kotlin</th>\n",
       "      <th>WorkedWith_C++</th>\n",
       "      <th>WorkedWith_PowerShell</th>\n",
       "      <th>Age_numeric</th>\n",
       "    </tr>\n",
       "  </thead>\n",
       "  <tbody>\n",
       "    <tr>\n",
       "      <th>0</th>\n",
       "      <td>1</td>\n",
       "      <td>I am a developer by profession</td>\n",
       "      <td>Under 18 years old</td>\n",
       "      <td>Employed, full-time</td>\n",
       "      <td>Remote</td>\n",
       "      <td>Apples</td>\n",
       "      <td>Hobby</td>\n",
       "      <td>Primary school</td>\n",
       "      <td>Books / Physical media</td>\n",
       "      <td>NaN</td>\n",
       "      <td>...</td>\n",
       "      <td>0.0</td>\n",
       "      <td>0.0</td>\n",
       "      <td>0.0</td>\n",
       "      <td>0.0</td>\n",
       "      <td>0.0</td>\n",
       "      <td>0.0</td>\n",
       "      <td>0.0</td>\n",
       "      <td>0.0</td>\n",
       "      <td>0.0</td>\n",
       "      <td>17.0</td>\n",
       "    </tr>\n",
       "    <tr>\n",
       "      <th>1</th>\n",
       "      <td>2</td>\n",
       "      <td>I am a developer by profession</td>\n",
       "      <td>35-44 years old</td>\n",
       "      <td>Employed, full-time</td>\n",
       "      <td>Remote</td>\n",
       "      <td>Apples</td>\n",
       "      <td>Hobby;Contribute to open-source projects;Other...</td>\n",
       "      <td>Bachelor's degree</td>\n",
       "      <td>Books / Physical media;Colleague;On the job tr...</td>\n",
       "      <td>Technical documentation;Blogs;Books;Written Tu...</td>\n",
       "      <td>...</td>\n",
       "      <td>1.0</td>\n",
       "      <td>1.0</td>\n",
       "      <td>0.0</td>\n",
       "      <td>1.0</td>\n",
       "      <td>0.0</td>\n",
       "      <td>1.0</td>\n",
       "      <td>0.0</td>\n",
       "      <td>1.0</td>\n",
       "      <td>0.0</td>\n",
       "      <td>39.5</td>\n",
       "    </tr>\n",
       "    <tr>\n",
       "      <th>2</th>\n",
       "      <td>3</td>\n",
       "      <td>I am a developer by profession</td>\n",
       "      <td>45-54 years old</td>\n",
       "      <td>Employed, full-time</td>\n",
       "      <td>Remote</td>\n",
       "      <td>Apples</td>\n",
       "      <td>Hobby;Contribute to open-source projects;Other...</td>\n",
       "      <td>Master's degree</td>\n",
       "      <td>Books / Physical media;Colleague;On the job tr...</td>\n",
       "      <td>Technical documentation;Blogs;Books;Written Tu...</td>\n",
       "      <td>...</td>\n",
       "      <td>0.0</td>\n",
       "      <td>0.0</td>\n",
       "      <td>0.0</td>\n",
       "      <td>0.0</td>\n",
       "      <td>0.0</td>\n",
       "      <td>0.0</td>\n",
       "      <td>0.0</td>\n",
       "      <td>1.0</td>\n",
       "      <td>0.0</td>\n",
       "      <td>49.5</td>\n",
       "    </tr>\n",
       "    <tr>\n",
       "      <th>3</th>\n",
       "      <td>4</td>\n",
       "      <td>I am learning to code</td>\n",
       "      <td>18-24 years old</td>\n",
       "      <td>Student, full-time</td>\n",
       "      <td>No</td>\n",
       "      <td>Apples</td>\n",
       "      <td>NaN</td>\n",
       "      <td>Some college</td>\n",
       "      <td>Other online resources (e.g., videos, blogs, f...</td>\n",
       "      <td>Stack Overflow;How-to videos;Interactive tutorial</td>\n",
       "      <td>...</td>\n",
       "      <td>1.0</td>\n",
       "      <td>1.0</td>\n",
       "      <td>0.0</td>\n",
       "      <td>1.0</td>\n",
       "      <td>0.0</td>\n",
       "      <td>1.0</td>\n",
       "      <td>0.0</td>\n",
       "      <td>1.0</td>\n",
       "      <td>1.0</td>\n",
       "      <td>21.0</td>\n",
       "    </tr>\n",
       "    <tr>\n",
       "      <th>4</th>\n",
       "      <td>5</td>\n",
       "      <td>I am a developer by profession</td>\n",
       "      <td>18-24 years old</td>\n",
       "      <td>Student, full-time</td>\n",
       "      <td>No</td>\n",
       "      <td>Apples</td>\n",
       "      <td>NaN</td>\n",
       "      <td>Secondary school</td>\n",
       "      <td>Other online resources (e.g., videos, blogs, f...</td>\n",
       "      <td>Technical documentation;Blogs;Written Tutorial...</td>\n",
       "      <td>...</td>\n",
       "      <td>1.0</td>\n",
       "      <td>1.0</td>\n",
       "      <td>1.0</td>\n",
       "      <td>0.0</td>\n",
       "      <td>1.0</td>\n",
       "      <td>1.0</td>\n",
       "      <td>0.0</td>\n",
       "      <td>1.0</td>\n",
       "      <td>0.0</td>\n",
       "      <td>21.0</td>\n",
       "    </tr>\n",
       "  </tbody>\n",
       "</table>\n",
       "<p>5 rows × 156 columns</p>\n",
       "</div>"
      ],
      "text/plain": [
       "   ResponseId                      MainBranch                 Age  \\\n",
       "0           1  I am a developer by profession  Under 18 years old   \n",
       "1           2  I am a developer by profession     35-44 years old   \n",
       "2           3  I am a developer by profession     45-54 years old   \n",
       "3           4           I am learning to code     18-24 years old   \n",
       "4           5  I am a developer by profession     18-24 years old   \n",
       "\n",
       "            Employment RemoteWork   Check  \\\n",
       "0  Employed, full-time     Remote  Apples   \n",
       "1  Employed, full-time     Remote  Apples   \n",
       "2  Employed, full-time     Remote  Apples   \n",
       "3   Student, full-time         No  Apples   \n",
       "4   Student, full-time         No  Apples   \n",
       "\n",
       "                                    CodingActivities            EdLevel  \\\n",
       "0                                              Hobby     Primary school   \n",
       "1  Hobby;Contribute to open-source projects;Other...  Bachelor's degree   \n",
       "2  Hobby;Contribute to open-source projects;Other...    Master's degree   \n",
       "3                                                NaN       Some college   \n",
       "4                                                NaN   Secondary school   \n",
       "\n",
       "                                           LearnCode  \\\n",
       "0                             Books / Physical media   \n",
       "1  Books / Physical media;Colleague;On the job tr...   \n",
       "2  Books / Physical media;Colleague;On the job tr...   \n",
       "3  Other online resources (e.g., videos, blogs, f...   \n",
       "4  Other online resources (e.g., videos, blogs, f...   \n",
       "\n",
       "                                     LearnCodeOnline  ... WorkedWith_Python  \\\n",
       "0                                                NaN  ...               0.0   \n",
       "1  Technical documentation;Blogs;Books;Written Tu...  ...               1.0   \n",
       "2  Technical documentation;Blogs;Books;Written Tu...  ...               0.0   \n",
       "3  Stack Overflow;How-to videos;Interactive tutorial  ...               1.0   \n",
       "4  Technical documentation;Blogs;Written Tutorial...  ...               1.0   \n",
       "\n",
       "   WorkedWith_JavaScript  WorkedWith_R WorkedWith_TypeScript WorkedWith_Lua  \\\n",
       "0                    0.0           0.0                   0.0            0.0   \n",
       "1                    1.0           0.0                   1.0            0.0   \n",
       "2                    0.0           0.0                   0.0            0.0   \n",
       "3                    1.0           0.0                   1.0            0.0   \n",
       "4                    1.0           1.0                   0.0            1.0   \n",
       "\n",
       "  WorkedWith_HTML/CSS WorkedWith_Kotlin WorkedWith_C++ WorkedWith_PowerShell  \\\n",
       "0                 0.0               0.0            0.0                   0.0   \n",
       "1                 1.0               0.0            1.0                   0.0   \n",
       "2                 0.0               0.0            1.0                   0.0   \n",
       "3                 1.0               0.0            1.0                   1.0   \n",
       "4                 1.0               0.0            1.0                   0.0   \n",
       "\n",
       "  Age_numeric  \n",
       "0        17.0  \n",
       "1        39.5  \n",
       "2        49.5  \n",
       "3        21.0  \n",
       "4        21.0  \n",
       "\n",
       "[5 rows x 156 columns]"
      ]
     },
     "execution_count": 1,
     "metadata": {},
     "output_type": "execute_result"
    }
   ],
   "source": [
    "import pandas as pd\n",
    "import matplotlib.pyplot as plt\n",
    "import numpy as np\n",
    "import seaborn as sns\n",
    "df = pd.read_csv('../module3/survey_data_final_m3.csv')\n",
    "\n",
    "# Display the first few rows of the data\n",
    "df.head()"
   ]
  },
  {
   "cell_type": "markdown",
   "id": "d88959fb-a2f1-44d5-907c-beb5d23e0b10",
   "metadata": {},
   "source": [
    "### Load the data\n"
   ]
  },
  {
   "cell_type": "code",
   "execution_count": null,
   "id": "d4c535fa-946d-4438-98bf-7f7c6d0f7729",
   "metadata": {},
   "outputs": [],
   "source": [
    "df = pd.read_csv(\"survey-data.csv\")"
   ]
  },
  {
   "cell_type": "markdown",
   "id": "d62e7bd0-1ad6-4687-ae3d-d49a58b1d65a",
   "metadata": {},
   "source": [
    "### Display the first few rows of the data to understand its structure\n"
   ]
  },
  {
   "cell_type": "code",
   "execution_count": null,
   "id": "53a3fe6d-df96-40de-ae0b-a4fcfe1a6ba7",
   "metadata": {},
   "outputs": [],
   "source": [
    "df.head()"
   ]
  },
  {
   "cell_type": "markdown",
   "id": "c0144d85-bd11-4d8e-b53c-c635a7fb4eaa",
   "metadata": {},
   "source": [
    "### Task 1: Stacked Chart for Composition of Job Satisfaction Across Age Groups\n"
   ]
  },
  {
   "cell_type": "markdown",
   "id": "6e8b341d-26e2-446a-99e3-db0e0fd55ef7",
   "metadata": {},
   "source": [
    "##### 1. Stacked Chart of Median `JobSatPoints_6` and `JobSatPoints_7` for Different Age Groups\n"
   ]
  },
  {
   "cell_type": "markdown",
   "id": "af96bde6-b3b9-4b76-a0b6-bea7a16ac059",
   "metadata": {},
   "source": [
    "Visualize the composition of job satisfaction scores (`JobSatPoints_6` and `JobSatPoints_7`) across various age groups. This will help in understanding the breakdown of satisfaction levels across different demographics.\n",
    "\n"
   ]
  },
  {
   "cell_type": "code",
   "execution_count": 3,
   "id": "310ffa1b-9f04-485d-8db2-d030ce92798e",
   "metadata": {},
   "outputs": [
    {
     "data": {
      "image/png": "[encoded data removed]",
      "text/plain": [
       "<Figure size 1200x600 with 1 Axes>"
      ]
     },
     "metadata": {},
     "output_type": "display_data"
    }
   ],
   "source": [
    "##Write your code here\n",
    "\n",
    "# Group by Age and calculate mean values for JobSatPoints_6 and JobSatPoints_7\n",
    "age_jobsat = df.groupby('Age')[['JobSatPoints_6', 'JobSatPoints_7']].mean()\n",
    "\n",
    "# Create stacked bar chart\n",
    "age_jobsat.plot(kind='bar', stacked=True, figsize=(12, 6))\n",
    "plt.title('Composition of Job Satisfaction Scores (JobSatPoints_6 and JobSatPoints_7) by Age Group')\n",
    "plt.xlabel('Age Group')\n",
    "plt.ylabel('Job Satisfaction Score')\n",
    "plt.legend(title='Job Satisfaction Metrics')\n",
    "plt.xticks(rotation=45)\n",
    "plt.tight_layout()\n",
    "plt.show()"
   ]
  },
  {
   "cell_type": "markdown",
   "id": "9320a18a-0317-496b-8530-19c06bfb9640",
   "metadata": {},
   "source": [
    "##### Stacked Chart of `JobSatPoints_6` and `JobSatPoints_7` for Employment Status\n"
   ]
  },
  {
   "cell_type": "markdown",
   "id": "ca077c8c-82b3-4422-9d28-b01373676468",
   "metadata": {},
   "source": [
    "Create a stacked chart to compare job satisfaction (`JobSatPoints_6` and `JobSatPoints_7`) across different employment statuses. This will show how satisfaction varies by employment type.\n"
   ]
  },
  {
   "cell_type": "code",
   "execution_count": null,
   "id": "de50ac89-3d9e-4db3-a12d-77e8209a764d",
   "metadata": {},
   "outputs": [],
   "source": [
    "##Write your code here"
   ]
  },
  {
   "cell_type": "markdown",
   "id": "73542642-86b9-42e5-8c4e-341e5b72de84",
   "metadata": {},
   "source": [
    "### Task 2: Stacked Chart for Compensation and Job Satisfaction by Age Group\n"
   ]
  },
  {
   "cell_type": "markdown",
   "id": "79d8439f-2a06-4d7d-9134-df34b96d7d90",
   "metadata": {},
   "source": [
    "##### This stacked chart visualizes the composition of compensation (`ConvertedCompYearly`) and job satisfaction (`JobSatPoints_6`) specifically for respondents aged 30-35.\n"
   ]
  },
  {
   "cell_type": "code",
   "execution_count": 6,
   "id": "140daca4-5f4f-4082-826d-ee64a8d92aa2",
   "metadata": {},
   "outputs": [
    {
     "data": {
      "text/html": [
       "<div>\n",
       "<style scoped>\n",
       "    .dataframe tbody tr th:only-of-type {\n",
       "        vertical-align: middle;\n",
       "    }\n",
       "\n",
       "    .dataframe tbody tr th {\n",
       "        vertical-align: top;\n",
       "    }\n",
       "\n",
       "    .dataframe thead th {\n",
       "        text-align: right;\n",
       "    }\n",
       "</style>\n",
       "<table border=\"1\" class=\"dataframe\">\n",
       "  <thead>\n",
       "    <tr style=\"text-align: right;\">\n",
       "      <th></th>\n",
       "      <th>ConvertedCompYearly</th>\n",
       "      <th>JobSatPoints_6</th>\n",
       "    </tr>\n",
       "    <tr>\n",
       "      <th>Age</th>\n",
       "      <th></th>\n",
       "      <th></th>\n",
       "    </tr>\n",
       "  </thead>\n",
       "  <tbody>\n",
       "    <tr>\n",
       "      <th>25-34 years old</th>\n",
       "      <td>63894.950368</td>\n",
       "      <td>25.682836</td>\n",
       "    </tr>\n",
       "  </tbody>\n",
       "</table>\n",
       "</div>"
      ],
      "text/plain": [
       "                 ConvertedCompYearly  JobSatPoints_6\n",
       "Age                                                 \n",
       "25-34 years old         63894.950368       25.682836"
      ]
     },
     "execution_count": 6,
     "metadata": {},
     "output_type": "execute_result"
    },
    {
     "data": {
      "image/png": "[encoded data removed]",
      "text/plain": [
       "<Figure size 1200x600 with 1 Axes>"
      ]
     },
     "metadata": {},
     "output_type": "display_data"
    }
   ],
   "source": [
    "##Write your code here\n",
    "df_grouped  = df.groupby('Age')[['ConvertedCompYearly', 'JobSatPoints_6']].mean()\n",
    "df_Age_25_35 = df_grouped[df_grouped.index == '25-34 years old']\n",
    "df_Age_25_35.plot(kind='barh', stacked=True, figsize=(12, 6))\n",
    "df_Age_25_35"
   ]
  },
  {
   "cell_type": "markdown",
   "id": "fb850cfe-1ec6-4ff9-bf2b-d9aedde81776",
   "metadata": {},
   "source": [
    "##### Stacked Chart of Median Compensation and Job Satisfaction Across Age Group\n"
   ]
  },
  {
   "cell_type": "markdown",
   "id": "15260085-c016-4f7e-986f-22a87c7a8449",
   "metadata": {},
   "source": [
    "Compare the median compensation and job satisfaction metrics across different age groups. This helps visualize how compensation and satisfaction levels differ by age.\n"
   ]
  },
  {
   "cell_type": "code",
   "execution_count": null,
   "id": "7c43497c-6423-4fff-bd25-3bc288755049",
   "metadata": {},
   "outputs": [],
   "source": [
    "##Write your code here"
   ]
  },
  {
   "cell_type": "markdown",
   "id": "f6fa6bac-3586-4f81-bef5-f3a808e73593",
   "metadata": {},
   "source": [
    "### Task 3: Comparing Data Using Stacked Charts\n"
   ]
  },
  {
   "cell_type": "markdown",
   "id": "a8d80926-b9d6-4a5d-b36e-1e8cde318c32",
   "metadata": {},
   "source": [
    "##### 1. Stacked Chart of Preferred Databases by Age Group\n",
    "\n",
    "\n"
   ]
  },
  {
   "cell_type": "markdown",
   "id": "ed7bf0b4-ab85-4edb-84bb-2dd655ab7c6e",
   "metadata": {},
   "source": [
    "Visualize the top databases that respondents from different age groups wish to learn. Create a stacked chart to show the proportion of each database in each age group.\n"
   ]
  },
  {
   "cell_type": "code",
   "execution_count": null,
   "id": "b49b5baa-87fd-4476-9799-0afb8fedf3c1",
   "metadata": {},
   "outputs": [],
   "source": [
    "##Write your code here"
   ]
  },
  {
   "cell_type": "markdown",
   "id": "a19ed62e-294b-4485-8a88-53bf3dbcb603",
   "metadata": {},
   "source": [
    "##### 2. Stacked Chart of Employment Type by Job Satisfaction\n"
   ]
  },
  {
   "cell_type": "markdown",
   "id": "32e0a8b5-7b91-4e18-b87b-429b995384b9",
   "metadata": {},
   "source": [
    "Analyze the distribution of employment types within each job satisfaction level using a stacked chart. This will provide insights into how employment types are distributed across various satisfaction ratings.\n"
   ]
  },
  {
   "cell_type": "code",
   "execution_count": null,
   "id": "4bd89776-b011-47d3-ae2d-84ff64939d62",
   "metadata": {},
   "outputs": [],
   "source": [
    "##Write your code here"
   ]
  },
  {
   "cell_type": "markdown",
   "id": "dfafd870-3374-4cbb-945a-16b7d04d321a",
   "metadata": {},
   "source": [
    "### Task 4: Exploring Technology Preferences Using Stacked Charts\n"
   ]
  },
  {
   "cell_type": "markdown",
   "id": "2e924e63-f8ea-49ac-a892-fb30c06eeab9",
   "metadata": {},
   "source": [
    "##### 1. Stacked Chart for Preferred Programming Languages by Age Group\n"
   ]
  },
  {
   "cell_type": "markdown",
   "id": "73a97f69-6ead-4593-84cd-aa5015d2203d",
   "metadata": {},
   "source": [
    "Analyze how programming language preferences (`LanguageAdmired`) vary across age groups.\n"
   ]
  },
  {
   "cell_type": "code",
   "execution_count": null,
   "id": "bf1942f7-2adb-4e1c-9e5b-13e4acf7aa19",
   "metadata": {},
   "outputs": [],
   "source": [
    "##Write your code here"
   ]
  },
  {
   "cell_type": "markdown",
   "id": "48559c7c-2fe1-4d53-a054-7af621a18ddf",
   "metadata": {},
   "source": [
    "##### 2. Stacked Chart for Technology Adoption by Employment Type\n"
   ]
  },
  {
   "cell_type": "markdown",
   "id": "2e7b97de-de60-4e61-85c4-4bd2a0e39581",
   "metadata": {},
   "source": [
    "Explore how admired platforms (`PlatformAdmired`) differ across employment types (e.g., full-time, freelance)\n"
   ]
  },
  {
   "cell_type": "code",
   "execution_count": null,
   "id": "d8811dec-c647-49dc-b880-a357b6608665",
   "metadata": {},
   "outputs": [],
   "source": [
    "##Write your code here"
   ]
  },
  {
   "cell_type": "markdown",
   "id": "d46d8a28-64f4-4ef7-a7cd-b2aeabe35bd0",
   "metadata": {},
   "source": [
    "### Final Step: Review\n"
   ]
  },
  {
   "cell_type": "markdown",
   "id": "ab6306ed-688e-43f7-8415-e149128ef819",
   "metadata": {},
   "source": [
    "In this lab, you focused on using stacked charts to understand the composition and comparison within the dataset. Stacked charts provided insights into job satisfaction, compensation, and preferred databases across age groups and employment types.\n"
   ]
  },
  {
   "cell_type": "markdown",
   "id": "44680c6e-01d8-4e32-bf75-f3d2a0c4e520",
   "metadata": {},
   "source": [
    "## Summary\n"
   ]
  },
  {
   "cell_type": "markdown",
   "id": "c8b8ae9c-d606-41b8-b266-5d3100f8a088",
   "metadata": {},
   "source": [
    "After completing this lab, you will be able to:\n",
    "\n",
    "- Use stacked charts to analyze the composition of data across categories, such as job satisfaction and compensation by age group.\n",
    "\n",
    "- Compare data across different dimensions using stacked charts, enhancing your ability to communicate complex relationships in the data.\n",
    "\n",
    "- Visualize distributions across multiple categories, such as employment type by satisfaction, to gain a deeper understanding of patterns within the dataset.\n"
   ]
  },
  {
   "cell_type": "markdown",
   "id": "813cb58e-d265-4f39-8834-b4b72b958a51",
   "metadata": {},
   "source": [
    "## Author:\n",
    "Ayushi Jain\n"
   ]
  },
  {
   "cell_type": "markdown",
   "id": "1aef8353-848b-4e6b-8761-a1f24e56c915",
   "metadata": {},
   "source": [
    "### Other Contributors:\n",
    "- Rav Ahuja\n",
    "- Lakshmi Holla\n",
    "- Malika\n"
   ]
  },
  {
   "cell_type": "markdown",
   "id": "1aa60fc7-cd71-44a3-bfcc-067a03269a7b",
   "metadata": {},
   "source": [
    "<!--\n",
    "## Change Log\n",
    "|Date (YYYY-MM-DD)|Version|Changed By|Change Description|\n",
    "|-|-|-|-|\n",
    "|2024-10-28|1.2|Madhusudhan Moole|Updated lab|\n",
    "|2024-10-16|1.1|Madhusudhan Moole|Updated lab|\n",
    "|2024-10-15|1.0|Raghul Ramesh|Created lab|\n",
    "--!>\n"
   ]
  },
  {
   "cell_type": "markdown",
   "id": "66ecdb7f-cf8e-45de-853a-7214f2a00cfa",
   "metadata": {},
   "source": [
    "Copyright © IBM Corporation. All rights reserved.\n"
   ]
  }
 ],
 "metadata": {
  "kernelspec": {
   "display_name": ".venv",
   "language": "python",
   "name": "python3"
  },
  "language_info": {
   "codemirror_mode": {
    "name": "ipython",
    "version": 3
   },
   "file_extension": ".py",
   "mimetype": "text/x-python",
   "name": "python",
   "nbconvert_exporter": "python",
   "pygments_lexer": "ipython3",
   "version": "3.13.0"
  },
  "prev_pub_hash": "1b1fb97e337e72d29cf2d031b4970d6600b32d5dfdbfc293b328e641b595ed88"
 },
 "nbformat": 4,
 "nbformat_minor": 4
}
