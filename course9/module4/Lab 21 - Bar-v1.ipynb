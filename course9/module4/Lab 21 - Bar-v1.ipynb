{
 "cells": [
  {
   "cell_type": "markdown",
   "id": "f052d4b6-1e52-4e68-8782-47b00d640663",
   "metadata": {},
   "source": [
    "<p style=\"text-align:center\">\n",
    "    <a href=\"https://skills.network\" target=\"_blank\">\n",
    "    <img src=\"https://cf-courses-data.s3.us.cloud-object-storage.appdomain.cloud/assets/logos/SN_web_lightmode.png\" width=\"200\" alt=\"Skills Network Logo\"  />\n",
    "    </a>\n",
    "</p>\n"
   ]
  },
  {
   "cell_type": "markdown",
   "id": "4c47fc04-9c0a-4eb4-a9ce-625c48fea384",
   "metadata": {},
   "source": [
    "# **Bar Charts**\n"
   ]
  },
  {
   "cell_type": "markdown",
   "id": "c3b736a8-cde3-4ae7-ad0b-b9fdd5eba705",
   "metadata": {},
   "source": [
    "Estimated time needed: **30** minutes\n"
   ]
  },
  {
   "cell_type": "markdown",
   "id": "5151e753-de12-4d0e-8e1b-0bd27f1e6584",
   "metadata": {},
   "source": [
    "In this lab, you will focus on visualizing data.\n",
    "\n",
    "The dataset will be provided to you in the form of an RDBMS.\n",
    "\n",
    "You will use SQL queries to extract the necessary data.\n"
   ]
  },
  {
   "cell_type": "markdown",
   "id": "0b3160a2-7ec9-4d49-b9c9-d5d972dc3751",
   "metadata": {},
   "source": [
    "## Objectives\n"
   ]
  },
  {
   "cell_type": "markdown",
   "id": "35fd45b8-e781-41b5-88a2-8cdd5cddf1b7",
   "metadata": {},
   "source": [
    "In this lab you will perform the following:\n"
   ]
  },
  {
   "cell_type": "markdown",
   "id": "6df1aff0-29cb-41d8-92be-569d09f4bb26",
   "metadata": {},
   "source": [
    "-   Visualize the distribution of data\n",
    "\n",
    "-   Visualize the relationship between two features\n",
    "\n",
    "-   Visualize the composition of data\n",
    "\n",
    "-   Visualize comparison of data\n"
   ]
  },
  {
   "cell_type": "markdown",
   "id": "d1833387-8dbd-461f-91be-816ffcd593a3",
   "metadata": {},
   "source": [
    "## Setup: Working with the Database\n",
    "**Install the needed libraries**\n"
   ]
  },
  {
   "cell_type": "code",
   "execution_count": null,
   "id": "f1c7e0ba-398e-4e78-b613-e6eb8e98538b",
   "metadata": {},
   "outputs": [],
   "source": [
    "!pip install pandas"
   ]
  },
  {
   "cell_type": "code",
   "execution_count": null,
   "id": "45dc4d49-d511-4d4e-9bee-8717a8d9af01",
   "metadata": {},
   "outputs": [],
   "source": [
    "!pip install matplotlib"
   ]
  },
  {
   "cell_type": "markdown",
   "id": "ea29103e-3e88-4364-8e9c-d999237d317f",
   "metadata": {},
   "source": [
    "**Download and connect to the database file containing survey data.**\n"
   ]
  },
  {
   "cell_type": "markdown",
   "id": "f4d890f6-a0bd-4716-a944-9fdd813189f9",
   "metadata": {},
   "source": [
    "To start, download and load the dataset into a `pandas` DataFrame.\n",
    "\n"
   ]
  },
  {
   "cell_type": "code",
   "execution_count": null,
   "id": "2b71b33d-73ba-485c-9726-f7a2c5dd5c81",
   "metadata": {},
   "outputs": [],
   "source": [
    "# Step 1: Download the dataset\n",
    "!wget -O survey-data.csv https://cf-courses-data.s3.us.cloud-object-storage.appdomain.cloud/n01PQ9pSmiRX6520flujwQ/survey-data.csv\n",
    "\n",
    "# Step 2: Import necessary libraries and load the dataset\n",
    "import pandas as pd\n",
    "import matplotlib.pyplot as plt\n",
    "\n",
    "# Load the data\n",
    "df = pd.read_csv(\"survey-data.csv\")\n",
    "\n",
    "# Display the first few rows to understand the structure of the data\n",
    "df.head()\n"
   ]
  },
  {
   "cell_type": "code",
   "execution_count": 1,
   "metadata": {},
   "outputs": [
    {
     "data": {
      "text/html": [
       "<div>\n",
       "<style scoped>\n",
       "    .dataframe tbody tr th:only-of-type {\n",
       "        vertical-align: middle;\n",
       "    }\n",
       "\n",
       "    .dataframe tbody tr th {\n",
       "        vertical-align: top;\n",
       "    }\n",
       "\n",
       "    .dataframe thead th {\n",
       "        text-align: right;\n",
       "    }\n",
       "</style>\n",
       "<table border=\"1\" class=\"dataframe\">\n",
       "  <thead>\n",
       "    <tr style=\"text-align: right;\">\n",
       "      <th></th>\n",
       "      <th>ResponseId</th>\n",
       "      <th>MainBranch</th>\n",
       "      <th>Age</th>\n",
       "      <th>Employment</th>\n",
       "      <th>RemoteWork</th>\n",
       "      <th>Check</th>\n",
       "      <th>CodingActivities</th>\n",
       "      <th>EdLevel</th>\n",
       "      <th>LearnCode</th>\n",
       "      <th>LearnCodeOnline</th>\n",
       "      <th>...</th>\n",
       "      <th>WorkedWith_Python</th>\n",
       "      <th>WorkedWith_JavaScript</th>\n",
       "      <th>WorkedWith_R</th>\n",
       "      <th>WorkedWith_TypeScript</th>\n",
       "      <th>WorkedWith_Lua</th>\n",
       "      <th>WorkedWith_HTML/CSS</th>\n",
       "      <th>WorkedWith_Kotlin</th>\n",
       "      <th>WorkedWith_C++</th>\n",
       "      <th>WorkedWith_PowerShell</th>\n",
       "      <th>Age_numeric</th>\n",
       "    </tr>\n",
       "  </thead>\n",
       "  <tbody>\n",
       "    <tr>\n",
       "      <th>0</th>\n",
       "      <td>1</td>\n",
       "      <td>I am a developer by profession</td>\n",
       "      <td>Under 18 years old</td>\n",
       "      <td>Employed, full-time</td>\n",
       "      <td>Remote</td>\n",
       "      <td>Apples</td>\n",
       "      <td>Hobby</td>\n",
       "      <td>Primary school</td>\n",
       "      <td>Books / Physical media</td>\n",
       "      <td>NaN</td>\n",
       "      <td>...</td>\n",
       "      <td>0.0</td>\n",
       "      <td>0.0</td>\n",
       "      <td>0.0</td>\n",
       "      <td>0.0</td>\n",
       "      <td>0.0</td>\n",
       "      <td>0.0</td>\n",
       "      <td>0.0</td>\n",
       "      <td>0.0</td>\n",
       "      <td>0.0</td>\n",
       "      <td>17.0</td>\n",
       "    </tr>\n",
       "    <tr>\n",
       "      <th>1</th>\n",
       "      <td>2</td>\n",
       "      <td>I am a developer by profession</td>\n",
       "      <td>35-44 years old</td>\n",
       "      <td>Employed, full-time</td>\n",
       "      <td>Remote</td>\n",
       "      <td>Apples</td>\n",
       "      <td>Hobby;Contribute to open-source projects;Other...</td>\n",
       "      <td>Bachelor's degree</td>\n",
       "      <td>Books / Physical media;Colleague;On the job tr...</td>\n",
       "      <td>Technical documentation;Blogs;Books;Written Tu...</td>\n",
       "      <td>...</td>\n",
       "      <td>1.0</td>\n",
       "      <td>1.0</td>\n",
       "      <td>0.0</td>\n",
       "      <td>1.0</td>\n",
       "      <td>0.0</td>\n",
       "      <td>1.0</td>\n",
       "      <td>0.0</td>\n",
       "      <td>1.0</td>\n",
       "      <td>0.0</td>\n",
       "      <td>39.5</td>\n",
       "    </tr>\n",
       "    <tr>\n",
       "      <th>2</th>\n",
       "      <td>3</td>\n",
       "      <td>I am a developer by profession</td>\n",
       "      <td>45-54 years old</td>\n",
       "      <td>Employed, full-time</td>\n",
       "      <td>Remote</td>\n",
       "      <td>Apples</td>\n",
       "      <td>Hobby;Contribute to open-source projects;Other...</td>\n",
       "      <td>Master's degree</td>\n",
       "      <td>Books / Physical media;Colleague;On the job tr...</td>\n",
       "      <td>Technical documentation;Blogs;Books;Written Tu...</td>\n",
       "      <td>...</td>\n",
       "      <td>0.0</td>\n",
       "      <td>0.0</td>\n",
       "      <td>0.0</td>\n",
       "      <td>0.0</td>\n",
       "      <td>0.0</td>\n",
       "      <td>0.0</td>\n",
       "      <td>0.0</td>\n",
       "      <td>1.0</td>\n",
       "      <td>0.0</td>\n",
       "      <td>49.5</td>\n",
       "    </tr>\n",
       "    <tr>\n",
       "      <th>3</th>\n",
       "      <td>4</td>\n",
       "      <td>I am learning to code</td>\n",
       "      <td>18-24 years old</td>\n",
       "      <td>Student, full-time</td>\n",
       "      <td>No</td>\n",
       "      <td>Apples</td>\n",
       "      <td>NaN</td>\n",
       "      <td>Some college</td>\n",
       "      <td>Other online resources (e.g., videos, blogs, f...</td>\n",
       "      <td>Stack Overflow;How-to videos;Interactive tutorial</td>\n",
       "      <td>...</td>\n",
       "      <td>1.0</td>\n",
       "      <td>1.0</td>\n",
       "      <td>0.0</td>\n",
       "      <td>1.0</td>\n",
       "      <td>0.0</td>\n",
       "      <td>1.0</td>\n",
       "      <td>0.0</td>\n",
       "      <td>1.0</td>\n",
       "      <td>1.0</td>\n",
       "      <td>21.0</td>\n",
       "    </tr>\n",
       "    <tr>\n",
       "      <th>4</th>\n",
       "      <td>5</td>\n",
       "      <td>I am a developer by profession</td>\n",
       "      <td>18-24 years old</td>\n",
       "      <td>Student, full-time</td>\n",
       "      <td>No</td>\n",
       "      <td>Apples</td>\n",
       "      <td>NaN</td>\n",
       "      <td>Secondary school</td>\n",
       "      <td>Other online resources (e.g., videos, blogs, f...</td>\n",
       "      <td>Technical documentation;Blogs;Written Tutorial...</td>\n",
       "      <td>...</td>\n",
       "      <td>1.0</td>\n",
       "      <td>1.0</td>\n",
       "      <td>1.0</td>\n",
       "      <td>0.0</td>\n",
       "      <td>1.0</td>\n",
       "      <td>1.0</td>\n",
       "      <td>0.0</td>\n",
       "      <td>1.0</td>\n",
       "      <td>0.0</td>\n",
       "      <td>21.0</td>\n",
       "    </tr>\n",
       "  </tbody>\n",
       "</table>\n",
       "<p>5 rows × 156 columns</p>\n",
       "</div>"
      ],
      "text/plain": [
       "   ResponseId                      MainBranch                 Age  \\\n",
       "0           1  I am a developer by profession  Under 18 years old   \n",
       "1           2  I am a developer by profession     35-44 years old   \n",
       "2           3  I am a developer by profession     45-54 years old   \n",
       "3           4           I am learning to code     18-24 years old   \n",
       "4           5  I am a developer by profession     18-24 years old   \n",
       "\n",
       "            Employment RemoteWork   Check  \\\n",
       "0  Employed, full-time     Remote  Apples   \n",
       "1  Employed, full-time     Remote  Apples   \n",
       "2  Employed, full-time     Remote  Apples   \n",
       "3   Student, full-time         No  Apples   \n",
       "4   Student, full-time         No  Apples   \n",
       "\n",
       "                                    CodingActivities            EdLevel  \\\n",
       "0                                              Hobby     Primary school   \n",
       "1  Hobby;Contribute to open-source projects;Other...  Bachelor's degree   \n",
       "2  Hobby;Contribute to open-source projects;Other...    Master's degree   \n",
       "3                                                NaN       Some college   \n",
       "4                                                NaN   Secondary school   \n",
       "\n",
       "                                           LearnCode  \\\n",
       "0                             Books / Physical media   \n",
       "1  Books / Physical media;Colleague;On the job tr...   \n",
       "2  Books / Physical media;Colleague;On the job tr...   \n",
       "3  Other online resources (e.g., videos, blogs, f...   \n",
       "4  Other online resources (e.g., videos, blogs, f...   \n",
       "\n",
       "                                     LearnCodeOnline  ... WorkedWith_Python  \\\n",
       "0                                                NaN  ...               0.0   \n",
       "1  Technical documentation;Blogs;Books;Written Tu...  ...               1.0   \n",
       "2  Technical documentation;Blogs;Books;Written Tu...  ...               0.0   \n",
       "3  Stack Overflow;How-to videos;Interactive tutorial  ...               1.0   \n",
       "4  Technical documentation;Blogs;Written Tutorial...  ...               1.0   \n",
       "\n",
       "   WorkedWith_JavaScript  WorkedWith_R WorkedWith_TypeScript WorkedWith_Lua  \\\n",
       "0                    0.0           0.0                   0.0            0.0   \n",
       "1                    1.0           0.0                   1.0            0.0   \n",
       "2                    0.0           0.0                   0.0            0.0   \n",
       "3                    1.0           0.0                   1.0            0.0   \n",
       "4                    1.0           1.0                   0.0            1.0   \n",
       "\n",
       "  WorkedWith_HTML/CSS WorkedWith_Kotlin WorkedWith_C++ WorkedWith_PowerShell  \\\n",
       "0                 0.0               0.0            0.0                   0.0   \n",
       "1                 1.0               0.0            1.0                   0.0   \n",
       "2                 0.0               0.0            1.0                   0.0   \n",
       "3                 1.0               0.0            1.0                   1.0   \n",
       "4                 1.0               0.0            1.0                   0.0   \n",
       "\n",
       "  Age_numeric  \n",
       "0        17.0  \n",
       "1        39.5  \n",
       "2        49.5  \n",
       "3        21.0  \n",
       "4        21.0  \n",
       "\n",
       "[5 rows x 156 columns]"
      ]
     },
     "execution_count": 1,
     "metadata": {},
     "output_type": "execute_result"
    }
   ],
   "source": [
    "import pandas as pd\n",
    "import matplotlib.pyplot as plt\n",
    "import numpy as np\n",
    "import seaborn as sns\n",
    "df = pd.read_csv('../module3/survey_data_final_m3.csv')\n",
    "\n",
    "# Display the first few rows of the data\n",
    "df.head()"
   ]
  },
  {
   "cell_type": "markdown",
   "id": "36e1a1b7-96cc-43c4-89c9-2729ae3dc7dc",
   "metadata": {},
   "source": [
    "### Task 1: Visualizing Data Distributions\n"
   ]
  },
  {
   "cell_type": "markdown",
   "id": "1db6db2d-4557-4087-b6c5-e6b509c4c44f",
   "metadata": {},
   "source": [
    "##### 1. Histogram of `ConvertedCompYearly`\n"
   ]
  },
  {
   "cell_type": "markdown",
   "id": "9cf6d3ea-42bc-4d8f-ab73-5dab897a4004",
   "metadata": {},
   "source": [
    "Visualize the distribution of yearly compensation (`ConvertedCompYearly`) using a histogram.\n",
    "\n"
   ]
  },
  {
   "cell_type": "code",
   "execution_count": null,
   "id": "d3b6bd4b-516c-497a-a97f-b20ee9b89e6a",
   "metadata": {},
   "outputs": [],
   "source": [
    "## Write your code here"
   ]
  },
  {
   "cell_type": "markdown",
   "id": "3379f1a6-4255-4491-a8c7-7c97d2b19b19",
   "metadata": {},
   "source": [
    "##### 2. Box Plot of `Age`\n"
   ]
  },
  {
   "cell_type": "markdown",
   "id": "e4686e3b-f501-46a9-ada9-f7978a089a0e",
   "metadata": {},
   "source": [
    "Since `Age` is categorical in the dataset, convert it to numerical values for a box plot.\n",
    "\n"
   ]
  },
  {
   "cell_type": "code",
   "execution_count": null,
   "id": "93dd5075-f347-4d1a-a3ee-b14c53cab806",
   "metadata": {},
   "outputs": [],
   "source": [
    "## Write your code here"
   ]
  },
  {
   "cell_type": "markdown",
   "id": "2371b269-b302-4313-9528-024d4218427d",
   "metadata": {},
   "source": [
    "### Task 2: Visualizing Relationships in Data\n"
   ]
  },
  {
   "cell_type": "markdown",
   "id": "f5b5198c-9326-4fa4-b75f-1536919d51df",
   "metadata": {},
   "source": [
    "##### 1. Scatter Plot of `Age_numeric` and `ConvertedCompYearly`\n"
   ]
  },
  {
   "cell_type": "markdown",
   "id": "3d2e3474-c302-458c-be6e-d680cc2d8c1e",
   "metadata": {},
   "source": [
    "Explore the relationship between age and compensation.\n",
    "\n"
   ]
  },
  {
   "cell_type": "code",
   "execution_count": null,
   "id": "66ba84d5-aa0b-452f-a902-19c2c062a03f",
   "metadata": {},
   "outputs": [],
   "source": [
    "## Write your code here"
   ]
  },
  {
   "cell_type": "markdown",
   "id": "24b51938-39ff-438d-b9fa-499b56e00f1a",
   "metadata": {},
   "source": [
    "##### 2. Bubble Plot of `ConvertedCompYearly` and `JobSatPoints_6` with `Age_numeric` as Bubble Size\n"
   ]
  },
  {
   "cell_type": "markdown",
   "id": "ef4aa905-91ce-4640-b27a-fb71133cfc86",
   "metadata": {},
   "source": [
    "Explore how compensation and job satisfaction are related, with age as the bubble size.\n"
   ]
  },
  {
   "cell_type": "code",
   "execution_count": null,
   "id": "285f626a-fcaf-443b-b97d-3dc01ef98f32",
   "metadata": {},
   "outputs": [],
   "source": [
    "## Write your code here"
   ]
  },
  {
   "cell_type": "markdown",
   "id": "47385d2b-870c-45cc-ac9e-5141629b35ff",
   "metadata": {},
   "source": [
    "### Task 3: Visualizing Composition of Data with Bar Charts\n"
   ]
  },
  {
   "cell_type": "markdown",
   "id": "58ecfa38-f4cf-49b0-ae6f-447cbeb53e5a",
   "metadata": {},
   "source": [
    "##### 1. Horizontal Bar Chart of `MainBranch` Distribution\n"
   ]
  },
  {
   "cell_type": "markdown",
   "id": "a4735304-68ec-4925-adcd-e60bb940ba68",
   "metadata": {},
   "source": [
    "Visualize the distribution of respondents’ primary roles to understand their professional focus.\n",
    "\n"
   ]
  },
  {
   "cell_type": "code",
   "execution_count": 11,
   "metadata": {},
   "outputs": [
    {
     "data": {
      "text/plain": [
       "MainBranch\n",
       "I am a developer by profession                                                           48446\n",
       "I am not primarily a developer, but I write code sometimes as part of my work/studies     6329\n",
       "I am learning to code                                                                     3761\n",
       "I code primarily as a hobby                                                               3157\n",
       "I used to be a developer by profession, but no longer am                                  1491\n",
       "Name: count, dtype: int64"
      ]
     },
     "execution_count": 11,
     "metadata": {},
     "output_type": "execute_result"
    }
   ],
   "source": [
    "df['MainBranch'].value_counts()"
   ]
  },
  {
   "cell_type": "code",
   "execution_count": 13,
   "id": "6e546094-76eb-437a-8972-401794db312e",
   "metadata": {},
   "outputs": [
    {
     "data": {
      "image/png": "[encoded data removed]",
      "text/plain": [
       "<Figure size 1200x800 with 1 Axes>"
      ]
     },
     "metadata": {},
     "output_type": "display_data"
    }
   ],
   "source": [
    "## Write your code here\n",
    "df['MainBranch'] = df['MainBranch'].replace({\n",
    "    'I am not primarily a developer, but I write code sometimes as part of my work/studies': 'I am not primarily a developer',\n",
    "    'I used to be a developer by profession, but no longer am ': 'No longer a developer'\n",
    "})\n",
    "\n",
    "# Create a horizontal bar chart\n",
    "plt.figure(figsize=(12, 8))\n",
    "main_branch_counts = df['MainBranch'].value_counts()\n",
    "plt.barh(main_branch_counts.index, main_branch_counts.values)\n",
    "plt.xlabel('Count')\n",
    "plt.ylabel('Main Branch')\n",
    "plt.title('Distribution of MainBranch Categories')\n",
    "plt.tight_layout()\n",
    "plt.show()\n"
   ]
  },
  {
   "cell_type": "markdown",
   "id": "4049de28-3c8f-483b-9295-a4b07c8b69db",
   "metadata": {},
   "source": [
    "##### 2. Vertical Bar Chart of Top 5 Programming Languages Respondents Want to Work With\n"
   ]
  },
  {
   "cell_type": "markdown",
   "id": "cbe86e38-e8c3-438e-9a58-a3e7abc70324",
   "metadata": {},
   "source": [
    "Identify the most desired programming languages based on `LanguageWantToWorkWith`.\n",
    "\n"
   ]
  },
  {
   "cell_type": "code",
   "execution_count": null,
   "id": "850b059d-3804-4282-af76-9ad9af8c25bb",
   "metadata": {},
   "outputs": [],
   "source": [
    "## Write your code here"
   ]
  },
  {
   "cell_type": "markdown",
   "id": "0a62c676-4e2c-40d2-b642-37008aa446b3",
   "metadata": {},
   "source": [
    "##### 3. Stacked Bar Chart of Median `JobSatPoints_6` and `JobSatPoints_7` by Age Group\n"
   ]
  },
  {
   "cell_type": "markdown",
   "id": "3dde0241-ee65-4ffe-80a1-a96f2c10b6b9",
   "metadata": {},
   "source": [
    "Compare job satisfaction metrics across different age groups with a stacked bar chart.\n"
   ]
  },
  {
   "cell_type": "code",
   "execution_count": null,
   "id": "c7d9a77a-2d3b-4d94-a369-f708211ace4a",
   "metadata": {},
   "outputs": [],
   "source": [
    "## Write your code here"
   ]
  },
  {
   "cell_type": "markdown",
   "id": "e40cdd5d-7855-484f-81fa-af4f4ddb2e9c",
   "metadata": {},
   "source": [
    "##### 4. Bar Chart of Database Popularity (`DatabaseHaveWorkedWith`)\n"
   ]
  },
  {
   "cell_type": "markdown",
   "id": "4f366085-d285-4441-aa2a-74ee4538d30a",
   "metadata": {},
   "source": [
    "Identify the most commonly used databases among respondents by visualizing `DatabaseHaveWorkedWith`.\n",
    "\n"
   ]
  },
  {
   "cell_type": "code",
   "execution_count": null,
   "id": "e5125b23-bd2b-43bc-a99b-8760e51f36b5",
   "metadata": {},
   "outputs": [],
   "source": [
    "## Write your code here"
   ]
  },
  {
   "cell_type": "markdown",
   "id": "e2c8995d-03ea-44fa-83d4-15c31619c671",
   "metadata": {},
   "source": [
    "### Task 4: Visualizing Comparison of Data with Bar Charts\n"
   ]
  },
  {
   "cell_type": "markdown",
   "id": "a43bae15-3208-4de9-8819-447104c516c8",
   "metadata": {},
   "source": [
    "##### 1. Grouped Bar Chart of Median `ConvertedCompYearly` for Different Age Groups\n"
   ]
  },
  {
   "cell_type": "markdown",
   "id": "901298b6-4d17-4815-86c2-1ac6dad53e83",
   "metadata": {},
   "source": [
    "Compare median compensation across multiple age groups with a grouped bar chart.\n",
    "\n"
   ]
  },
  {
   "cell_type": "code",
   "execution_count": null,
   "id": "bbbd2e81-1d26-49e7-9978-f38d5370c6b3",
   "metadata": {},
   "outputs": [],
   "source": [
    "## Write your code here"
   ]
  },
  {
   "cell_type": "markdown",
   "id": "6aefd737-b7f5-4fc6-afc4-4ff77d61f1ca",
   "metadata": {},
   "source": [
    "##### 2. Bar Chart of Respondent Count by Country\n"
   ]
  },
  {
   "cell_type": "markdown",
   "id": "08f7ea88-83c9-47cc-8a23-a78914335fa6",
   "metadata": {},
   "source": [
    "Show the distribution of respondents by country to see which regions are most represented.\n",
    "\n"
   ]
  },
  {
   "cell_type": "code",
   "execution_count": null,
   "id": "b09ee6e2-1c92-428f-94e2-4bd6958c98b7",
   "metadata": {},
   "outputs": [],
   "source": [
    "## Write your code here"
   ]
  },
  {
   "cell_type": "markdown",
   "id": "f916c376-ea4f-496d-951f-2ba0c74c0e60",
   "metadata": {},
   "source": [
    "### Final Step: Review\n"
   ]
  },
  {
   "cell_type": "markdown",
   "id": "b357fedb-809e-4b48-8ee2-fc76a49440a2",
   "metadata": {},
   "source": [
    "This lab demonstrates how to create and interpret different types of bar charts, allowing you to analyze the composition, comparison, and distribution of categorical data in the Stack Overflow dataset, including main professional branches, programming language preferences, and compensation by age group. Bar charts effectively compare counts and median values across various categories.\n"
   ]
  },
  {
   "cell_type": "markdown",
   "id": "01191c36-3bb2-46f3-a06c-122b54ae74c7",
   "metadata": {},
   "source": [
    "## Summary\n"
   ]
  },
  {
   "cell_type": "markdown",
   "id": "1cd42be4-ed18-4a2f-a260-083d3e7be6b8",
   "metadata": {},
   "source": [
    "After completing this lab, you will be able to:\n",
    "- Create a horizontal bar chart to visualize the distribution of respondents' primary roles, helping to understand their professional focus.\n",
    "- Develop a vertical bar chart to identify the most desired programming languages based on the LanguageWantToWorkWith variable.\n",
    "- Use a stacked bar chart to compare job satisfaction metrics across different age groups.\n",
    "- Create a bar chart to visualize the most commonly used databases among respondents using the DatabaseHaveWorkedWith variable.\n"
   ]
  },
  {
   "cell_type": "markdown",
   "id": "97231b48-65e7-42ff-bf55-d458dfe56e67",
   "metadata": {},
   "source": [
    "## Authors:\n",
    "Ayushi Jain\n"
   ]
  },
  {
   "cell_type": "markdown",
   "id": "a8158ccc-d46b-4aac-8544-57ad63884a45",
   "metadata": {},
   "source": [
    "### Other Contributors:\n",
    "- Rav Ahuja\n",
    "- Lakshmi Holla\n",
    "- Malika\n"
   ]
  },
  {
   "cell_type": "markdown",
   "id": "2b14bf66-b13f-4776-8943-c2b92cb18a63",
   "metadata": {},
   "source": [
    "Copyright © IBM Corporation. All rights reserved.\n"
   ]
  }
 ],
 "metadata": {
  "kernelspec": {
   "display_name": ".venv",
   "language": "python",
   "name": "python3"
  },
  "language_info": {
   "codemirror_mode": {
    "name": "ipython",
    "version": 3
   },
   "file_extension": ".py",
   "mimetype": "text/x-python",
   "name": "python",
   "nbconvert_exporter": "python",
   "pygments_lexer": "ipython3",
   "version": "3.13.0"
  },
  "prev_pub_hash": "c7b0f261bbbd9a2050220f8bb249fc1e03006fca34975b73688a9bd2eab6f435"
 },
 "nbformat": 4,
 "nbformat_minor": 4
}
