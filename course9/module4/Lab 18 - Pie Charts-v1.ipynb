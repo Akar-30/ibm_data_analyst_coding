{
 "cells": [
  {
   "cell_type": "markdown",
   "id": "f7927adb-caba-44d4-9ea3-2db3b6dde075",
   "metadata": {},
   "source": [
    "<p style=\"text-align:center\">\n",
    "    <a href=\"https://skills.network\" target=\"_blank\">\n",
    "    <img src=\"https://cf-courses-data.s3.us.cloud-object-storage.appdomain.cloud/assets/logos/SN_web_lightmode.png\" width=\"200\" alt=\"Skills Network Logo\"  />\n",
    "    </a>\n",
    "</p>\n"
   ]
  },
  {
   "cell_type": "markdown",
   "id": "d15ac64d-06cf-48dd-bfcb-8d51e26cb29f",
   "metadata": {},
   "source": [
    "# **Pie Charts**\n"
   ]
  },
  {
   "cell_type": "markdown",
   "id": "afefaf11-c2f0-4312-a912-a972968711fd",
   "metadata": {},
   "source": [
    "Estimated time needed: **30** minutes\n"
   ]
  },
  {
   "cell_type": "markdown",
   "id": "b5a48ecb-6816-4ea3-a28d-4746c3461548",
   "metadata": {},
   "source": [
    "- In this lab, you will focus on visualizing data.\n",
    "\n",
    "- The provided dataset will be loaded into pandas for analysis.\n",
    "\n",
    "- Various pie charts will be created to:\n",
    "   - Analyze developer preferences.\n",
    "  \n",
    "   - Identify technology usage trends.\n",
    "    \n",
    "- The lab aims to provide insights into key variables using visual representations.\n"
   ]
  },
  {
   "cell_type": "markdown",
   "id": "87e13212-8775-4c08-9440-f96f7c9e9c7c",
   "metadata": {},
   "source": [
    "## Objectives\n"
   ]
  },
  {
   "cell_type": "markdown",
   "id": "672464b1-b675-49a4-8576-2a8600048f10",
   "metadata": {},
   "source": [
    "In this lab you will perform the following:\n"
   ]
  },
  {
   "cell_type": "markdown",
   "id": "cfd36942-4982-4d2e-a6d5-dfdb9dd4262b",
   "metadata": {},
   "source": [
    "-   Visualize the distribution of data.\n",
    "\n",
    "-   Visualize the relationship between two features.\n",
    "\n",
    "-   Visualize composition of data.\n",
    "\n",
    "-   Visualize comparison of data.\n"
   ]
  },
  {
   "cell_type": "markdown",
   "id": "84f814ac-17ba-48d7-9878-da17ea01fbf4",
   "metadata": {},
   "source": [
    "## Setup: Downloading and Loading the Data\n",
    "**Install the libraries**\n"
   ]
  },
  {
   "cell_type": "code",
   "execution_count": null,
   "id": "275edf0b-09e3-43b5-ba10-5ed0768b4b5f",
   "metadata": {},
   "outputs": [],
   "source": [
    "!pip install pandas"
   ]
  },
  {
   "cell_type": "code",
   "execution_count": null,
   "id": "11e7a2a4-7eef-49b3-906e-02b9812f342b",
   "metadata": {},
   "outputs": [],
   "source": [
    "!pip install matplotlib"
   ]
  },
  {
   "cell_type": "markdown",
   "id": "cd4d7323-e776-4c44-83e5-ba8a8217c990",
   "metadata": {},
   "source": [
    "**Download and Load the Data**\n"
   ]
  },
  {
   "cell_type": "markdown",
   "id": "0883a8ac-b977-47ec-849b-84a36d68fda4",
   "metadata": {},
   "source": [
    "To start, download and load the dataset into a `pandas` DataFrame.\n",
    "\n"
   ]
  },
  {
   "cell_type": "code",
   "execution_count": 1,
   "id": "0ceec37a-47cd-4bf2-b86b-35f35aa7965c",
   "metadata": {},
   "outputs": [
    {
     "data": {
      "text/html": [
       "<div>\n",
       "<style scoped>\n",
       "    .dataframe tbody tr th:only-of-type {\n",
       "        vertical-align: middle;\n",
       "    }\n",
       "\n",
       "    .dataframe tbody tr th {\n",
       "        vertical-align: top;\n",
       "    }\n",
       "\n",
       "    .dataframe thead th {\n",
       "        text-align: right;\n",
       "    }\n",
       "</style>\n",
       "<table border=\"1\" class=\"dataframe\">\n",
       "  <thead>\n",
       "    <tr style=\"text-align: right;\">\n",
       "      <th></th>\n",
       "      <th>ResponseId</th>\n",
       "      <th>MainBranch</th>\n",
       "      <th>Age</th>\n",
       "      <th>Employment</th>\n",
       "      <th>RemoteWork</th>\n",
       "      <th>Check</th>\n",
       "      <th>CodingActivities</th>\n",
       "      <th>EdLevel</th>\n",
       "      <th>LearnCode</th>\n",
       "      <th>LearnCodeOnline</th>\n",
       "      <th>...</th>\n",
       "      <th>WorkedWith_Python</th>\n",
       "      <th>WorkedWith_JavaScript</th>\n",
       "      <th>WorkedWith_R</th>\n",
       "      <th>WorkedWith_TypeScript</th>\n",
       "      <th>WorkedWith_Lua</th>\n",
       "      <th>WorkedWith_HTML/CSS</th>\n",
       "      <th>WorkedWith_Kotlin</th>\n",
       "      <th>WorkedWith_C++</th>\n",
       "      <th>WorkedWith_PowerShell</th>\n",
       "      <th>Age_numeric</th>\n",
       "    </tr>\n",
       "  </thead>\n",
       "  <tbody>\n",
       "    <tr>\n",
       "      <th>0</th>\n",
       "      <td>1</td>\n",
       "      <td>I am a developer by profession</td>\n",
       "      <td>Under 18 years old</td>\n",
       "      <td>Employed, full-time</td>\n",
       "      <td>Remote</td>\n",
       "      <td>Apples</td>\n",
       "      <td>Hobby</td>\n",
       "      <td>Primary school</td>\n",
       "      <td>Books / Physical media</td>\n",
       "      <td>NaN</td>\n",
       "      <td>...</td>\n",
       "      <td>0.0</td>\n",
       "      <td>0.0</td>\n",
       "      <td>0.0</td>\n",
       "      <td>0.0</td>\n",
       "      <td>0.0</td>\n",
       "      <td>0.0</td>\n",
       "      <td>0.0</td>\n",
       "      <td>0.0</td>\n",
       "      <td>0.0</td>\n",
       "      <td>17.0</td>\n",
       "    </tr>\n",
       "    <tr>\n",
       "      <th>1</th>\n",
       "      <td>2</td>\n",
       "      <td>I am a developer by profession</td>\n",
       "      <td>35-44 years old</td>\n",
       "      <td>Employed, full-time</td>\n",
       "      <td>Remote</td>\n",
       "      <td>Apples</td>\n",
       "      <td>Hobby;Contribute to open-source projects;Other...</td>\n",
       "      <td>Bachelor's degree</td>\n",
       "      <td>Books / Physical media;Colleague;On the job tr...</td>\n",
       "      <td>Technical documentation;Blogs;Books;Written Tu...</td>\n",
       "      <td>...</td>\n",
       "      <td>1.0</td>\n",
       "      <td>1.0</td>\n",
       "      <td>0.0</td>\n",
       "      <td>1.0</td>\n",
       "      <td>0.0</td>\n",
       "      <td>1.0</td>\n",
       "      <td>0.0</td>\n",
       "      <td>1.0</td>\n",
       "      <td>0.0</td>\n",
       "      <td>39.5</td>\n",
       "    </tr>\n",
       "    <tr>\n",
       "      <th>2</th>\n",
       "      <td>3</td>\n",
       "      <td>I am a developer by profession</td>\n",
       "      <td>45-54 years old</td>\n",
       "      <td>Employed, full-time</td>\n",
       "      <td>Remote</td>\n",
       "      <td>Apples</td>\n",
       "      <td>Hobby;Contribute to open-source projects;Other...</td>\n",
       "      <td>Master's degree</td>\n",
       "      <td>Books / Physical media;Colleague;On the job tr...</td>\n",
       "      <td>Technical documentation;Blogs;Books;Written Tu...</td>\n",
       "      <td>...</td>\n",
       "      <td>0.0</td>\n",
       "      <td>0.0</td>\n",
       "      <td>0.0</td>\n",
       "      <td>0.0</td>\n",
       "      <td>0.0</td>\n",
       "      <td>0.0</td>\n",
       "      <td>0.0</td>\n",
       "      <td>1.0</td>\n",
       "      <td>0.0</td>\n",
       "      <td>49.5</td>\n",
       "    </tr>\n",
       "    <tr>\n",
       "      <th>3</th>\n",
       "      <td>4</td>\n",
       "      <td>I am learning to code</td>\n",
       "      <td>18-24 years old</td>\n",
       "      <td>Student, full-time</td>\n",
       "      <td>No</td>\n",
       "      <td>Apples</td>\n",
       "      <td>NaN</td>\n",
       "      <td>Some college</td>\n",
       "      <td>Other online resources (e.g., videos, blogs, f...</td>\n",
       "      <td>Stack Overflow;How-to videos;Interactive tutorial</td>\n",
       "      <td>...</td>\n",
       "      <td>1.0</td>\n",
       "      <td>1.0</td>\n",
       "      <td>0.0</td>\n",
       "      <td>1.0</td>\n",
       "      <td>0.0</td>\n",
       "      <td>1.0</td>\n",
       "      <td>0.0</td>\n",
       "      <td>1.0</td>\n",
       "      <td>1.0</td>\n",
       "      <td>21.0</td>\n",
       "    </tr>\n",
       "    <tr>\n",
       "      <th>4</th>\n",
       "      <td>5</td>\n",
       "      <td>I am a developer by profession</td>\n",
       "      <td>18-24 years old</td>\n",
       "      <td>Student, full-time</td>\n",
       "      <td>No</td>\n",
       "      <td>Apples</td>\n",
       "      <td>NaN</td>\n",
       "      <td>Secondary school</td>\n",
       "      <td>Other online resources (e.g., videos, blogs, f...</td>\n",
       "      <td>Technical documentation;Blogs;Written Tutorial...</td>\n",
       "      <td>...</td>\n",
       "      <td>1.0</td>\n",
       "      <td>1.0</td>\n",
       "      <td>1.0</td>\n",
       "      <td>0.0</td>\n",
       "      <td>1.0</td>\n",
       "      <td>1.0</td>\n",
       "      <td>0.0</td>\n",
       "      <td>1.0</td>\n",
       "      <td>0.0</td>\n",
       "      <td>21.0</td>\n",
       "    </tr>\n",
       "  </tbody>\n",
       "</table>\n",
       "<p>5 rows × 156 columns</p>\n",
       "</div>"
      ],
      "text/plain": [
       "   ResponseId                      MainBranch                 Age  \\\n",
       "0           1  I am a developer by profession  Under 18 years old   \n",
       "1           2  I am a developer by profession     35-44 years old   \n",
       "2           3  I am a developer by profession     45-54 years old   \n",
       "3           4           I am learning to code     18-24 years old   \n",
       "4           5  I am a developer by profession     18-24 years old   \n",
       "\n",
       "            Employment RemoteWork   Check  \\\n",
       "0  Employed, full-time     Remote  Apples   \n",
       "1  Employed, full-time     Remote  Apples   \n",
       "2  Employed, full-time     Remote  Apples   \n",
       "3   Student, full-time         No  Apples   \n",
       "4   Student, full-time         No  Apples   \n",
       "\n",
       "                                    CodingActivities            EdLevel  \\\n",
       "0                                              Hobby     Primary school   \n",
       "1  Hobby;Contribute to open-source projects;Other...  Bachelor's degree   \n",
       "2  Hobby;Contribute to open-source projects;Other...    Master's degree   \n",
       "3                                                NaN       Some college   \n",
       "4                                                NaN   Secondary school   \n",
       "\n",
       "                                           LearnCode  \\\n",
       "0                             Books / Physical media   \n",
       "1  Books / Physical media;Colleague;On the job tr...   \n",
       "2  Books / Physical media;Colleague;On the job tr...   \n",
       "3  Other online resources (e.g., videos, blogs, f...   \n",
       "4  Other online resources (e.g., videos, blogs, f...   \n",
       "\n",
       "                                     LearnCodeOnline  ... WorkedWith_Python  \\\n",
       "0                                                NaN  ...               0.0   \n",
       "1  Technical documentation;Blogs;Books;Written Tu...  ...               1.0   \n",
       "2  Technical documentation;Blogs;Books;Written Tu...  ...               0.0   \n",
       "3  Stack Overflow;How-to videos;Interactive tutorial  ...               1.0   \n",
       "4  Technical documentation;Blogs;Written Tutorial...  ...               1.0   \n",
       "\n",
       "   WorkedWith_JavaScript  WorkedWith_R WorkedWith_TypeScript WorkedWith_Lua  \\\n",
       "0                    0.0           0.0                   0.0            0.0   \n",
       "1                    1.0           0.0                   1.0            0.0   \n",
       "2                    0.0           0.0                   0.0            0.0   \n",
       "3                    1.0           0.0                   1.0            0.0   \n",
       "4                    1.0           1.0                   0.0            1.0   \n",
       "\n",
       "  WorkedWith_HTML/CSS WorkedWith_Kotlin WorkedWith_C++ WorkedWith_PowerShell  \\\n",
       "0                 0.0               0.0            0.0                   0.0   \n",
       "1                 1.0               0.0            1.0                   0.0   \n",
       "2                 0.0               0.0            1.0                   0.0   \n",
       "3                 1.0               0.0            1.0                   1.0   \n",
       "4                 1.0               0.0            1.0                   0.0   \n",
       "\n",
       "  Age_numeric  \n",
       "0        17.0  \n",
       "1        39.5  \n",
       "2        49.5  \n",
       "3        21.0  \n",
       "4        21.0  \n",
       "\n",
       "[5 rows x 156 columns]"
      ]
     },
     "execution_count": 1,
     "metadata": {},
     "output_type": "execute_result"
    }
   ],
   "source": [
    "import pandas as pd\n",
    "import matplotlib.pyplot as plt\n",
    "import numpy as np\n",
    "import seaborn as sns\n",
    "df = pd.read_csv('../module3/survey_data_final_m3.csv')\n",
    "\n",
    "# Display the first few rows of the data\n",
    "df.head()"
   ]
  },
  {
   "cell_type": "markdown",
   "id": "681cc0c2-ab4a-4fd5-8342-303d7da19d8b",
   "metadata": {},
   "source": [
    "### Task 1: Visualizing Data Composition with Pie Charts\n"
   ]
  },
  {
   "cell_type": "markdown",
   "id": "a223defd-7629-4b05-9011-e190ec50721e",
   "metadata": {},
   "source": [
    "##### 1.1 Create a Pie Chart of the Top 5 Databases Respondents Want to Work With\n"
   ]
  },
  {
   "cell_type": "markdown",
   "id": "918eeba1-be2c-4ebd-be98-9d540b73328b",
   "metadata": {},
   "source": [
    "In the survey data, the `DatabaseWantToWorkWith` column lists the databases that respondents wish to work with. Let’s visualize the top 5 most-desired databases in a pie chart.\n",
    "\n"
   ]
  },
  {
   "cell_type": "code",
   "execution_count": 10,
   "id": "e10c24f4-f88d-41a8-a56c-88b57c93f451",
   "metadata": {},
   "outputs": [
    {
     "data": {
      "text/plain": [
       "<Axes: ylabel='Count'>"
      ]
     },
     "execution_count": 10,
     "metadata": {},
     "output_type": "execute_result"
    },
    {
     "data": {
      "image/png": "[encoded data removed]",
      "text/plain": [
       "<Figure size 1000x800 with 1 Axes>"
      ]
     },
     "metadata": {},
     "output_type": "display_data"
    }
   ],
   "source": [
    "##Write your code here\n",
    "df['DatabaseWantToWorkWith'].value_counts()\n",
    "unique_values_in_db = df['DatabaseWantToWorkWith'].unique()\n",
    "unique_items = set(x for i in unique_values_in_db for x in str(i).split(';'))\n",
    "unique_items.discard('nan')\n",
    "df_db = pd.DataFrame(\n",
    "    {\n",
    "        'Database': list(unique_items),\n",
    "        'Count': [df['DatabaseWantToWorkWith'].str.contains(item, na=False).sum() for item in unique_items]\n",
    "    }\n",
    ")\n",
    "df_db.sort_values(by='Count', ascending=False, inplace=True)\n",
    "df_db.head().plot(kind='pie', y='Count', labels=df_db['Database'], autopct='%1.1f%%', figsize=(10, 8))"
   ]
  },
  {
   "cell_type": "markdown",
   "id": "8df12a08-3159-4f8b-838e-8496d61ac7f2",
   "metadata": {},
   "source": [
    "The `DevType` column lists the developer types for respondents. We’ll examine the distribution by showing the top 5 developer roles in a pie chart.\n",
    "\n"
   ]
  },
  {
   "cell_type": "code",
   "execution_count": null,
   "id": "da4d5147-5fc1-4cb9-bdd3-e9ec95a72600",
   "metadata": {},
   "outputs": [],
   "source": [
    "##Write your code here"
   ]
  },
  {
   "cell_type": "markdown",
   "id": "8b4980d1-9ce8-4f46-8b75-15c769f33320",
   "metadata": {},
   "source": [
    "##### 1.3 Create a pie chart for the operating systems used by respondents for professional use\n"
   ]
  },
  {
   "cell_type": "markdown",
   "id": "81f7e639-0e36-48a0-8951-c1b6a1bae047",
   "metadata": {},
   "source": [
    "The `OpSysProfessional` use column shows the operating systems developers use professionally. Let’s visualize the distribution of the top operating systems in a pie chart.\n",
    "\n"
   ]
  },
  {
   "cell_type": "code",
   "execution_count": null,
   "id": "166bb1ad-5af0-4adc-96c6-85e1e4e6768a",
   "metadata": {},
   "outputs": [],
   "source": [
    "##Write your code here"
   ]
  },
  {
   "cell_type": "markdown",
   "id": "e3b48619-f81b-46d9-ae43-c0e7778bb827",
   "metadata": {},
   "source": [
    "### Task 2: Additional Visualizations and Comparisons\n"
   ]
  },
  {
   "cell_type": "markdown",
   "id": "85b04f2e-3276-461e-a279-9e089e0fa3db",
   "metadata": {},
   "source": [
    "##### 2.1 Pie Chart for Top 5 Programming Languages Respondents Have Worked With\n"
   ]
  },
  {
   "cell_type": "markdown",
   "id": "52970625-cf13-4c74-bd27-5d2a4aff790e",
   "metadata": {},
   "source": [
    "The `LanguageHaveWorkedWith` column contains the programming languages that respondents have experience with. We’ll plot a pie chart to display the composition of the top 5 languages.\n",
    "\n"
   ]
  },
  {
   "cell_type": "code",
   "execution_count": null,
   "id": "93143925-743f-48da-a472-a5896ffff77c",
   "metadata": {},
   "outputs": [],
   "source": [
    "##Write your code here"
   ]
  },
  {
   "cell_type": "markdown",
   "id": "5cbfc6a2-1d8b-4aa8-af59-a8bc7ac13849",
   "metadata": {},
   "source": [
    "##### 2.2 Pie Chart for Top Collaboration Tools used in Professional Use\n"
   ]
  },
  {
   "cell_type": "markdown",
   "id": "bb98d7f3-608a-4f73-914d-392e6627ad56",
   "metadata": {},
   "source": [
    "Using the `NEWCollabToolsHaveWorkedWith` column, we’ll identify and visualize the top collaboration tools respondents use in their professional work.\n",
    "\n"
   ]
  },
  {
   "cell_type": "code",
   "execution_count": null,
   "id": "1aba3f92-784e-499c-ae2a-7bc51cf2bc85",
   "metadata": {},
   "outputs": [],
   "source": [
    "##Write your code here"
   ]
  },
  {
   "cell_type": "markdown",
   "id": "d3b8278e-c9c5-495c-886c-aeb2ad5f541f",
   "metadata": {},
   "source": [
    "### Task 3: Analyzing and Interpreting Composition\n"
   ]
  },
  {
   "cell_type": "markdown",
   "id": "6b49f93c-2d3a-4eb2-9cad-e6164958fa45",
   "metadata": {},
   "source": [
    "In this task, you will create additional pie charts to analyze specific aspects of the survey data. Use `pandas` and `matplotlib` to complete each task and interpret the findings.\n",
    "\n"
   ]
  },
  {
   "cell_type": "markdown",
   "id": "d9ce7ccc-e33f-4a80-a876-734314de7dcb",
   "metadata": {},
   "source": [
    "##### 3.1 Pie Chart of `Respondents` Most Admired Programming Languages\n"
   ]
  },
  {
   "cell_type": "markdown",
   "id": "b6b5d670-4a4f-427f-9432-0fd1f726832c",
   "metadata": {},
   "source": [
    "The `LanguageAdmired` column lists the programming languages respondents admire most. Create a pie chart to visualize the top 5 admired languages.\n",
    "\n"
   ]
  },
  {
   "cell_type": "code",
   "execution_count": null,
   "id": "32aefc2a-fb2f-4d3b-b134-bba017763c9c",
   "metadata": {},
   "outputs": [],
   "source": [
    "##Write your code here"
   ]
  },
  {
   "cell_type": "markdown",
   "id": "75a67a70-3f03-4162-a21e-9a514f88bfa2",
   "metadata": {},
   "source": [
    "##### 3.2 Pie Chart of Tools Used for AI Development\n"
   ]
  },
  {
   "cell_type": "markdown",
   "id": "0f0d0790-72d2-47b4-bcf2-eda425714621",
   "metadata": {},
   "source": [
    "Using the `AIToolCurrently` Using column, create a pie chart to visualize the top 5 tools developers are currently using for AI development.\n",
    "\n"
   ]
  },
  {
   "cell_type": "code",
   "execution_count": null,
   "id": "aeb8319d-af98-49a3-ae86-b3cda6df9fd6",
   "metadata": {},
   "outputs": [],
   "source": [
    "##Write your code here"
   ]
  },
  {
   "cell_type": "markdown",
   "id": "dc0cc27a-5b91-4767-8b16-9090c8a72e73",
   "metadata": {},
   "source": [
    "##### 3.3 Pie Chart for Preferred Web Frameworks\n"
   ]
  },
  {
   "cell_type": "markdown",
   "id": "1f986481-ebb9-4eac-97b2-ae8174cb1650",
   "metadata": {},
   "source": [
    "The `WebframeWantToWorkWith` column includes web frameworks that respondents are interested in working with. Visualize the top 5 frameworks in a pie chart.\n",
    "\n"
   ]
  },
  {
   "cell_type": "code",
   "execution_count": null,
   "id": "65fedee2-1183-4f78-81f1-b403c5a5b555",
   "metadata": {},
   "outputs": [],
   "source": [
    "##Write your code here"
   ]
  },
  {
   "cell_type": "markdown",
   "id": "e35a888d-8a7a-4f06-bd39-1a1d0aa24396",
   "metadata": {},
   "source": [
    "##### 3.4 Pie Chart for Most Desired Embedded Technologies\n"
   ]
  },
  {
   "cell_type": "markdown",
   "id": "7c9b454e-1575-4688-b701-5fd019a7d122",
   "metadata": {},
   "source": [
    "Using the `EmbeddedWantToWorkWith` column, create a pie chart to show the top 5 most desired embedded technologies that respondents wish to work with.\n",
    "\n"
   ]
  },
  {
   "cell_type": "code",
   "execution_count": null,
   "id": "98f1af71-9a33-437c-b7a3-d8a6c9d09f6a",
   "metadata": {},
   "outputs": [],
   "source": [
    "##Write your code here"
   ]
  },
  {
   "cell_type": "markdown",
   "id": "79fa8b0a-b78e-4760-a1de-685ab07b90af",
   "metadata": {},
   "source": [
    "### Summary\n"
   ]
  },
  {
   "cell_type": "markdown",
   "id": "169e51ae-f7cb-470a-9d95-b0c8e89a1269",
   "metadata": {},
   "source": [
    "After completing this lab, you will be able to:\n",
    "- Create pie charts to visualize developer preferences across databases, programming languages, AI tools, and cloud platforms.\n",
    "- Identify trends in technology usage, role distribution, and tool adoption through pie charts.\n",
    "- Analyze and compare data composition across various categories to gain insights into developer preferences.\n",
    "\n",
    "\n"
   ]
  },
  {
   "cell_type": "markdown",
   "id": "d67cf5b5-6a1f-49df-9cec-8cdaca0a2845",
   "metadata": {},
   "source": [
    "## Authors:\n",
    "Ayushi Jain\n"
   ]
  },
  {
   "cell_type": "markdown",
   "id": "f318444c-bb2a-4ccc-a12d-9d977496cfb3",
   "metadata": {},
   "source": [
    "### Other Contributors:\n",
    "- Rav Ahuja\n",
    "- Lakshmi Holla\n",
    "- Malika\n"
   ]
  },
  {
   "cell_type": "markdown",
   "id": "0ad35a83-2db2-49da-966b-452fa9709474",
   "metadata": {},
   "source": [
    "Copyright © IBM Corporation. All rights reserved.\n"
   ]
  }
 ],
 "metadata": {
  "kernelspec": {
   "display_name": ".venv",
   "language": "python",
   "name": "python3"
  },
  "language_info": {
   "codemirror_mode": {
    "name": "ipython",
    "version": 3
   },
   "file_extension": ".py",
   "mimetype": "text/x-python",
   "name": "python",
   "nbconvert_exporter": "python",
   "pygments_lexer": "ipython3",
   "version": "3.13.0"
  },
  "prev_pub_hash": "c9bfb96af6d717f3b7a71610b331a39856d9547d00ab3ac91609054ed40eeb50"
 },
 "nbformat": 4,
 "nbformat_minor": 4
}
