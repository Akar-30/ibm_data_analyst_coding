{
 "cells": [
  {
   "cell_type": "markdown",
   "id": "9c06fdcc-421a-46c2-949d-a579b1e20e55",
   "metadata": {},
   "source": [
    "<p style=\"text-align:center\">\n",
    "    <a href=\"https://skills.network\" target=\"_blank\">\n",
    "    <img src=\"https://cf-courses-data.s3.us.cloud-object-storage.appdomain.cloud/assets/logos/SN_web_lightmode.png\" width=\"200\" alt=\"Skills Network Logo\"  />\n",
    "    </a>\n",
    "</p>\n"
   ]
  },
  {
   "cell_type": "markdown",
   "id": "61dae894-7e6f-4049-ad89-28c7295a386e",
   "metadata": {},
   "source": [
    "# **Removing Duplicates**\n"
   ]
  },
  {
   "cell_type": "markdown",
   "id": "95fea4c1-f8e5-4ca1-9fd9-5efb239e44c7",
   "metadata": {},
   "source": [
    "Estimated time needed: **45 to 60** minutes\n"
   ]
  },
  {
   "cell_type": "markdown",
   "id": "592eb6d9-0ba6-4c28-9adb-e972852b6943",
   "metadata": {},
   "source": [
    "## Introduction\n"
   ]
  },
  {
   "cell_type": "markdown",
   "id": "cd76f319-8e7e-408a-a2cc-53a78c4d48d4",
   "metadata": {},
   "source": [
    "In this lab, you will focus on data wrangling, an important step in preparing data for analysis. Data wrangling involves cleaning and organizing data to make it suitable for analysis. One key task in this process is removing duplicate entries, which are repeated entries that can distort analysis and lead to inaccurate conclusions.  \n"
   ]
  },
  {
   "cell_type": "markdown",
   "id": "595c4424-6dcb-491e-aecd-ac830c71a393",
   "metadata": {},
   "source": [
    "## Objectives\n"
   ]
  },
  {
   "cell_type": "markdown",
   "id": "2e0b98e7-c074-47d7-8fc0-61286f3031aa",
   "metadata": {},
   "source": [
    "In this lab you will perform the following:\n"
   ]
  },
  {
   "cell_type": "markdown",
   "id": "2b8be0a5-d65c-43c0-af2c-fb6e8e9251f3",
   "metadata": {},
   "source": [
    "1. Identify duplicate rows  in the dataset.\n",
    "2. Use suitable techniques to remove duplicate rows and verify the removal.\n",
    "3. Summarize how to handle missing values appropriately.\n",
    "4. Use ConvertedCompYearly to normalize compensation data.\n",
    "   \n"
   ]
  },
  {
   "cell_type": "markdown",
   "id": "47ef63f6-5f6f-429a-9776-d3d9acc1a432",
   "metadata": {},
   "source": [
    "### Install the Required Libraries\n"
   ]
  },
  {
   "cell_type": "code",
   "execution_count": null,
   "id": "64a7efff-df6d-45b7-a0e5-b57e2c098c80",
   "metadata": {},
   "outputs": [],
   "source": [
    "!pip install pandas"
   ]
  },
  {
   "cell_type": "markdown",
   "id": "0e2694af-c2e4-4755-a900-efc385425f1f",
   "metadata": {},
   "source": [
    "### Step 1: Import Required Libraries\n"
   ]
  },
  {
   "cell_type": "code",
   "execution_count": 1,
   "id": "32ff93ab-d691-4619-b164-77f8f4b8afd0",
   "metadata": {},
   "outputs": [],
   "source": [
    "import pandas as pd"
   ]
  },
  {
   "cell_type": "markdown",
   "id": "f0a26da2-5e8e-40b5-aa77-e3572a408466",
   "metadata": {},
   "source": [
    "### Step 2: Load the Dataset into a DataFrame\n"
   ]
  },
  {
   "cell_type": "markdown",
   "id": "33d89389-bc92-4957-a7e8-3940a651b158",
   "metadata": {},
   "source": [
    "#### **Read Data**\n"
   ]
  },
  {
   "cell_type": "markdown",
   "id": "a0036976-1f29-4986-a7bc-e025b19b4b84",
   "metadata": {},
   "source": [
    "If you are using JupyterLite, use the code below to download the dataset into your environment. If you are using a local environment, you can use the direct URL with <code>pd.read_csv()</code>.\n"
   ]
  },
  {
   "cell_type": "code",
   "execution_count": null,
   "id": "c59463d7-475e-489d-bddb-93950e5380a1",
   "metadata": {},
   "outputs": [],
   "source": [
    "from pyodide.http import pyfetch\n",
    "\n",
    "async def download(url, filename):\n",
    "    response = await pyfetch(url)\n",
    "    if response.status == 200:\n",
    "        with open(filename, \"wb\") as f:\n",
    "            f.write(await response.bytes())\n",
    "\n",
    "# Define the file path for the data\n",
    "file_path = \"https://cf-courses-data.s3.us.cloud-object-storage.appdomain.cloud/n01PQ9pSmiRX6520flujwQ/survey-data.csv\"\n",
    "\n",
    "# Download the dataset\n",
    "await download(file_path, \"survey_data.csv\")\n",
    "file_name = \"survey_data.csv\"\n"
   ]
  },
  {
   "cell_type": "markdown",
   "id": "f8fbb262-83ad-4b4b-9a66-60b942ebe17c",
   "metadata": {},
   "source": [
    "**Load the data into a pandas dataframe:**\n"
   ]
  },
  {
   "cell_type": "code",
   "execution_count": 2,
   "id": "84381dc9-7d78-4399-9733-2845bf533498",
   "metadata": {},
   "outputs": [],
   "source": [
    "df = pd.read_csv('../survey-data.csv')"
   ]
  },
  {
   "cell_type": "markdown",
   "id": "08cefe1d-ebd0-4b75-8c31-41165bd70ee6",
   "metadata": {},
   "source": [
    "**Note: If you are working on a local Jupyter environment, you can use the URL directly in the <code>pandas.read_csv()</code>  function as shown below:**\n",
    "\n"
   ]
  },
  {
   "cell_type": "markdown",
   "id": "1055e943-8523-48d6-a9e8-528f712a6fba",
   "metadata": {},
   "source": [
    "##### df = pd.read_csv(\"https://cf-courses-data.s3.us.cloud-object-storage.appdomain.cloud/n01PQ9pSmiRX6520flujwQ/survey-data.csv\")\n"
   ]
  },
  {
   "cell_type": "markdown",
   "id": "7ac2e82f-3e0b-4c5d-94d2-b3a45953d0b3",
   "metadata": {},
   "source": [
    "### Step 3: Identifying Duplicate Rows\n"
   ]
  },
  {
   "cell_type": "markdown",
   "id": "c07e51cf-5025-449d-8502-2253e1f5705b",
   "metadata": {},
   "source": [
    "**Task 1: Identify Duplicate Rows**\n",
    "  1. Count the number of duplicate rows in the dataset.\n",
    "  2. Display the first few duplicate rows to understand their structure.\n"
   ]
  },
  {
   "cell_type": "code",
   "execution_count": 3,
   "id": "829ae242-52c6-43ff-8aa3-a4b9dde8f8d0",
   "metadata": {},
   "outputs": [],
   "source": [
    "# your code goes here\n",
    "df_dup = df[df.duplicated()]"
   ]
  },
  {
   "cell_type": "code",
   "execution_count": 4,
   "metadata": {},
   "outputs": [
    {
     "data": {
      "text/plain": [
       "(0, 114)"
      ]
     },
     "execution_count": 4,
     "metadata": {},
     "output_type": "execute_result"
    }
   ],
   "source": [
    "df_dup.shape"
   ]
  },
  {
   "cell_type": "markdown",
   "id": "4eabe8f9-8d48-406e-9364-9385cc2e93dd",
   "metadata": {},
   "source": [
    "### Step 4: Removing Duplicate Rows\n"
   ]
  },
  {
   "cell_type": "markdown",
   "id": "2a612ce2-e214-468d-863c-319889bd7f03",
   "metadata": {},
   "source": [
    "**Task 2: Remove Duplicates**\n",
    "   1. Remove duplicate rows from the dataset using the drop_duplicates() function.\n",
    "2. Verify the removal by counting the number of duplicate rows after removal .\n"
   ]
  },
  {
   "cell_type": "code",
   "execution_count": 5,
   "id": "c7baa7d9-53e8-4237-bfcd-e3228c92aae4",
   "metadata": {},
   "outputs": [
    {
     "name": "stdout",
     "output_type": "stream",
     "text": [
      "The number of rows before removing duplicates: 65437\n",
      "The number of rows after removing duplicates: 65437\n"
     ]
    }
   ],
   "source": [
    "# your code goes here\n",
    "print(f\"The number of rows before removing duplicates: {df.shape[0]}\")\n",
    "df.drop_duplicates(inplace=True)\n",
    "print(f\"The number of rows after removing duplicates: {df.shape[0]}\")"
   ]
  },
  {
   "cell_type": "markdown",
   "id": "be06f8d7-a07a-489e-a5bd-c4b84e8c5f7c",
   "metadata": {},
   "source": [
    "### Step 5: Handling Missing Values\n"
   ]
  },
  {
   "cell_type": "markdown",
   "id": "cc9ad921-45a0-492c-b52e-062204402a25",
   "metadata": {},
   "source": [
    "**Task 3: Identify and Handle Missing Values**\n",
    "   1. Identify missing values for all columns in the dataset.\n",
    "   2. Choose a column with significant missing values (e.g., EdLevel) and impute with the most frequent value.\n"
   ]
  },
  {
   "cell_type": "code",
   "execution_count": null,
   "id": "ae28feab-86b7-4202-bb6f-e92c926eb99d",
   "metadata": {},
   "outputs": [
    {
     "data": {
      "text/html": [
       "<div>\n",
       "<style scoped>\n",
       "    .dataframe tbody tr th:only-of-type {\n",
       "        vertical-align: middle;\n",
       "    }\n",
       "\n",
       "    .dataframe tbody tr th {\n",
       "        vertical-align: top;\n",
       "    }\n",
       "\n",
       "    .dataframe thead th {\n",
       "        text-align: right;\n",
       "    }\n",
       "</style>\n",
       "<table border=\"1\" class=\"dataframe\">\n",
       "  <thead>\n",
       "    <tr style=\"text-align: right;\">\n",
       "      <th></th>\n",
       "      <th>ResponseId</th>\n",
       "      <th>MainBranch</th>\n",
       "      <th>Age</th>\n",
       "      <th>Employment</th>\n",
       "      <th>RemoteWork</th>\n",
       "      <th>Check</th>\n",
       "      <th>CodingActivities</th>\n",
       "      <th>EdLevel</th>\n",
       "      <th>LearnCode</th>\n",
       "      <th>LearnCodeOnline</th>\n",
       "      <th>...</th>\n",
       "      <th>JobSatPoints_6</th>\n",
       "      <th>JobSatPoints_7</th>\n",
       "      <th>JobSatPoints_8</th>\n",
       "      <th>JobSatPoints_9</th>\n",
       "      <th>JobSatPoints_10</th>\n",
       "      <th>JobSatPoints_11</th>\n",
       "      <th>SurveyLength</th>\n",
       "      <th>SurveyEase</th>\n",
       "      <th>ConvertedCompYearly</th>\n",
       "      <th>JobSat</th>\n",
       "    </tr>\n",
       "  </thead>\n",
       "  <tbody>\n",
       "    <tr>\n",
       "      <th>0</th>\n",
       "      <td>False</td>\n",
       "      <td>False</td>\n",
       "      <td>False</td>\n",
       "      <td>False</td>\n",
       "      <td>False</td>\n",
       "      <td>False</td>\n",
       "      <td>False</td>\n",
       "      <td>False</td>\n",
       "      <td>False</td>\n",
       "      <td>True</td>\n",
       "      <td>...</td>\n",
       "      <td>True</td>\n",
       "      <td>True</td>\n",
       "      <td>True</td>\n",
       "      <td>True</td>\n",
       "      <td>True</td>\n",
       "      <td>True</td>\n",
       "      <td>True</td>\n",
       "      <td>True</td>\n",
       "      <td>True</td>\n",
       "      <td>True</td>\n",
       "    </tr>\n",
       "    <tr>\n",
       "      <th>1</th>\n",
       "      <td>False</td>\n",
       "      <td>False</td>\n",
       "      <td>False</td>\n",
       "      <td>False</td>\n",
       "      <td>False</td>\n",
       "      <td>False</td>\n",
       "      <td>False</td>\n",
       "      <td>False</td>\n",
       "      <td>False</td>\n",
       "      <td>False</td>\n",
       "      <td>...</td>\n",
       "      <td>False</td>\n",
       "      <td>False</td>\n",
       "      <td>False</td>\n",
       "      <td>False</td>\n",
       "      <td>False</td>\n",
       "      <td>False</td>\n",
       "      <td>True</td>\n",
       "      <td>True</td>\n",
       "      <td>True</td>\n",
       "      <td>True</td>\n",
       "    </tr>\n",
       "    <tr>\n",
       "      <th>2</th>\n",
       "      <td>False</td>\n",
       "      <td>False</td>\n",
       "      <td>False</td>\n",
       "      <td>False</td>\n",
       "      <td>False</td>\n",
       "      <td>False</td>\n",
       "      <td>False</td>\n",
       "      <td>False</td>\n",
       "      <td>False</td>\n",
       "      <td>False</td>\n",
       "      <td>...</td>\n",
       "      <td>True</td>\n",
       "      <td>True</td>\n",
       "      <td>True</td>\n",
       "      <td>True</td>\n",
       "      <td>True</td>\n",
       "      <td>True</td>\n",
       "      <td>False</td>\n",
       "      <td>False</td>\n",
       "      <td>True</td>\n",
       "      <td>True</td>\n",
       "    </tr>\n",
       "    <tr>\n",
       "      <th>3</th>\n",
       "      <td>False</td>\n",
       "      <td>False</td>\n",
       "      <td>False</td>\n",
       "      <td>False</td>\n",
       "      <td>True</td>\n",
       "      <td>False</td>\n",
       "      <td>True</td>\n",
       "      <td>False</td>\n",
       "      <td>False</td>\n",
       "      <td>False</td>\n",
       "      <td>...</td>\n",
       "      <td>True</td>\n",
       "      <td>True</td>\n",
       "      <td>True</td>\n",
       "      <td>True</td>\n",
       "      <td>True</td>\n",
       "      <td>True</td>\n",
       "      <td>False</td>\n",
       "      <td>False</td>\n",
       "      <td>True</td>\n",
       "      <td>True</td>\n",
       "    </tr>\n",
       "    <tr>\n",
       "      <th>4</th>\n",
       "      <td>False</td>\n",
       "      <td>False</td>\n",
       "      <td>False</td>\n",
       "      <td>False</td>\n",
       "      <td>True</td>\n",
       "      <td>False</td>\n",
       "      <td>True</td>\n",
       "      <td>False</td>\n",
       "      <td>False</td>\n",
       "      <td>False</td>\n",
       "      <td>...</td>\n",
       "      <td>True</td>\n",
       "      <td>True</td>\n",
       "      <td>True</td>\n",
       "      <td>True</td>\n",
       "      <td>True</td>\n",
       "      <td>True</td>\n",
       "      <td>False</td>\n",
       "      <td>False</td>\n",
       "      <td>True</td>\n",
       "      <td>True</td>\n",
       "    </tr>\n",
       "    <tr>\n",
       "      <th>...</th>\n",
       "      <td>...</td>\n",
       "      <td>...</td>\n",
       "      <td>...</td>\n",
       "      <td>...</td>\n",
       "      <td>...</td>\n",
       "      <td>...</td>\n",
       "      <td>...</td>\n",
       "      <td>...</td>\n",
       "      <td>...</td>\n",
       "      <td>...</td>\n",
       "      <td>...</td>\n",
       "      <td>...</td>\n",
       "      <td>...</td>\n",
       "      <td>...</td>\n",
       "      <td>...</td>\n",
       "      <td>...</td>\n",
       "      <td>...</td>\n",
       "      <td>...</td>\n",
       "      <td>...</td>\n",
       "      <td>...</td>\n",
       "      <td>...</td>\n",
       "    </tr>\n",
       "    <tr>\n",
       "      <th>65432</th>\n",
       "      <td>False</td>\n",
       "      <td>False</td>\n",
       "      <td>False</td>\n",
       "      <td>False</td>\n",
       "      <td>False</td>\n",
       "      <td>False</td>\n",
       "      <td>False</td>\n",
       "      <td>False</td>\n",
       "      <td>False</td>\n",
       "      <td>True</td>\n",
       "      <td>...</td>\n",
       "      <td>True</td>\n",
       "      <td>True</td>\n",
       "      <td>True</td>\n",
       "      <td>True</td>\n",
       "      <td>True</td>\n",
       "      <td>True</td>\n",
       "      <td>True</td>\n",
       "      <td>True</td>\n",
       "      <td>True</td>\n",
       "      <td>True</td>\n",
       "    </tr>\n",
       "    <tr>\n",
       "      <th>65433</th>\n",
       "      <td>False</td>\n",
       "      <td>False</td>\n",
       "      <td>False</td>\n",
       "      <td>False</td>\n",
       "      <td>False</td>\n",
       "      <td>False</td>\n",
       "      <td>False</td>\n",
       "      <td>True</td>\n",
       "      <td>True</td>\n",
       "      <td>True</td>\n",
       "      <td>...</td>\n",
       "      <td>True</td>\n",
       "      <td>True</td>\n",
       "      <td>True</td>\n",
       "      <td>True</td>\n",
       "      <td>True</td>\n",
       "      <td>True</td>\n",
       "      <td>True</td>\n",
       "      <td>True</td>\n",
       "      <td>True</td>\n",
       "      <td>True</td>\n",
       "    </tr>\n",
       "    <tr>\n",
       "      <th>65434</th>\n",
       "      <td>False</td>\n",
       "      <td>False</td>\n",
       "      <td>False</td>\n",
       "      <td>False</td>\n",
       "      <td>False</td>\n",
       "      <td>False</td>\n",
       "      <td>False</td>\n",
       "      <td>False</td>\n",
       "      <td>False</td>\n",
       "      <td>False</td>\n",
       "      <td>...</td>\n",
       "      <td>True</td>\n",
       "      <td>True</td>\n",
       "      <td>True</td>\n",
       "      <td>True</td>\n",
       "      <td>True</td>\n",
       "      <td>True</td>\n",
       "      <td>True</td>\n",
       "      <td>True</td>\n",
       "      <td>True</td>\n",
       "      <td>True</td>\n",
       "    </tr>\n",
       "    <tr>\n",
       "      <th>65435</th>\n",
       "      <td>False</td>\n",
       "      <td>False</td>\n",
       "      <td>False</td>\n",
       "      <td>False</td>\n",
       "      <td>False</td>\n",
       "      <td>False</td>\n",
       "      <td>False</td>\n",
       "      <td>False</td>\n",
       "      <td>False</td>\n",
       "      <td>False</td>\n",
       "      <td>...</td>\n",
       "      <td>False</td>\n",
       "      <td>False</td>\n",
       "      <td>False</td>\n",
       "      <td>False</td>\n",
       "      <td>False</td>\n",
       "      <td>False</td>\n",
       "      <td>True</td>\n",
       "      <td>True</td>\n",
       "      <td>True</td>\n",
       "      <td>True</td>\n",
       "    </tr>\n",
       "    <tr>\n",
       "      <th>65436</th>\n",
       "      <td>False</td>\n",
       "      <td>False</td>\n",
       "      <td>False</td>\n",
       "      <td>False</td>\n",
       "      <td>True</td>\n",
       "      <td>False</td>\n",
       "      <td>True</td>\n",
       "      <td>True</td>\n",
       "      <td>True</td>\n",
       "      <td>True</td>\n",
       "      <td>...</td>\n",
       "      <td>True</td>\n",
       "      <td>True</td>\n",
       "      <td>True</td>\n",
       "      <td>True</td>\n",
       "      <td>True</td>\n",
       "      <td>True</td>\n",
       "      <td>True</td>\n",
       "      <td>True</td>\n",
       "      <td>True</td>\n",
       "      <td>True</td>\n",
       "    </tr>\n",
       "  </tbody>\n",
       "</table>\n",
       "<p>65437 rows × 114 columns</p>\n",
       "</div>"
      ],
      "text/plain": [
       "       ResponseId  MainBranch    Age  Employment  RemoteWork  Check  \\\n",
       "0           False       False  False       False       False  False   \n",
       "1           False       False  False       False       False  False   \n",
       "2           False       False  False       False       False  False   \n",
       "3           False       False  False       False        True  False   \n",
       "4           False       False  False       False        True  False   \n",
       "...           ...         ...    ...         ...         ...    ...   \n",
       "65432       False       False  False       False       False  False   \n",
       "65433       False       False  False       False       False  False   \n",
       "65434       False       False  False       False       False  False   \n",
       "65435       False       False  False       False       False  False   \n",
       "65436       False       False  False       False        True  False   \n",
       "\n",
       "       CodingActivities  EdLevel  LearnCode  LearnCodeOnline  ...  \\\n",
       "0                 False    False      False             True  ...   \n",
       "1                 False    False      False            False  ...   \n",
       "2                 False    False      False            False  ...   \n",
       "3                  True    False      False            False  ...   \n",
       "4                  True    False      False            False  ...   \n",
       "...                 ...      ...        ...              ...  ...   \n",
       "65432             False    False      False             True  ...   \n",
       "65433             False     True       True             True  ...   \n",
       "65434             False    False      False            False  ...   \n",
       "65435             False    False      False            False  ...   \n",
       "65436              True     True       True             True  ...   \n",
       "\n",
       "       JobSatPoints_6  JobSatPoints_7  JobSatPoints_8  JobSatPoints_9  \\\n",
       "0                True            True            True            True   \n",
       "1               False           False           False           False   \n",
       "2                True            True            True            True   \n",
       "3                True            True            True            True   \n",
       "4                True            True            True            True   \n",
       "...               ...             ...             ...             ...   \n",
       "65432            True            True            True            True   \n",
       "65433            True            True            True            True   \n",
       "65434            True            True            True            True   \n",
       "65435           False           False           False           False   \n",
       "65436            True            True            True            True   \n",
       "\n",
       "       JobSatPoints_10  JobSatPoints_11  SurveyLength  SurveyEase  \\\n",
       "0                 True             True          True        True   \n",
       "1                False            False          True        True   \n",
       "2                 True             True         False       False   \n",
       "3                 True             True         False       False   \n",
       "4                 True             True         False       False   \n",
       "...                ...              ...           ...         ...   \n",
       "65432             True             True          True        True   \n",
       "65433             True             True          True        True   \n",
       "65434             True             True          True        True   \n",
       "65435            False            False          True        True   \n",
       "65436             True             True          True        True   \n",
       "\n",
       "       ConvertedCompYearly  JobSat  \n",
       "0                     True    True  \n",
       "1                     True    True  \n",
       "2                     True    True  \n",
       "3                     True    True  \n",
       "4                     True    True  \n",
       "...                    ...     ...  \n",
       "65432                 True    True  \n",
       "65433                 True    True  \n",
       "65434                 True    True  \n",
       "65435                 True    True  \n",
       "65436                 True    True  \n",
       "\n",
       "[65437 rows x 114 columns]"
      ]
     },
     "execution_count": 7,
     "metadata": {},
     "output_type": "execute_result"
    }
   ],
   "source": [
    "# your code goes here\n",
    "df_missing_values = df.isnull()\n"
   ]
  },
  {
   "cell_type": "code",
   "execution_count": 11,
   "metadata": {},
   "outputs": [
    {
     "name": "stdout",
     "output_type": "stream",
     "text": [
      "Column 'ResponseId' has\t\t\t\t\t 0\n",
      "Column 'MainBranch' has\t\t\t\t\t 0\n",
      "Column 'Age' has\t\t\t\t\t 0\n",
      "Column 'Employment' has\t\t\t\t\t 0\n",
      "Column 'RemoteWork' has\t\t\t\t\t 10631\n",
      "Column 'Check' has\t\t\t\t\t 0\n",
      "Column 'CodingActivities' has\t\t\t\t\t 10971\n",
      "Column 'EdLevel' has\t\t\t\t\t 4653\n",
      "Column 'LearnCode' has\t\t\t\t\t 4949\n",
      "Column 'LearnCodeOnline' has\t\t\t\t\t 16200\n",
      "Column 'TechDoc' has\t\t\t\t\t 24540\n",
      "Column 'YearsCode' has\t\t\t\t\t 5568\n",
      "Column 'YearsCodePro' has\t\t\t\t\t 13827\n",
      "Column 'DevType' has\t\t\t\t\t 5992\n",
      "Column 'OrgSize' has\t\t\t\t\t 17957\n",
      "Column 'PurchaseInfluence' has\t\t\t\t\t 18031\n",
      "Column 'BuyNewTool' has\t\t\t\t\t 20256\n",
      "Column 'BuildvsBuy' has\t\t\t\t\t 22079\n",
      "Column 'TechEndorse' has\t\t\t\t\t 21769\n",
      "Column 'Country' has\t\t\t\t\t 6507\n",
      "Column 'Currency' has\t\t\t\t\t 18753\n",
      "Column 'CompTotal' has\t\t\t\t\t 31697\n",
      "Column 'LanguageHaveWorkedWith' has\t\t\t\t\t 5692\n",
      "Column 'LanguageWantToWorkWith' has\t\t\t\t\t 9685\n",
      "Column 'LanguageAdmired' has\t\t\t\t\t 14565\n",
      "Column 'DatabaseHaveWorkedWith' has\t\t\t\t\t 15183\n",
      "Column 'DatabaseWantToWorkWith' has\t\t\t\t\t 22879\n",
      "Column 'DatabaseAdmired' has\t\t\t\t\t 26880\n",
      "Column 'PlatformHaveWorkedWith' has\t\t\t\t\t 23071\n",
      "Column 'PlatformWantToWorkWith' has\t\t\t\t\t 30905\n",
      "Column 'PlatformAdmired' has\t\t\t\t\t 34060\n",
      "Column 'WebframeHaveWorkedWith' has\t\t\t\t\t 20276\n",
      "Column 'WebframeWantToWorkWith' has\t\t\t\t\t 26902\n",
      "Column 'WebframeAdmired' has\t\t\t\t\t 30494\n",
      "Column 'EmbeddedHaveWorkedWith' has\t\t\t\t\t 43223\n",
      "Column 'EmbeddedWantToWorkWith' has\t\t\t\t\t 47837\n",
      "Column 'EmbeddedAdmired' has\t\t\t\t\t 48704\n",
      "Column 'MiscTechHaveWorkedWith' has\t\t\t\t\t 25994\n",
      "Column 'MiscTechWantToWorkWith' has\t\t\t\t\t 32473\n",
      "Column 'MiscTechAdmired' has\t\t\t\t\t 35841\n",
      "Column 'ToolsTechHaveWorkedWith' has\t\t\t\t\t 12955\n",
      "Column 'ToolsTechWantToWorkWith' has\t\t\t\t\t 19353\n",
      "Column 'ToolsTechAdmired' has\t\t\t\t\t 21440\n",
      "Column 'NEWCollabToolsHaveWorkedWith' has\t\t\t\t\t 7845\n",
      "Column 'NEWCollabToolsWantToWorkWith' has\t\t\t\t\t 13350\n",
      "Column 'NEWCollabToolsAdmired' has\t\t\t\t\t 14726\n",
      "Column 'OpSysPersonal use' has\t\t\t\t\t 7263\n",
      "Column 'OpSysProfessional use' has\t\t\t\t\t 12464\n",
      "Column 'OfficeStackAsyncHaveWorkedWith' has\t\t\t\t\t 17344\n",
      "Column 'OfficeStackAsyncWantToWorkWith' has\t\t\t\t\t 26471\n",
      "Column 'OfficeStackAsyncAdmired' has\t\t\t\t\t 28233\n",
      "Column 'OfficeStackSyncHaveWorkedWith' has\t\t\t\t\t 9892\n",
      "Column 'OfficeStackSyncWantToWorkWith' has\t\t\t\t\t 18726\n",
      "Column 'OfficeStackSyncAdmired' has\t\t\t\t\t 20725\n",
      "Column 'AISearchDevHaveWorkedWith' has\t\t\t\t\t 20984\n",
      "Column 'AISearchDevWantToWorkWith' has\t\t\t\t\t 28736\n",
      "Column 'AISearchDevAdmired' has\t\t\t\t\t 29894\n",
      "Column 'NEWSOSites' has\t\t\t\t\t 5151\n",
      "Column 'SOVisitFreq' has\t\t\t\t\t 5901\n",
      "Column 'SOAccount' has\t\t\t\t\t 5877\n",
      "Column 'SOPartFreq' has\t\t\t\t\t 20200\n",
      "Column 'SOHow' has\t\t\t\t\t 6475\n",
      "Column 'SOComm' has\t\t\t\t\t 6274\n",
      "Column 'AISelect' has\t\t\t\t\t 4530\n",
      "Column 'AISent' has\t\t\t\t\t 19564\n",
      "Column 'AIBen' has\t\t\t\t\t 28543\n",
      "Column 'AIAcc' has\t\t\t\t\t 28135\n",
      "Column 'AIComplex' has\t\t\t\t\t 28416\n",
      "Column 'AIToolCurrently Using' has\t\t\t\t\t 30365\n",
      "Column 'AIToolInterested in Using' has\t\t\t\t\t 34746\n",
      "Column 'AIToolNot interested in Using' has\t\t\t\t\t 41023\n",
      "Column 'AINextMuch more integrated' has\t\t\t\t\t 51999\n",
      "Column 'AINextNo change' has\t\t\t\t\t 52939\n",
      "Column 'AINextMore integrated' has\t\t\t\t\t 41009\n",
      "Column 'AINextLess integrated' has\t\t\t\t\t 63082\n",
      "Column 'AINextMuch less integrated' has\t\t\t\t\t 64289\n",
      "Column 'AIThreat' has\t\t\t\t\t 20748\n",
      "Column 'AIEthics' has\t\t\t\t\t 23889\n",
      "Column 'AIChallenges' has\t\t\t\t\t 27906\n",
      "Column 'TBranch' has\t\t\t\t\t 20960\n",
      "Column 'ICorPM' has\t\t\t\t\t 35636\n",
      "Column 'WorkExp' has\t\t\t\t\t 35779\n",
      "Column 'Knowledge_1' has\t\t\t\t\t 36773\n",
      "Column 'Knowledge_2' has\t\t\t\t\t 37416\n",
      "Column 'Knowledge_3' has\t\t\t\t\t 37342\n",
      "Column 'Knowledge_4' has\t\t\t\t\t 37407\n",
      "Column 'Knowledge_5' has\t\t\t\t\t 37557\n",
      "Column 'Knowledge_6' has\t\t\t\t\t 37573\n",
      "Column 'Knowledge_7' has\t\t\t\t\t 37659\n",
      "Column 'Knowledge_8' has\t\t\t\t\t 37679\n",
      "Column 'Knowledge_9' has\t\t\t\t\t 37802\n",
      "Column 'Frequency_1' has\t\t\t\t\t 37068\n",
      "Column 'Frequency_2' has\t\t\t\t\t 37073\n",
      "Column 'Frequency_3' has\t\t\t\t\t 37727\n",
      "Column 'TimeSearching' has\t\t\t\t\t 36526\n",
      "Column 'TimeAnswering' has\t\t\t\t\t 36593\n",
      "Column 'Frustration' has\t\t\t\t\t 37186\n",
      "Column 'ProfessionalTech' has\t\t\t\t\t 37673\n",
      "Column 'ProfessionalCloud' has\t\t\t\t\t 36946\n",
      "Column 'ProfessionalQuestion' has\t\t\t\t\t 36630\n",
      "Column 'Industry' has\t\t\t\t\t 36579\n",
      "Column 'JobSatPoints_1' has\t\t\t\t\t 36113\n",
      "Column 'JobSatPoints_4' has\t\t\t\t\t 36044\n",
      "Column 'JobSatPoints_5' has\t\t\t\t\t 36026\n",
      "Column 'JobSatPoints_6' has\t\t\t\t\t 35987\n",
      "Column 'JobSatPoints_7' has\t\t\t\t\t 35989\n",
      "Column 'JobSatPoints_8' has\t\t\t\t\t 35981\n",
      "Column 'JobSatPoints_9' has\t\t\t\t\t 35981\n",
      "Column 'JobSatPoints_10' has\t\t\t\t\t 35987\n",
      "Column 'JobSatPoints_11' has\t\t\t\t\t 35992\n",
      "Column 'SurveyLength' has\t\t\t\t\t 9255\n",
      "Column 'SurveyEase' has\t\t\t\t\t 9199\n",
      "Column 'ConvertedCompYearly' has\t\t\t\t\t 42002\n",
      "Column 'JobSat' has\t\t\t\t\t 36311\n"
     ]
    }
   ],
   "source": [
    "for col in df_missing_values.columns:\n",
    "    print(f\"Column '{col}' has\\t\\t\\t\\t\\t {df_missing_values[col].value_counts().get(True, 0)}\")"
   ]
  },
  {
   "cell_type": "code",
   "execution_count": 14,
   "metadata": {},
   "outputs": [
    {
     "name": "stdout",
     "output_type": "stream",
     "text": [
      "Column 'ResponseId': int64\n",
      "Column 'MainBranch': object\n",
      "Column 'Age': object\n",
      "Column 'Employment': object\n",
      "Column 'RemoteWork': object\n",
      "Column 'Check': object\n",
      "Column 'CodingActivities': object\n",
      "Column 'EdLevel': object\n",
      "Column 'LearnCode': object\n",
      "Column 'LearnCodeOnline': object\n",
      "Column 'TechDoc': object\n",
      "Column 'YearsCode': object\n",
      "Column 'YearsCodePro': object\n",
      "Column 'DevType': object\n",
      "Column 'OrgSize': object\n",
      "Column 'PurchaseInfluence': object\n",
      "Column 'BuyNewTool': object\n",
      "Column 'BuildvsBuy': object\n",
      "Column 'TechEndorse': object\n",
      "Column 'Country': object\n",
      "Column 'Currency': object\n",
      "Column 'CompTotal': float64\n",
      "Column 'LanguageHaveWorkedWith': object\n",
      "Column 'LanguageWantToWorkWith': object\n",
      "Column 'LanguageAdmired': object\n",
      "Column 'DatabaseHaveWorkedWith': object\n",
      "Column 'DatabaseWantToWorkWith': object\n",
      "Column 'DatabaseAdmired': object\n",
      "Column 'PlatformHaveWorkedWith': object\n",
      "Column 'PlatformWantToWorkWith': object\n",
      "Column 'PlatformAdmired': object\n",
      "Column 'WebframeHaveWorkedWith': object\n",
      "Column 'WebframeWantToWorkWith': object\n",
      "Column 'WebframeAdmired': object\n",
      "Column 'EmbeddedHaveWorkedWith': object\n",
      "Column 'EmbeddedWantToWorkWith': object\n",
      "Column 'EmbeddedAdmired': object\n",
      "Column 'MiscTechHaveWorkedWith': object\n",
      "Column 'MiscTechWantToWorkWith': object\n",
      "Column 'MiscTechAdmired': object\n",
      "Column 'ToolsTechHaveWorkedWith': object\n",
      "Column 'ToolsTechWantToWorkWith': object\n",
      "Column 'ToolsTechAdmired': object\n",
      "Column 'NEWCollabToolsHaveWorkedWith': object\n",
      "Column 'NEWCollabToolsWantToWorkWith': object\n",
      "Column 'NEWCollabToolsAdmired': object\n",
      "Column 'OpSysPersonal use': object\n",
      "Column 'OpSysProfessional use': object\n",
      "Column 'OfficeStackAsyncHaveWorkedWith': object\n",
      "Column 'OfficeStackAsyncWantToWorkWith': object\n",
      "Column 'OfficeStackAsyncAdmired': object\n",
      "Column 'OfficeStackSyncHaveWorkedWith': object\n",
      "Column 'OfficeStackSyncWantToWorkWith': object\n",
      "Column 'OfficeStackSyncAdmired': object\n",
      "Column 'AISearchDevHaveWorkedWith': object\n",
      "Column 'AISearchDevWantToWorkWith': object\n",
      "Column 'AISearchDevAdmired': object\n",
      "Column 'NEWSOSites': object\n",
      "Column 'SOVisitFreq': object\n",
      "Column 'SOAccount': object\n",
      "Column 'SOPartFreq': object\n",
      "Column 'SOHow': object\n",
      "Column 'SOComm': object\n",
      "Column 'AISelect': object\n",
      "Column 'AISent': object\n",
      "Column 'AIBen': object\n",
      "Column 'AIAcc': object\n",
      "Column 'AIComplex': object\n",
      "Column 'AIToolCurrently Using': object\n",
      "Column 'AIToolInterested in Using': object\n",
      "Column 'AIToolNot interested in Using': object\n",
      "Column 'AINextMuch more integrated': object\n",
      "Column 'AINextNo change': object\n",
      "Column 'AINextMore integrated': object\n",
      "Column 'AINextLess integrated': object\n",
      "Column 'AINextMuch less integrated': object\n",
      "Column 'AIThreat': object\n",
      "Column 'AIEthics': object\n",
      "Column 'AIChallenges': object\n",
      "Column 'TBranch': object\n",
      "Column 'ICorPM': object\n",
      "Column 'WorkExp': float64\n",
      "Column 'Knowledge_1': object\n",
      "Column 'Knowledge_2': object\n",
      "Column 'Knowledge_3': object\n",
      "Column 'Knowledge_4': object\n",
      "Column 'Knowledge_5': object\n",
      "Column 'Knowledge_6': object\n",
      "Column 'Knowledge_7': object\n",
      "Column 'Knowledge_8': object\n",
      "Column 'Knowledge_9': object\n",
      "Column 'Frequency_1': object\n",
      "Column 'Frequency_2': object\n",
      "Column 'Frequency_3': object\n",
      "Column 'TimeSearching': object\n",
      "Column 'TimeAnswering': object\n",
      "Column 'Frustration': object\n",
      "Column 'ProfessionalTech': object\n",
      "Column 'ProfessionalCloud': object\n",
      "Column 'ProfessionalQuestion': object\n",
      "Column 'Industry': object\n",
      "Column 'JobSatPoints_1': float64\n",
      "Column 'JobSatPoints_4': float64\n",
      "Column 'JobSatPoints_5': float64\n",
      "Column 'JobSatPoints_6': float64\n",
      "Column 'JobSatPoints_7': float64\n",
      "Column 'JobSatPoints_8': float64\n",
      "Column 'JobSatPoints_9': float64\n",
      "Column 'JobSatPoints_10': float64\n",
      "Column 'JobSatPoints_11': float64\n",
      "Column 'SurveyLength': object\n",
      "Column 'SurveyEase': object\n",
      "Column 'ConvertedCompYearly': float64\n",
      "Column 'JobSat': float64\n"
     ]
    }
   ],
   "source": [
    "for col in df.columns:\n",
    "    print(f\"Column '{col}': {df[col].dtype}\")"
   ]
  },
  {
   "cell_type": "code",
   "execution_count": 16,
   "metadata": {},
   "outputs": [
    {
     "name": "stdout",
     "output_type": "stream",
     "text": [
      "The most frequent education level is: Bachelor’s degree (B.A., B.S., B.Eng., etc.)\n",
      "Bachelor’s degree (B.A., B.S., B.Eng., etc.) is repeated 24942 times.\n"
     ]
    }
   ],
   "source": [
    "most_freq_Edlevel = df['EdLevel'].value_counts().idxmax()\n",
    "print(f\"The most frequent education level is: {most_freq_Edlevel}\")\n",
    "print(f\"{most_freq_Edlevel} is repeated {df['EdLevel'].value_counts().max()} times.\")"
   ]
  },
  {
   "cell_type": "code",
   "execution_count": 17,
   "metadata": {},
   "outputs": [
    {
     "name": "stdout",
     "output_type": "stream",
     "text": [
      "NOW we have 0 missing values in 'EdLevel' column.\n"
     ]
    }
   ],
   "source": [
    "df['EdLevel'].fillna(most_freq_Edlevel, inplace=True)\n",
    "print(f\"NOW we have {df['EdLevel'].isnull().sum()} missing values in 'EdLevel' column.\")"
   ]
  },
  {
   "cell_type": "markdown",
   "id": "86335c8e-529d-4a63-82f6-96e222f07a1e",
   "metadata": {},
   "source": [
    "### Step 6: Normalizing Compensation Data\n"
   ]
  },
  {
   "cell_type": "markdown",
   "id": "404a5e09-d680-49b6-ae78-6e41274d56dc",
   "metadata": {},
   "source": [
    "**Task 4: Normalize Compensation Data Using ConvertedCompYearly**\n",
    "   1. Use the ConvertedCompYearly column for compensation analysis as the normalized annual compensation is already provided.\n",
    "   2. Check for missing values in ConvertedCompYearly and handle them if necessary.\n"
   ]
  },
  {
   "cell_type": "code",
   "execution_count": null,
   "id": "dfafd49c-d4c5-4fc4-8266-ecad29e6480d",
   "metadata": {},
   "outputs": [
    {
     "name": "stderr",
     "output_type": "stream",
     "text": [
      "C:\\Users\\akar\\AppData\\Local\\Temp\\ipykernel_28636\\2546900917.py:3: FutureWarning: A value is trying to be set on a copy of a DataFrame or Series through chained assignment using an inplace method.\n",
      "The behavior will change in pandas 3.0. This inplace method will never work because the intermediate object on which we are setting values always behaves as a copy.\n",
      "\n",
      "For example, when doing 'df[col].method(value, inplace=True)', try using 'df.method({col: value}, inplace=True)' or df[col] = df[col].method(value) instead, to perform the operation inplace on the original object.\n",
      "\n",
      "\n",
      "  df['ConvertedCompYearly'].fillna(compensation_mean, inplace=True)\n"
     ]
    }
   ],
   "source": [
    "# your code goes here\n",
    "compensation_mean = df['ConvertedCompYearly'].mean()\n",
    "df['ConvertedCompYearly'].fillna(compensation_mean, inplace=True)\n",
    "\n"
   ]
  },
  {
   "cell_type": "code",
   "execution_count": null,
   "metadata": {},
   "outputs": [],
   "source": [
    "compensation_max = df['ConvertedCompYearly'].max()\n",
    "compensation_min = df['ConvertedCompYearly'].min()\n",
    "\n",
    "for index in df['ConvertedCompYearly'].index:\n",
    "    df.loc[index, 'ConvertedCompYearly'] = (df['ConvertedCompYearly'][index] - compensation_min) / (compensation_max - compensation_min)"
   ]
  },
  {
   "cell_type": "code",
   "execution_count": 20,
   "metadata": {},
   "outputs": [
    {
     "data": {
      "image/png": "[encoded data removed]",
      "text/plain": [
       "<Figure size 1000x600 with 1 Axes>"
      ]
     },
     "metadata": {},
     "output_type": "display_data"
    }
   ],
   "source": [
    "from matplotlib import pyplot as plt\n",
    "\n",
    "plt.figure(figsize=(10, 6))\n",
    "plt.hist(df['ConvertedCompYearly'], bins=30, color='blue', alpha=0.7)\n",
    "plt.title('Distribution of Converted Compensation (Yearly)')\n",
    "plt.xlabel('Converted Compensation (Yearly)')\n",
    "plt.ylabel('Frequency')\n",
    "plt.grid(axis='y', alpha=0.75)\n",
    "plt.show()\n"
   ]
  },
  {
   "cell_type": "markdown",
   "id": "50ec16e0-6dc9-4405-851a-7b8806d77775",
   "metadata": {},
   "source": [
    "### Step 7: Summary and Next Steps\n"
   ]
  },
  {
   "cell_type": "markdown",
   "id": "4939509b-0488-40b9-8f8b-383017ea6242",
   "metadata": {},
   "source": [
    "**In this lab, you focused on identifying and removing duplicate rows.**\n",
    "\n",
    "- You handled missing values by imputing the most frequent value in a chosen column.\n",
    "\n",
    "- You used ConvertedCompYearly for compensation normalization and handled missing values.\n",
    "\n",
    "- For further analysis, consider exploring other columns or visualizing the cleaned dataset.\n"
   ]
  },
  {
   "cell_type": "markdown",
   "id": "d4f4bad0-a216-4721-b6e7-c0fe1cd51e18",
   "metadata": {},
   "source": [
    "<!--\n",
    "## Change Log\n",
    "\n",
    "|Date (YYYY-MM-DD)|Version|Changed By|Change Description|\n",
    "|-|-|-|-|\n",
    "|2024-11-05|1.2|Madhusudhan Moole|Updated lab|\n",
    "|2024-09-24|1.1|Madhusudhan Moole|Updated lab|\n",
    "|2024-09-23|1.0|Raghul Ramesh|Created lab|\n",
    "\n",
    "--!>\n"
   ]
  },
  {
   "cell_type": "markdown",
   "id": "6810f006-53ee-493e-a29f-837f4ab73310",
   "metadata": {},
   "source": [
    "## <h3 align=\"center\"> © IBM Corporation. All rights reserved. <h3/>\n"
   ]
  }
 ],
 "metadata": {
  "kernelspec": {
   "display_name": ".venv",
   "language": "python",
   "name": "python3"
  },
  "language_info": {
   "codemirror_mode": {
    "name": "ipython",
    "version": 3
   },
   "file_extension": ".py",
   "mimetype": "text/x-python",
   "name": "python",
   "nbconvert_exporter": "python",
   "pygments_lexer": "ipython3",
   "version": "3.13.0"
  },
  "prev_pub_hash": "f78dd679c054b4b4ba83764fae76e380612ff2780b7f9452119e6c3f45824b5a"
 },
 "nbformat": 4,
 "nbformat_minor": 4
}
